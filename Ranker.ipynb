{
 "cells": [
  {
   "cell_type": "code",
   "execution_count": 1,
   "metadata": {
    "execution": {
     "iopub.execute_input": "2023-11-23T21:28:43.368332Z",
     "iopub.status.busy": "2023-11-23T21:28:43.367159Z",
     "iopub.status.idle": "2023-11-23T21:28:43.380342Z",
     "shell.execute_reply": "2023-11-23T21:28:43.379335Z",
     "shell.execute_reply.started": "2023-11-23T21:28:43.368282Z"
    },
    "id": "PDZZQ6LAuSHE",
    "tags": []
   },
   "outputs": [],
   "source": [
    "BANNER = \"\"\"\n",
    "MMWXkolccc:::::::::::::::::::::cclokXWMM\n",
    "MXd,.                              .,dXM\n",
    "Xc.                            ..... .cX\n",
    "k.                            .',;,.. .k\n",
    "d.    ....................... .',;,.. .d\n",
    "d.    'dOOOOOOOOOOOOOOOOOOOkdc'.....  .d\n",
    "d.    ,0MMMMMMMMMMMMMMMMMMMMMWO;.     .d\n",
    "d.    ,0MMMXdcccccccccccclOWMMWd.     .d\n",
    "d.    ,0MMMO'             cXMMWx.     .d\n",
    "d.    ,0MMMXocccccccccccclkWMMWd.     .d\n",
    "d.    ,0MMMMMWWWWWWWWMMWMMMMMWK:.     .d\n",
    "d.    ,0MMMWK000000000XWMMMNOo,.      .d\n",
    "d.    ,0MMM0;.........,xNMMXo.        .d\n",
    "d.    ,0MMM0,          .lKMMWO;.      .d\n",
    "d.    'kXXXk'           .;kXXXO:.     .d\n",
    "x.    ..'''..             .''''..     .x\n",
    "0,                                    ,0\n",
    "Wk,.                                .,kW\n",
    "MWKd:'............................':dKWM\n",
    "MMMMNKOxxddddddddddddddddddddddxxOKNMMMM\n",
    "\"\"\""
   ]
  },
  {
   "cell_type": "code",
   "execution_count": 2,
   "metadata": {
    "execution": {
     "iopub.execute_input": "2023-11-23T21:28:43.467177Z",
     "iopub.status.busy": "2023-11-23T21:28:43.466361Z",
     "iopub.status.idle": "2023-11-23T21:28:43.478499Z",
     "shell.execute_reply": "2023-11-23T21:28:43.477673Z",
     "shell.execute_reply.started": "2023-11-23T21:28:43.467137Z"
    },
    "tags": []
   },
   "outputs": [],
   "source": [
    "#%pip install -U -r requirements.txt"
   ]
  },
  {
   "cell_type": "code",
   "execution_count": 3,
   "metadata": {
    "execution": {
     "iopub.execute_input": "2023-11-24T19:27:30.797930Z",
     "iopub.status.busy": "2023-11-24T19:27:30.796487Z",
     "iopub.status.idle": "2023-11-24T19:27:30.824970Z",
     "shell.execute_reply": "2023-11-24T19:27:30.823822Z",
     "shell.execute_reply.started": "2023-11-24T19:27:30.797874Z"
    },
    "id": "O2NF2CvQlEIv",
    "tags": []
   },
   "outputs": [],
   "source": [
    "import json\n",
    "import math\n",
    "import os\n",
    "import time\n",
    "from functools import partial\n",
    "from urllib.parse import urlencode\n",
    "\n",
    "import faiss\n",
    "import numpy as np\n",
    "import pandas as pd\n",
    "import pyarrow.parquet as pq\n",
    "import requests\n",
    "from catboost import CatBoostRanker, Pool\n",
    "from faiss import read_index, write_index\n",
    "from sentence_transformers import SentenceTransformer\n",
    "import shap\n",
    "import datetime as dt\n",
    "from matplotlib import pyplot as plt"
   ]
  },
  {
   "cell_type": "markdown",
   "metadata": {
    "id": "x1KC2nsVwgKO"
   },
   "source": [
    "# Загрузка данных"
   ]
  },
  {
   "cell_type": "code",
   "execution_count": 4,
   "metadata": {
    "execution": {
     "iopub.execute_input": "2023-11-24T19:27:33.004380Z",
     "iopub.status.busy": "2023-11-24T19:27:33.003701Z",
     "iopub.status.idle": "2023-11-24T19:27:33.016811Z",
     "shell.execute_reply": "2023-11-24T19:27:33.015730Z",
     "shell.execute_reply.started": "2023-11-24T19:27:33.004345Z"
    },
    "tags": []
   },
   "outputs": [],
   "source": [
    "start_time = time.time()"
   ]
  },
  {
   "cell_type": "code",
   "execution_count": null,
   "metadata": {
    "execution": {
     "iopub.execute_input": "2023-11-24T09:56:29.674924Z",
     "iopub.status.busy": "2023-11-24T09:56:29.674370Z",
     "iopub.status.idle": "2023-11-24T09:56:29.687836Z",
     "shell.execute_reply": "2023-11-24T09:56:29.687016Z",
     "shell.execute_reply.started": "2023-11-24T09:56:29.674895Z"
    },
    "id": "DjWrl2vHwfc6",
    "tags": []
   },
   "outputs": [],
   "source": [
    "def download_file(pk, local_name):\n",
    "    base_url = \"https://cloud-api.yandex.net/v1/disk/public/resources/download?\"\n",
    "\n",
    "    final_url = base_url + urlencode(dict(public_key=pk))\n",
    "    response = requests.get(final_url)\n",
    "    download_url = response.json()[\"href\"]\n",
    "\n",
    "    download_response = requests.get(download_url)\n",
    "    with open(local_name, \"wb\") as f:\n",
    "        f.write(download_response.content)\n",
    "        print(f\"File {local_name} downloaded\")\n",
    "\n",
    "\n",
    "def download_from_yandex_disk():\n",
    "    print(BANNER)\n",
    "\n",
    "    files = {\n",
    "        \"features.parquet\": \"https://disk.yandex.ru/d/W_qJitz4dZGzAg\",\n",
    "        \"videos.parquet\": \"https://disk.yandex.ru/d/JXz-oDfKFgm2Dw\",\n",
    "        \"automarkup.parquet\": \"https://disk.yandex.ru/d/vP0FzQHdtxsz4Q\",\n",
    "        \"manualmarkup.csv\": \"https://disk.yandex.ru/d/hDztN1rgW0JNjw\",\n",
    "    }\n",
    "\n",
    "    filenames, filenames_to_delete = files.keys(), []\n",
    "    for filename in filenames:\n",
    "        if os.path.exists(filename):\n",
    "            filenames_to_delete += [filename]\n",
    "    for filename in filenames_to_delete:\n",
    "        del files[filename]\n",
    "\n",
    "    print(f\"Will be download {len(files)} files\")\n",
    "    for filename, link in files.items():\n",
    "        print(f\"{filename} downloading in progress\")\n",
    "        download_file(link, filename)\n",
    "        print(f\"{filename} downloaded\")"
   ]
  },
  {
   "cell_type": "code",
   "execution_count": null,
   "metadata": {
    "colab": {
     "base_uri": "https://localhost:8080/"
    },
    "execution": {
     "iopub.execute_input": "2023-11-23T21:28:59.780016Z",
     "iopub.status.busy": "2023-11-23T21:28:59.779277Z",
     "iopub.status.idle": "2023-11-23T21:28:59.797604Z",
     "shell.execute_reply": "2023-11-23T21:28:59.796628Z",
     "shell.execute_reply.started": "2023-11-23T21:28:59.779981Z"
    },
    "id": "kBfvXaYMg7UB",
    "outputId": "beb43a53-9265-463a-e38d-f8e2b935e4a7",
    "tags": []
   },
   "outputs": [],
   "source": [
    "download_from_yandex_disk()"
   ]
  },
  {
   "cell_type": "code",
   "execution_count": 5,
   "metadata": {
    "execution": {
     "iopub.execute_input": "2023-11-24T19:27:35.921266Z",
     "iopub.status.busy": "2023-11-24T19:27:35.920349Z",
     "iopub.status.idle": "2023-11-24T19:27:35.942070Z",
     "shell.execute_reply": "2023-11-24T19:27:35.940966Z",
     "shell.execute_reply.started": "2023-11-24T19:27:35.921197Z"
    },
    "tags": []
   },
   "outputs": [],
   "source": [
    "seed = 42\n",
    "np.random.seed(seed)"
   ]
  },
  {
   "cell_type": "markdown",
   "metadata": {
    "id": "Xi4z_XXs4W_8"
   },
   "source": [
    "# Формирование базы векторов"
   ]
  },
  {
   "cell_type": "code",
   "execution_count": 6,
   "metadata": {
    "execution": {
     "iopub.execute_input": "2023-11-24T19:36:58.589920Z",
     "iopub.status.busy": "2023-11-24T19:36:58.588873Z",
     "iopub.status.idle": "2023-11-24T19:38:01.457235Z",
     "shell.execute_reply": "2023-11-24T19:38:01.455948Z",
     "shell.execute_reply.started": "2023-11-24T19:36:58.589881Z"
    },
    "tags": []
   },
   "outputs": [],
   "source": [
    "candidates = pd.read_parquet(\n",
    "    \"videos.parquet\", engine=\"pyarrow\", columns=[\"video_id\", \"video_title\"]\n",
    ")"
   ]
  },
  {
   "cell_type": "code",
   "execution_count": 7,
   "metadata": {
    "execution": {
     "iopub.execute_input": "2023-11-24T19:38:01.459900Z",
     "iopub.status.busy": "2023-11-24T19:38:01.459190Z",
     "iopub.status.idle": "2023-11-24T19:38:01.506433Z",
     "shell.execute_reply": "2023-11-24T19:38:01.505208Z",
     "shell.execute_reply.started": "2023-11-24T19:38:01.459862Z"
    }
   },
   "outputs": [
    {
     "data": {
      "text/html": [
       "<div>\n",
       "<style scoped>\n",
       "    .dataframe tbody tr th:only-of-type {\n",
       "        vertical-align: middle;\n",
       "    }\n",
       "\n",
       "    .dataframe tbody tr th {\n",
       "        vertical-align: top;\n",
       "    }\n",
       "\n",
       "    .dataframe thead th {\n",
       "        text-align: right;\n",
       "    }\n",
       "</style>\n",
       "<table border=\"1\" class=\"dataframe\">\n",
       "  <thead>\n",
       "    <tr style=\"text-align: right;\">\n",
       "      <th></th>\n",
       "      <th>video_id</th>\n",
       "      <th>video_title</th>\n",
       "    </tr>\n",
       "  </thead>\n",
       "  <tbody>\n",
       "    <tr>\n",
       "      <th>0</th>\n",
       "      <td>video_6484084</td>\n",
       "      <td>Palia. Рыбалка за час. От 3 до 12 000 голды!</td>\n",
       "    </tr>\n",
       "    <tr>\n",
       "      <th>1</th>\n",
       "      <td>video_1522415</td>\n",
       "      <td>Прощание пройдет на чужбине...Нам будет не хва...</td>\n",
       "    </tr>\n",
       "    <tr>\n",
       "      <th>2</th>\n",
       "      <td>video_642363</td>\n",
       "      <td>#ДОБРОЛАП. ТВОРИМ ДОБРО ВМЕСТЕ!</td>\n",
       "    </tr>\n",
       "    <tr>\n",
       "      <th>3</th>\n",
       "      <td>video_10124356</td>\n",
       "      <td>8</td>\n",
       "    </tr>\n",
       "    <tr>\n",
       "      <th>4</th>\n",
       "      <td>video_16299346</td>\n",
       "      <td>Как обновить или переподключить аккаунт ВК в с...</td>\n",
       "    </tr>\n",
       "  </tbody>\n",
       "</table>\n",
       "</div>"
      ],
      "text/plain": [
       "         video_id                                        video_title\n",
       "0   video_6484084       Palia. Рыбалка за час. От 3 до 12 000 голды!\n",
       "1   video_1522415  Прощание пройдет на чужбине...Нам будет не хва...\n",
       "2    video_642363                    #ДОБРОЛАП. ТВОРИМ ДОБРО ВМЕСТЕ!\n",
       "3  video_10124356                                                  8\n",
       "4  video_16299346  Как обновить или переподключить аккаунт ВК в с..."
      ]
     },
     "execution_count": 7,
     "metadata": {},
     "output_type": "execute_result"
    }
   ],
   "source": [
    "candidates.head()"
   ]
  },
  {
   "cell_type": "code",
   "execution_count": 8,
   "metadata": {},
   "outputs": [
    {
     "data": {
      "text/plain": [
       "(34404561, 2)"
      ]
     },
     "execution_count": 8,
     "metadata": {},
     "output_type": "execute_result"
    }
   ],
   "source": [
    "candidates.shape"
   ]
  },
  {
   "cell_type": "code",
   "execution_count": 9,
   "metadata": {
    "execution": {
     "iopub.execute_input": "2023-11-24T13:48:01.973738Z",
     "iopub.status.busy": "2023-11-24T13:48:01.972832Z",
     "iopub.status.idle": "2023-11-24T13:48:11.594099Z",
     "shell.execute_reply": "2023-11-24T13:48:11.592780Z",
     "shell.execute_reply.started": "2023-11-24T13:48:01.973693Z"
    },
    "tags": []
   },
   "outputs": [],
   "source": [
    "candidates = candidates.sample(n=7_000_000, replace=False, random_state=seed)"
   ]
  },
  {
   "cell_type": "code",
   "execution_count": 10,
   "metadata": {
    "execution": {
     "iopub.execute_input": "2023-11-24T13:48:11.597412Z",
     "iopub.status.busy": "2023-11-24T13:48:11.596229Z",
     "iopub.status.idle": "2023-11-24T13:48:19.695860Z",
     "shell.execute_reply": "2023-11-24T13:48:19.694583Z",
     "shell.execute_reply.started": "2023-11-24T13:48:11.597322Z"
    },
    "id": "F5UF9i8BhM1G",
    "tags": []
   },
   "outputs": [],
   "source": [
    "corpus = candidates[\"video_title\"].apply(lambda x: x.lower()).values\n",
    "video_ids = candidates[\"video_id\"].values\n",
    "del candidates"
   ]
  },
  {
   "cell_type": "code",
   "execution_count": 11,
   "metadata": {
    "execution": {
     "iopub.execute_input": "2023-11-24T15:50:26.339609Z",
     "iopub.status.busy": "2023-11-24T15:50:26.338834Z",
     "iopub.status.idle": "2023-11-24T15:50:26.791762Z",
     "shell.execute_reply": "2023-11-24T15:50:26.790469Z",
     "shell.execute_reply.started": "2023-11-24T15:50:26.339565Z"
    },
    "tags": []
   },
   "outputs": [],
   "source": [
    "st_model = SentenceTransformer(\"cointegrated/rubert-tiny2\", device=\"cuda\")"
   ]
  },
  {
   "cell_type": "code",
   "execution_count": 12,
   "metadata": {
    "execution": {
     "iopub.execute_input": "2023-11-24T15:50:27.158092Z",
     "iopub.status.busy": "2023-11-24T15:50:27.157114Z",
     "iopub.status.idle": "2023-11-24T15:50:27.170818Z",
     "shell.execute_reply": "2023-11-24T15:50:27.169622Z",
     "shell.execute_reply.started": "2023-11-24T15:50:27.158054Z"
    },
    "tags": []
   },
   "outputs": [],
   "source": [
    "# когда прогоните один раз у вас на диске уже будет сохранен faiss индекс\n",
    "# можно поставить значение True, чтобы сэкономить время на формирование индекса\n",
    "use_formed_index = False"
   ]
  },
  {
   "cell_type": "code",
   "execution_count": 13,
   "metadata": {
    "colab": {
     "base_uri": "https://localhost:8080/"
    },
    "execution": {
     "iopub.execute_input": "2023-11-24T15:50:27.456370Z",
     "iopub.status.busy": "2023-11-24T15:50:27.455369Z",
     "iopub.status.idle": "2023-11-24T15:50:27.470131Z",
     "shell.execute_reply": "2023-11-24T15:50:27.469022Z",
     "shell.execute_reply.started": "2023-11-24T15:50:27.456334Z"
    },
    "id": "XMP9z5aKlXvI",
    "outputId": "123d614c-62ee-4b20-a67a-bc1630ea9727",
    "tags": []
   },
   "outputs": [],
   "source": [
    "d = 312\n",
    "if not use_formed_index:\n",
    "    cpu_index = faiss.IndexFlatL2(d)\n",
    "    cpu_index.is_trained, cpu_index.ntotal"
   ]
  },
  {
   "cell_type": "code",
   "execution_count": 14,
   "metadata": {
    "execution": {
     "iopub.execute_input": "2023-11-24T15:50:27.775698Z",
     "iopub.status.busy": "2023-11-24T15:50:27.774779Z",
     "iopub.status.idle": "2023-11-24T15:50:35.902689Z",
     "shell.execute_reply": "2023-11-24T15:50:35.901141Z",
     "shell.execute_reply.started": "2023-11-24T15:50:27.775662Z"
    },
    "id": "VrDl0S0GIs_u",
    "tags": []
   },
   "outputs": [],
   "source": [
    "# если уже есть файл ind2videoid для вашего faiss индекса - True\n",
    "use_formed_id_mapping = False\n",
    "\n",
    "if not use_formed_id_mapping:\n",
    "    ind2videoid = {ind: video_id for ind, video_id in enumerate(video_ids)}\n",
    "    with open(\"ind2videoid.json\", \"w+\") as f:\n",
    "        json.dump(ind2videoid, f, indent=4)\n",
    "else:\n",
    "    with open(\"ind2videoid.json\", \"r\") as f:\n",
    "        ind2videoid = json.load(f)"
   ]
  },
  {
   "cell_type": "code",
   "execution_count": null,
   "metadata": {},
   "outputs": [],
   "source": []
  },
  {
   "cell_type": "code",
   "execution_count": 15,
   "metadata": {
    "execution": {
     "iopub.execute_input": "2023-11-24T15:50:35.905750Z",
     "iopub.status.busy": "2023-11-24T15:50:35.904826Z",
     "iopub.status.idle": "2023-11-24T15:50:35.920741Z",
     "shell.execute_reply": "2023-11-24T15:50:35.919678Z",
     "shell.execute_reply.started": "2023-11-24T15:50:35.905712Z"
    },
    "id": "KPpfKABDIm-i",
    "tags": []
   },
   "outputs": [],
   "source": [
    "batch_size = 100000\n",
    "num_batches = math.ceil(len(corpus) / batch_size)"
   ]
  },
  {
   "cell_type": "code",
   "execution_count": 16,
   "metadata": {
    "execution": {
     "iopub.execute_input": "2023-11-24T15:50:35.923568Z",
     "iopub.status.busy": "2023-11-24T15:50:35.922779Z",
     "iopub.status.idle": "2023-11-24T15:50:35.938028Z",
     "shell.execute_reply": "2023-11-24T15:50:35.936872Z",
     "shell.execute_reply.started": "2023-11-24T15:50:35.923534Z"
    },
    "tags": []
   },
   "outputs": [
    {
     "data": {
      "application/vnd.jupyter.widget-view+json": {
       "model_id": "72bb025afeee4079a20681c454927226",
       "version_major": 2,
       "version_minor": 0
      },
      "text/plain": [
       "Batches:   0%|          | 0/100 [00:00<?, ?it/s]"
      ]
     },
     "metadata": {},
     "output_type": "display_data"
    },
    {
     "name": "stdout",
     "output_type": "stream",
     "text": [
      "batch: 1 / 70\n"
     ]
    },
    {
     "data": {
      "application/vnd.jupyter.widget-view+json": {
       "model_id": "a0f74a48c2c7419580db6cd40cd3b415",
       "version_major": 2,
       "version_minor": 0
      },
      "text/plain": [
       "Batches:   0%|          | 0/100 [00:00<?, ?it/s]"
      ]
     },
     "metadata": {},
     "output_type": "display_data"
    },
    {
     "name": "stdout",
     "output_type": "stream",
     "text": [
      "batch: 2 / 70\n"
     ]
    },
    {
     "data": {
      "application/vnd.jupyter.widget-view+json": {
       "model_id": "c1f4ddf8719f4416962db364ad66205d",
       "version_major": 2,
       "version_minor": 0
      },
      "text/plain": [
       "Batches:   0%|          | 0/100 [00:00<?, ?it/s]"
      ]
     },
     "metadata": {},
     "output_type": "display_data"
    },
    {
     "name": "stdout",
     "output_type": "stream",
     "text": [
      "batch: 3 / 70\n"
     ]
    },
    {
     "data": {
      "application/vnd.jupyter.widget-view+json": {
       "model_id": "02c7f1038f2c4897b7bc65ad3adf6a7c",
       "version_major": 2,
       "version_minor": 0
      },
      "text/plain": [
       "Batches:   0%|          | 0/100 [00:00<?, ?it/s]"
      ]
     },
     "metadata": {},
     "output_type": "display_data"
    },
    {
     "name": "stdout",
     "output_type": "stream",
     "text": [
      "batch: 4 / 70\n"
     ]
    },
    {
     "data": {
      "application/vnd.jupyter.widget-view+json": {
       "model_id": "1225084c47934ccdb437364388fa22ac",
       "version_major": 2,
       "version_minor": 0
      },
      "text/plain": [
       "Batches:   0%|          | 0/100 [00:00<?, ?it/s]"
      ]
     },
     "metadata": {},
     "output_type": "display_data"
    },
    {
     "name": "stdout",
     "output_type": "stream",
     "text": [
      "batch: 5 / 70\n"
     ]
    },
    {
     "data": {
      "application/vnd.jupyter.widget-view+json": {
       "model_id": "bf2815d7bd1f472cb77c0ce8b028d654",
       "version_major": 2,
       "version_minor": 0
      },
      "text/plain": [
       "Batches:   0%|          | 0/100 [00:00<?, ?it/s]"
      ]
     },
     "metadata": {},
     "output_type": "display_data"
    },
    {
     "name": "stdout",
     "output_type": "stream",
     "text": [
      "batch: 6 / 70\n"
     ]
    },
    {
     "data": {
      "application/vnd.jupyter.widget-view+json": {
       "model_id": "9dd988fb8b8540069be3c4c9db31a1b9",
       "version_major": 2,
       "version_minor": 0
      },
      "text/plain": [
       "Batches:   0%|          | 0/100 [00:00<?, ?it/s]"
      ]
     },
     "metadata": {},
     "output_type": "display_data"
    },
    {
     "name": "stdout",
     "output_type": "stream",
     "text": [
      "batch: 7 / 70\n"
     ]
    },
    {
     "data": {
      "application/vnd.jupyter.widget-view+json": {
       "model_id": "58b57c317649499a94472767c2e4b76d",
       "version_major": 2,
       "version_minor": 0
      },
      "text/plain": [
       "Batches:   0%|          | 0/100 [00:00<?, ?it/s]"
      ]
     },
     "metadata": {},
     "output_type": "display_data"
    },
    {
     "name": "stdout",
     "output_type": "stream",
     "text": [
      "batch: 8 / 70\n"
     ]
    },
    {
     "data": {
      "application/vnd.jupyter.widget-view+json": {
       "model_id": "d8903f8acadc4404b752f60ee36125b0",
       "version_major": 2,
       "version_minor": 0
      },
      "text/plain": [
       "Batches:   0%|          | 0/100 [00:00<?, ?it/s]"
      ]
     },
     "metadata": {},
     "output_type": "display_data"
    },
    {
     "name": "stdout",
     "output_type": "stream",
     "text": [
      "batch: 9 / 70\n"
     ]
    },
    {
     "data": {
      "application/vnd.jupyter.widget-view+json": {
       "model_id": "4fe22044e6574e7bbb8a5e0e59933bd0",
       "version_major": 2,
       "version_minor": 0
      },
      "text/plain": [
       "Batches:   0%|          | 0/100 [00:00<?, ?it/s]"
      ]
     },
     "metadata": {},
     "output_type": "display_data"
    },
    {
     "name": "stdout",
     "output_type": "stream",
     "text": [
      "batch: 10 / 70\n"
     ]
    },
    {
     "data": {
      "application/vnd.jupyter.widget-view+json": {
       "model_id": "6554f47acc644388bc0b9ccf4ddaad15",
       "version_major": 2,
       "version_minor": 0
      },
      "text/plain": [
       "Batches:   0%|          | 0/100 [00:00<?, ?it/s]"
      ]
     },
     "metadata": {},
     "output_type": "display_data"
    },
    {
     "name": "stdout",
     "output_type": "stream",
     "text": [
      "batch: 11 / 70\n"
     ]
    },
    {
     "data": {
      "application/vnd.jupyter.widget-view+json": {
       "model_id": "08405b712cc942b7a951795e1763dcdd",
       "version_major": 2,
       "version_minor": 0
      },
      "text/plain": [
       "Batches:   0%|          | 0/100 [00:00<?, ?it/s]"
      ]
     },
     "metadata": {},
     "output_type": "display_data"
    },
    {
     "name": "stdout",
     "output_type": "stream",
     "text": [
      "batch: 12 / 70\n"
     ]
    },
    {
     "data": {
      "application/vnd.jupyter.widget-view+json": {
       "model_id": "882f1765e86d4b879a411fbce69cd5fd",
       "version_major": 2,
       "version_minor": 0
      },
      "text/plain": [
       "Batches:   0%|          | 0/100 [00:00<?, ?it/s]"
      ]
     },
     "metadata": {},
     "output_type": "display_data"
    },
    {
     "name": "stdout",
     "output_type": "stream",
     "text": [
      "batch: 13 / 70\n"
     ]
    },
    {
     "data": {
      "application/vnd.jupyter.widget-view+json": {
       "model_id": "0fc68a986b9540c8979247e64d75947d",
       "version_major": 2,
       "version_minor": 0
      },
      "text/plain": [
       "Batches:   0%|          | 0/100 [00:00<?, ?it/s]"
      ]
     },
     "metadata": {},
     "output_type": "display_data"
    },
    {
     "name": "stdout",
     "output_type": "stream",
     "text": [
      "batch: 14 / 70\n"
     ]
    },
    {
     "data": {
      "application/vnd.jupyter.widget-view+json": {
       "model_id": "82c8531cf58d40e0b2688f4b3fcdfacb",
       "version_major": 2,
       "version_minor": 0
      },
      "text/plain": [
       "Batches:   0%|          | 0/100 [00:00<?, ?it/s]"
      ]
     },
     "metadata": {},
     "output_type": "display_data"
    },
    {
     "name": "stdout",
     "output_type": "stream",
     "text": [
      "batch: 15 / 70\n"
     ]
    },
    {
     "data": {
      "application/vnd.jupyter.widget-view+json": {
       "model_id": "397adb8aec064689830ae4e4fdc1b584",
       "version_major": 2,
       "version_minor": 0
      },
      "text/plain": [
       "Batches:   0%|          | 0/100 [00:00<?, ?it/s]"
      ]
     },
     "metadata": {},
     "output_type": "display_data"
    },
    {
     "name": "stdout",
     "output_type": "stream",
     "text": [
      "batch: 16 / 70\n"
     ]
    },
    {
     "data": {
      "application/vnd.jupyter.widget-view+json": {
       "model_id": "c4bcfe4c67a44fbbb8ebbc1f24ebeae8",
       "version_major": 2,
       "version_minor": 0
      },
      "text/plain": [
       "Batches:   0%|          | 0/100 [00:00<?, ?it/s]"
      ]
     },
     "metadata": {},
     "output_type": "display_data"
    },
    {
     "name": "stdout",
     "output_type": "stream",
     "text": [
      "batch: 17 / 70\n"
     ]
    },
    {
     "data": {
      "application/vnd.jupyter.widget-view+json": {
       "model_id": "3fd0d984be1a4fa385c7e37f1f4f82a8",
       "version_major": 2,
       "version_minor": 0
      },
      "text/plain": [
       "Batches:   0%|          | 0/100 [00:00<?, ?it/s]"
      ]
     },
     "metadata": {},
     "output_type": "display_data"
    },
    {
     "name": "stdout",
     "output_type": "stream",
     "text": [
      "batch: 18 / 70\n"
     ]
    },
    {
     "data": {
      "application/vnd.jupyter.widget-view+json": {
       "model_id": "51458ce435fa48878c66d4bf3873346f",
       "version_major": 2,
       "version_minor": 0
      },
      "text/plain": [
       "Batches:   0%|          | 0/100 [00:00<?, ?it/s]"
      ]
     },
     "metadata": {},
     "output_type": "display_data"
    },
    {
     "name": "stdout",
     "output_type": "stream",
     "text": [
      "batch: 19 / 70\n"
     ]
    },
    {
     "data": {
      "application/vnd.jupyter.widget-view+json": {
       "model_id": "c26509d8f9454eb18d110e7641f55cc7",
       "version_major": 2,
       "version_minor": 0
      },
      "text/plain": [
       "Batches:   0%|          | 0/100 [00:00<?, ?it/s]"
      ]
     },
     "metadata": {},
     "output_type": "display_data"
    },
    {
     "name": "stdout",
     "output_type": "stream",
     "text": [
      "batch: 20 / 70\n"
     ]
    },
    {
     "data": {
      "application/vnd.jupyter.widget-view+json": {
       "model_id": "80764588db7c412786caf3e315c1bfa1",
       "version_major": 2,
       "version_minor": 0
      },
      "text/plain": [
       "Batches:   0%|          | 0/100 [00:00<?, ?it/s]"
      ]
     },
     "metadata": {},
     "output_type": "display_data"
    },
    {
     "name": "stdout",
     "output_type": "stream",
     "text": [
      "batch: 21 / 70\n"
     ]
    },
    {
     "data": {
      "application/vnd.jupyter.widget-view+json": {
       "model_id": "a2948d85343e4ad5937097a4a7d9edc1",
       "version_major": 2,
       "version_minor": 0
      },
      "text/plain": [
       "Batches:   0%|          | 0/100 [00:00<?, ?it/s]"
      ]
     },
     "metadata": {},
     "output_type": "display_data"
    },
    {
     "name": "stdout",
     "output_type": "stream",
     "text": [
      "batch: 22 / 70\n"
     ]
    },
    {
     "data": {
      "application/vnd.jupyter.widget-view+json": {
       "model_id": "d89c4736033944f69748300b4b9a404f",
       "version_major": 2,
       "version_minor": 0
      },
      "text/plain": [
       "Batches:   0%|          | 0/100 [00:00<?, ?it/s]"
      ]
     },
     "metadata": {},
     "output_type": "display_data"
    },
    {
     "name": "stdout",
     "output_type": "stream",
     "text": [
      "batch: 23 / 70\n"
     ]
    },
    {
     "data": {
      "application/vnd.jupyter.widget-view+json": {
       "model_id": "bb4dd251e4a44f67a90f9d759a84788e",
       "version_major": 2,
       "version_minor": 0
      },
      "text/plain": [
       "Batches:   0%|          | 0/100 [00:00<?, ?it/s]"
      ]
     },
     "metadata": {},
     "output_type": "display_data"
    },
    {
     "name": "stdout",
     "output_type": "stream",
     "text": [
      "batch: 24 / 70\n"
     ]
    },
    {
     "data": {
      "application/vnd.jupyter.widget-view+json": {
       "model_id": "fbf4e47ef4af4320a36fec3d252a5c04",
       "version_major": 2,
       "version_minor": 0
      },
      "text/plain": [
       "Batches:   0%|          | 0/100 [00:00<?, ?it/s]"
      ]
     },
     "metadata": {},
     "output_type": "display_data"
    },
    {
     "name": "stdout",
     "output_type": "stream",
     "text": [
      "batch: 25 / 70\n"
     ]
    },
    {
     "data": {
      "application/vnd.jupyter.widget-view+json": {
       "model_id": "cc47ae66fc744044967d85070f746d26",
       "version_major": 2,
       "version_minor": 0
      },
      "text/plain": [
       "Batches:   0%|          | 0/100 [00:00<?, ?it/s]"
      ]
     },
     "metadata": {},
     "output_type": "display_data"
    },
    {
     "name": "stdout",
     "output_type": "stream",
     "text": [
      "batch: 26 / 70\n"
     ]
    },
    {
     "data": {
      "application/vnd.jupyter.widget-view+json": {
       "model_id": "f03a389df2dc4cb7abbfa04c9b355c2d",
       "version_major": 2,
       "version_minor": 0
      },
      "text/plain": [
       "Batches:   0%|          | 0/100 [00:00<?, ?it/s]"
      ]
     },
     "metadata": {},
     "output_type": "display_data"
    },
    {
     "name": "stdout",
     "output_type": "stream",
     "text": [
      "batch: 27 / 70\n"
     ]
    },
    {
     "data": {
      "application/vnd.jupyter.widget-view+json": {
       "model_id": "e459684a298d4fcb9e3f1d1613480ad8",
       "version_major": 2,
       "version_minor": 0
      },
      "text/plain": [
       "Batches:   0%|          | 0/100 [00:00<?, ?it/s]"
      ]
     },
     "metadata": {},
     "output_type": "display_data"
    },
    {
     "name": "stdout",
     "output_type": "stream",
     "text": [
      "batch: 28 / 70\n"
     ]
    },
    {
     "data": {
      "application/vnd.jupyter.widget-view+json": {
       "model_id": "2f69be4770fc49a5a25fa7f797d42abe",
       "version_major": 2,
       "version_minor": 0
      },
      "text/plain": [
       "Batches:   0%|          | 0/100 [00:00<?, ?it/s]"
      ]
     },
     "metadata": {},
     "output_type": "display_data"
    },
    {
     "name": "stdout",
     "output_type": "stream",
     "text": [
      "batch: 29 / 70\n"
     ]
    },
    {
     "data": {
      "application/vnd.jupyter.widget-view+json": {
       "model_id": "a50c15222b624a2d8573260921862ae3",
       "version_major": 2,
       "version_minor": 0
      },
      "text/plain": [
       "Batches:   0%|          | 0/100 [00:00<?, ?it/s]"
      ]
     },
     "metadata": {},
     "output_type": "display_data"
    },
    {
     "name": "stdout",
     "output_type": "stream",
     "text": [
      "batch: 30 / 70\n"
     ]
    },
    {
     "data": {
      "application/vnd.jupyter.widget-view+json": {
       "model_id": "2443264368d24bfaa84fde850b292efa",
       "version_major": 2,
       "version_minor": 0
      },
      "text/plain": [
       "Batches:   0%|          | 0/100 [00:00<?, ?it/s]"
      ]
     },
     "metadata": {},
     "output_type": "display_data"
    },
    {
     "name": "stdout",
     "output_type": "stream",
     "text": [
      "batch: 31 / 70\n"
     ]
    },
    {
     "data": {
      "application/vnd.jupyter.widget-view+json": {
       "model_id": "0da66ed75a6d4b9ea46e1930bcfd2b91",
       "version_major": 2,
       "version_minor": 0
      },
      "text/plain": [
       "Batches:   0%|          | 0/100 [00:00<?, ?it/s]"
      ]
     },
     "metadata": {},
     "output_type": "display_data"
    },
    {
     "name": "stdout",
     "output_type": "stream",
     "text": [
      "batch: 32 / 70\n"
     ]
    },
    {
     "data": {
      "application/vnd.jupyter.widget-view+json": {
       "model_id": "4c4eecdbbc174acfb209d5f6534a95cb",
       "version_major": 2,
       "version_minor": 0
      },
      "text/plain": [
       "Batches:   0%|          | 0/100 [00:00<?, ?it/s]"
      ]
     },
     "metadata": {},
     "output_type": "display_data"
    },
    {
     "name": "stdout",
     "output_type": "stream",
     "text": [
      "batch: 33 / 70\n"
     ]
    },
    {
     "data": {
      "application/vnd.jupyter.widget-view+json": {
       "model_id": "0f13f48f2f064accb2cbbe80038a3f66",
       "version_major": 2,
       "version_minor": 0
      },
      "text/plain": [
       "Batches:   0%|          | 0/100 [00:00<?, ?it/s]"
      ]
     },
     "metadata": {},
     "output_type": "display_data"
    },
    {
     "name": "stdout",
     "output_type": "stream",
     "text": [
      "batch: 34 / 70\n"
     ]
    },
    {
     "data": {
      "application/vnd.jupyter.widget-view+json": {
       "model_id": "b28e9f46fc694238804068e5859a8202",
       "version_major": 2,
       "version_minor": 0
      },
      "text/plain": [
       "Batches:   0%|          | 0/100 [00:00<?, ?it/s]"
      ]
     },
     "metadata": {},
     "output_type": "display_data"
    },
    {
     "name": "stdout",
     "output_type": "stream",
     "text": [
      "batch: 35 / 70\n"
     ]
    },
    {
     "data": {
      "application/vnd.jupyter.widget-view+json": {
       "model_id": "f4b8b541dcbb47658e454091545d23ff",
       "version_major": 2,
       "version_minor": 0
      },
      "text/plain": [
       "Batches:   0%|          | 0/100 [00:00<?, ?it/s]"
      ]
     },
     "metadata": {},
     "output_type": "display_data"
    },
    {
     "name": "stdout",
     "output_type": "stream",
     "text": [
      "batch: 36 / 70\n"
     ]
    },
    {
     "data": {
      "application/vnd.jupyter.widget-view+json": {
       "model_id": "260a3982ca4e427d8a5807c1097329d4",
       "version_major": 2,
       "version_minor": 0
      },
      "text/plain": [
       "Batches:   0%|          | 0/100 [00:00<?, ?it/s]"
      ]
     },
     "metadata": {},
     "output_type": "display_data"
    },
    {
     "name": "stdout",
     "output_type": "stream",
     "text": [
      "batch: 37 / 70\n"
     ]
    },
    {
     "data": {
      "application/vnd.jupyter.widget-view+json": {
       "model_id": "5bc1784090ad47abadfc46ce68a1e408",
       "version_major": 2,
       "version_minor": 0
      },
      "text/plain": [
       "Batches:   0%|          | 0/100 [00:00<?, ?it/s]"
      ]
     },
     "metadata": {},
     "output_type": "display_data"
    },
    {
     "name": "stdout",
     "output_type": "stream",
     "text": [
      "batch: 38 / 70\n"
     ]
    },
    {
     "data": {
      "application/vnd.jupyter.widget-view+json": {
       "model_id": "69b7a6c0f0b14e0e9a54850ee261b34d",
       "version_major": 2,
       "version_minor": 0
      },
      "text/plain": [
       "Batches:   0%|          | 0/100 [00:00<?, ?it/s]"
      ]
     },
     "metadata": {},
     "output_type": "display_data"
    },
    {
     "name": "stdout",
     "output_type": "stream",
     "text": [
      "batch: 39 / 70\n"
     ]
    },
    {
     "data": {
      "application/vnd.jupyter.widget-view+json": {
       "model_id": "cee8ab16e504461f9353c9281b4a996d",
       "version_major": 2,
       "version_minor": 0
      },
      "text/plain": [
       "Batches:   0%|          | 0/100 [00:00<?, ?it/s]"
      ]
     },
     "metadata": {},
     "output_type": "display_data"
    },
    {
     "name": "stdout",
     "output_type": "stream",
     "text": [
      "batch: 40 / 70\n"
     ]
    },
    {
     "data": {
      "application/vnd.jupyter.widget-view+json": {
       "model_id": "466edebd31754c2c8e206692f34f03b9",
       "version_major": 2,
       "version_minor": 0
      },
      "text/plain": [
       "Batches:   0%|          | 0/100 [00:00<?, ?it/s]"
      ]
     },
     "metadata": {},
     "output_type": "display_data"
    },
    {
     "name": "stdout",
     "output_type": "stream",
     "text": [
      "batch: 41 / 70\n"
     ]
    },
    {
     "data": {
      "application/vnd.jupyter.widget-view+json": {
       "model_id": "c64c3b66f41a47b0be728a31cbb80bc9",
       "version_major": 2,
       "version_minor": 0
      },
      "text/plain": [
       "Batches:   0%|          | 0/100 [00:00<?, ?it/s]"
      ]
     },
     "metadata": {},
     "output_type": "display_data"
    },
    {
     "name": "stdout",
     "output_type": "stream",
     "text": [
      "batch: 42 / 70\n"
     ]
    },
    {
     "data": {
      "application/vnd.jupyter.widget-view+json": {
       "model_id": "48f2970476884174935a67f92f563a94",
       "version_major": 2,
       "version_minor": 0
      },
      "text/plain": [
       "Batches:   0%|          | 0/100 [00:00<?, ?it/s]"
      ]
     },
     "metadata": {},
     "output_type": "display_data"
    },
    {
     "name": "stdout",
     "output_type": "stream",
     "text": [
      "batch: 43 / 70\n"
     ]
    },
    {
     "data": {
      "application/vnd.jupyter.widget-view+json": {
       "model_id": "48626c18310543d6b2dd529324598138",
       "version_major": 2,
       "version_minor": 0
      },
      "text/plain": [
       "Batches:   0%|          | 0/100 [00:00<?, ?it/s]"
      ]
     },
     "metadata": {},
     "output_type": "display_data"
    },
    {
     "name": "stdout",
     "output_type": "stream",
     "text": [
      "batch: 44 / 70\n"
     ]
    },
    {
     "data": {
      "application/vnd.jupyter.widget-view+json": {
       "model_id": "06006961c41541bf94fe8f90da183f05",
       "version_major": 2,
       "version_minor": 0
      },
      "text/plain": [
       "Batches:   0%|          | 0/100 [00:00<?, ?it/s]"
      ]
     },
     "metadata": {},
     "output_type": "display_data"
    },
    {
     "name": "stdout",
     "output_type": "stream",
     "text": [
      "batch: 45 / 70\n"
     ]
    },
    {
     "data": {
      "application/vnd.jupyter.widget-view+json": {
       "model_id": "0ff65334913a42048cb6770bff00fecc",
       "version_major": 2,
       "version_minor": 0
      },
      "text/plain": [
       "Batches:   0%|          | 0/100 [00:00<?, ?it/s]"
      ]
     },
     "metadata": {},
     "output_type": "display_data"
    },
    {
     "name": "stdout",
     "output_type": "stream",
     "text": [
      "batch: 46 / 70\n"
     ]
    },
    {
     "data": {
      "application/vnd.jupyter.widget-view+json": {
       "model_id": "cbb55b36ecd14f8f91e82694105fef89",
       "version_major": 2,
       "version_minor": 0
      },
      "text/plain": [
       "Batches:   0%|          | 0/100 [00:00<?, ?it/s]"
      ]
     },
     "metadata": {},
     "output_type": "display_data"
    },
    {
     "name": "stdout",
     "output_type": "stream",
     "text": [
      "batch: 47 / 70\n"
     ]
    },
    {
     "data": {
      "application/vnd.jupyter.widget-view+json": {
       "model_id": "192cd4f69e3049339b96944928398c7e",
       "version_major": 2,
       "version_minor": 0
      },
      "text/plain": [
       "Batches:   0%|          | 0/100 [00:00<?, ?it/s]"
      ]
     },
     "metadata": {},
     "output_type": "display_data"
    },
    {
     "name": "stdout",
     "output_type": "stream",
     "text": [
      "batch: 48 / 70\n"
     ]
    },
    {
     "data": {
      "application/vnd.jupyter.widget-view+json": {
       "model_id": "290db39ae4b942ee9dad363f7f815d98",
       "version_major": 2,
       "version_minor": 0
      },
      "text/plain": [
       "Batches:   0%|          | 0/100 [00:00<?, ?it/s]"
      ]
     },
     "metadata": {},
     "output_type": "display_data"
    },
    {
     "name": "stdout",
     "output_type": "stream",
     "text": [
      "batch: 49 / 70\n"
     ]
    },
    {
     "data": {
      "application/vnd.jupyter.widget-view+json": {
       "model_id": "cb589414f6674f929d30556f165632cc",
       "version_major": 2,
       "version_minor": 0
      },
      "text/plain": [
       "Batches:   0%|          | 0/100 [00:00<?, ?it/s]"
      ]
     },
     "metadata": {},
     "output_type": "display_data"
    },
    {
     "name": "stdout",
     "output_type": "stream",
     "text": [
      "batch: 50 / 70\n"
     ]
    },
    {
     "data": {
      "application/vnd.jupyter.widget-view+json": {
       "model_id": "284ce9dbc2c844cdbf18e7175ecd90e1",
       "version_major": 2,
       "version_minor": 0
      },
      "text/plain": [
       "Batches:   0%|          | 0/100 [00:00<?, ?it/s]"
      ]
     },
     "metadata": {},
     "output_type": "display_data"
    },
    {
     "name": "stdout",
     "output_type": "stream",
     "text": [
      "batch: 51 / 70\n"
     ]
    },
    {
     "data": {
      "application/vnd.jupyter.widget-view+json": {
       "model_id": "69593e70b7374c03962d5e9428df1540",
       "version_major": 2,
       "version_minor": 0
      },
      "text/plain": [
       "Batches:   0%|          | 0/100 [00:00<?, ?it/s]"
      ]
     },
     "metadata": {},
     "output_type": "display_data"
    },
    {
     "name": "stdout",
     "output_type": "stream",
     "text": [
      "batch: 52 / 70\n"
     ]
    },
    {
     "data": {
      "application/vnd.jupyter.widget-view+json": {
       "model_id": "6ccff3108de44cb98f46c8269aa32718",
       "version_major": 2,
       "version_minor": 0
      },
      "text/plain": [
       "Batches:   0%|          | 0/100 [00:00<?, ?it/s]"
      ]
     },
     "metadata": {},
     "output_type": "display_data"
    },
    {
     "name": "stdout",
     "output_type": "stream",
     "text": [
      "batch: 53 / 70\n"
     ]
    },
    {
     "data": {
      "application/vnd.jupyter.widget-view+json": {
       "model_id": "b91b11152eb84e35a3963d0e89cbcada",
       "version_major": 2,
       "version_minor": 0
      },
      "text/plain": [
       "Batches:   0%|          | 0/100 [00:00<?, ?it/s]"
      ]
     },
     "metadata": {},
     "output_type": "display_data"
    },
    {
     "name": "stdout",
     "output_type": "stream",
     "text": [
      "batch: 54 / 70\n"
     ]
    },
    {
     "data": {
      "application/vnd.jupyter.widget-view+json": {
       "model_id": "7c670c7cb86e48a1a6a03e12130a3856",
       "version_major": 2,
       "version_minor": 0
      },
      "text/plain": [
       "Batches:   0%|          | 0/100 [00:00<?, ?it/s]"
      ]
     },
     "metadata": {},
     "output_type": "display_data"
    },
    {
     "name": "stdout",
     "output_type": "stream",
     "text": [
      "batch: 55 / 70\n"
     ]
    },
    {
     "data": {
      "application/vnd.jupyter.widget-view+json": {
       "model_id": "54eb347681c647d3afb9a64eb138b590",
       "version_major": 2,
       "version_minor": 0
      },
      "text/plain": [
       "Batches:   0%|          | 0/100 [00:00<?, ?it/s]"
      ]
     },
     "metadata": {},
     "output_type": "display_data"
    },
    {
     "name": "stdout",
     "output_type": "stream",
     "text": [
      "batch: 56 / 70\n"
     ]
    },
    {
     "data": {
      "application/vnd.jupyter.widget-view+json": {
       "model_id": "41aa118b53d14c0aaec4cc98ad7a0cc2",
       "version_major": 2,
       "version_minor": 0
      },
      "text/plain": [
       "Batches:   0%|          | 0/100 [00:00<?, ?it/s]"
      ]
     },
     "metadata": {},
     "output_type": "display_data"
    },
    {
     "name": "stdout",
     "output_type": "stream",
     "text": [
      "batch: 57 / 70\n"
     ]
    },
    {
     "data": {
      "application/vnd.jupyter.widget-view+json": {
       "model_id": "5bd37e5263374695a005abdbb5f0e706",
       "version_major": 2,
       "version_minor": 0
      },
      "text/plain": [
       "Batches:   0%|          | 0/100 [00:00<?, ?it/s]"
      ]
     },
     "metadata": {},
     "output_type": "display_data"
    },
    {
     "name": "stdout",
     "output_type": "stream",
     "text": [
      "batch: 58 / 70\n"
     ]
    },
    {
     "data": {
      "application/vnd.jupyter.widget-view+json": {
       "model_id": "11ab950376c14bca9ca75193fc070bd0",
       "version_major": 2,
       "version_minor": 0
      },
      "text/plain": [
       "Batches:   0%|          | 0/100 [00:00<?, ?it/s]"
      ]
     },
     "metadata": {},
     "output_type": "display_data"
    },
    {
     "name": "stdout",
     "output_type": "stream",
     "text": [
      "batch: 59 / 70\n"
     ]
    },
    {
     "data": {
      "application/vnd.jupyter.widget-view+json": {
       "model_id": "9bf8495dd19c4f43bb15fd4dbb2f0de6",
       "version_major": 2,
       "version_minor": 0
      },
      "text/plain": [
       "Batches:   0%|          | 0/100 [00:00<?, ?it/s]"
      ]
     },
     "metadata": {},
     "output_type": "display_data"
    },
    {
     "name": "stdout",
     "output_type": "stream",
     "text": [
      "batch: 60 / 70\n"
     ]
    },
    {
     "data": {
      "application/vnd.jupyter.widget-view+json": {
       "model_id": "f8461214fe974bc59def4c12ace4d836",
       "version_major": 2,
       "version_minor": 0
      },
      "text/plain": [
       "Batches:   0%|          | 0/100 [00:00<?, ?it/s]"
      ]
     },
     "metadata": {},
     "output_type": "display_data"
    },
    {
     "name": "stdout",
     "output_type": "stream",
     "text": [
      "batch: 61 / 70\n"
     ]
    },
    {
     "data": {
      "application/vnd.jupyter.widget-view+json": {
       "model_id": "63b34824090a4f76b56a40154222179d",
       "version_major": 2,
       "version_minor": 0
      },
      "text/plain": [
       "Batches:   0%|          | 0/100 [00:00<?, ?it/s]"
      ]
     },
     "metadata": {},
     "output_type": "display_data"
    },
    {
     "name": "stdout",
     "output_type": "stream",
     "text": [
      "batch: 62 / 70\n"
     ]
    },
    {
     "data": {
      "application/vnd.jupyter.widget-view+json": {
       "model_id": "7447954b757e44519c82985cc33cbed9",
       "version_major": 2,
       "version_minor": 0
      },
      "text/plain": [
       "Batches:   0%|          | 0/100 [00:00<?, ?it/s]"
      ]
     },
     "metadata": {},
     "output_type": "display_data"
    },
    {
     "name": "stdout",
     "output_type": "stream",
     "text": [
      "batch: 63 / 70\n"
     ]
    },
    {
     "data": {
      "application/vnd.jupyter.widget-view+json": {
       "model_id": "5f1f3d03684b408abd04b64f9457b4cc",
       "version_major": 2,
       "version_minor": 0
      },
      "text/plain": [
       "Batches:   0%|          | 0/100 [00:00<?, ?it/s]"
      ]
     },
     "metadata": {},
     "output_type": "display_data"
    },
    {
     "name": "stdout",
     "output_type": "stream",
     "text": [
      "batch: 64 / 70\n"
     ]
    },
    {
     "data": {
      "application/vnd.jupyter.widget-view+json": {
       "model_id": "c0dc6a012457434cb22f6234ddff63b6",
       "version_major": 2,
       "version_minor": 0
      },
      "text/plain": [
       "Batches:   0%|          | 0/100 [00:00<?, ?it/s]"
      ]
     },
     "metadata": {},
     "output_type": "display_data"
    },
    {
     "name": "stdout",
     "output_type": "stream",
     "text": [
      "batch: 65 / 70\n"
     ]
    },
    {
     "data": {
      "application/vnd.jupyter.widget-view+json": {
       "model_id": "fdf047358c6748a0910f3e3d36955b39",
       "version_major": 2,
       "version_minor": 0
      },
      "text/plain": [
       "Batches:   0%|          | 0/100 [00:00<?, ?it/s]"
      ]
     },
     "metadata": {},
     "output_type": "display_data"
    },
    {
     "name": "stdout",
     "output_type": "stream",
     "text": [
      "batch: 66 / 70\n"
     ]
    },
    {
     "data": {
      "application/vnd.jupyter.widget-view+json": {
       "model_id": "67f3ea0a2996412999b89468b5119b78",
       "version_major": 2,
       "version_minor": 0
      },
      "text/plain": [
       "Batches:   0%|          | 0/100 [00:00<?, ?it/s]"
      ]
     },
     "metadata": {},
     "output_type": "display_data"
    },
    {
     "name": "stdout",
     "output_type": "stream",
     "text": [
      "batch: 67 / 70\n"
     ]
    },
    {
     "data": {
      "application/vnd.jupyter.widget-view+json": {
       "model_id": "3c10b92049ce492182f322aaef9daef1",
       "version_major": 2,
       "version_minor": 0
      },
      "text/plain": [
       "Batches:   0%|          | 0/100 [00:00<?, ?it/s]"
      ]
     },
     "metadata": {},
     "output_type": "display_data"
    },
    {
     "name": "stdout",
     "output_type": "stream",
     "text": [
      "batch: 68 / 70\n"
     ]
    },
    {
     "data": {
      "application/vnd.jupyter.widget-view+json": {
       "model_id": "62f28800098f4179914d8c561c911898",
       "version_major": 2,
       "version_minor": 0
      },
      "text/plain": [
       "Batches:   0%|          | 0/100 [00:00<?, ?it/s]"
      ]
     },
     "metadata": {},
     "output_type": "display_data"
    },
    {
     "name": "stdout",
     "output_type": "stream",
     "text": [
      "batch: 69 / 70\n"
     ]
    },
    {
     "data": {
      "application/vnd.jupyter.widget-view+json": {
       "model_id": "c3f55b33e595450fa4409a9eb1e6f6dd",
       "version_major": 2,
       "version_minor": 0
      },
      "text/plain": [
       "Batches:   0%|          | 0/100 [00:00<?, ?it/s]"
      ]
     },
     "metadata": {},
     "output_type": "display_data"
    },
    {
     "name": "stdout",
     "output_type": "stream",
     "text": [
      "batch: 70 / 70\n",
      "Total vectors: 7000000\n"
     ]
    }
   ],
   "source": [
    "if not use_formed_index:\n",
    "    try:\n",
    "        embeddings_list = []\n",
    "\n",
    "        for i in range(num_batches):\n",
    "            # формируем батч\n",
    "            start, end = i * batch_size, (i + 1) * batch_size\n",
    "            corpus_batch = corpus[start:end]\n",
    "\n",
    "            # считаем вектора для всех предложений в батче\n",
    "            embeddings = st_model.encode(\n",
    "                corpus_batch, batch_size=1000, show_progress_bar=True\n",
    "            )\n",
    "\n",
    "            # сохраняем вектора в список\n",
    "            embeddings_list.append(embeddings)\n",
    "\n",
    "            print(f\"batch: {i + 1} / {num_batches}\")\n",
    "\n",
    "        # конкатенируем все вектора и добавляем их в индекс\n",
    "        all_embeddings = np.concatenate(embeddings_list)\n",
    "        cpu_index.add(all_embeddings)\n",
    "\n",
    "        # сохраняем индекс в файл\n",
    "        write_index(cpu_index, \"candidates.index\")\n",
    "\n",
    "        print(f\"Total vectors: {cpu_index.ntotal}\")\n",
    "\n",
    "    except KeyboardInterrupt:\n",
    "        print(\"Остановлено пользователем\")\n",
    "    finally:\n",
    "        # чистим ОЗУ\n",
    "        del embeddings_list"
   ]
  },
  {
   "cell_type": "code",
   "execution_count": 17,
   "metadata": {
    "execution": {
     "iopub.execute_input": "2023-11-24T15:50:35.940597Z",
     "iopub.status.busy": "2023-11-24T15:50:35.939820Z",
     "iopub.status.idle": "2023-11-24T15:50:35.952302Z",
     "shell.execute_reply": "2023-11-24T15:50:35.951179Z",
     "shell.execute_reply.started": "2023-11-24T15:50:35.940545Z"
    },
    "id": "8JpLRLropdFn",
    "tags": []
   },
   "outputs": [],
   "source": [
    "# чистим ОЗУ\n",
    "if not use_formed_index:\n",
    "    del cpu_index"
   ]
  },
  {
   "cell_type": "markdown",
   "metadata": {
    "id": "QVI-uMi_4pX7"
   },
   "source": [
    "# Подбор кандидатов по базе векторов"
   ]
  },
  {
   "cell_type": "code",
   "execution_count": 18,
   "metadata": {
    "execution": {
     "iopub.execute_input": "2023-11-24T15:50:35.954220Z",
     "iopub.status.busy": "2023-11-24T15:50:35.953491Z",
     "iopub.status.idle": "2023-11-24T15:50:42.269588Z",
     "shell.execute_reply": "2023-11-24T15:50:42.268319Z",
     "shell.execute_reply.started": "2023-11-24T15:50:35.954156Z"
    },
    "tags": []
   },
   "outputs": [],
   "source": [
    "automarkup = pd.read_parquet(\"automarkup.parquet\", engine=\"pyarrow\")"
   ]
  },
  {
   "cell_type": "code",
   "execution_count": 19,
   "metadata": {
    "execution": {
     "iopub.execute_input": "2023-11-24T15:50:42.272512Z",
     "iopub.status.busy": "2023-11-24T15:50:42.271342Z",
     "iopub.status.idle": "2023-11-24T15:50:46.600017Z",
     "shell.execute_reply": "2023-11-24T15:50:46.598778Z",
     "shell.execute_reply.started": "2023-11-24T15:50:42.272462Z"
    },
    "tags": []
   },
   "outputs": [],
   "source": [
    "automarkup = automarkup[~automarkup[\"query\"].isna()]\n",
    "automarkup[\"query\"] = automarkup[\"query\"].apply(lambda x: x.lower())"
   ]
  },
  {
   "cell_type": "markdown",
   "metadata": {},
   "source": [
    "# ===== Удаляем рандомную выдачу =====\n",
    "Рандомная выдача призвана бороться с предвзятостью модели и нужна в реальном поиске для случайной ротации видео с малым количеством просмотров, но в нашем члучае нам нужен скорр - отключаем ротацию"
   ]
  },
  {
   "cell_type": "code",
   "execution_count": 20,
   "metadata": {
    "execution": {
     "iopub.execute_input": "2023-11-24T15:50:46.602477Z",
     "iopub.status.busy": "2023-11-24T15:50:46.601609Z",
     "iopub.status.idle": "2023-11-24T15:50:59.826039Z",
     "shell.execute_reply": "2023-11-24T15:50:59.824760Z",
     "shell.execute_reply.started": "2023-11-24T15:50:46.602423Z"
    },
    "tags": []
   },
   "outputs": [],
   "source": [
    "n = 1000\n",
    "top_n = automarkup[\"query\"].value_counts()[: int(2 * n)].index.to_list()\n",
    "other = np.array(automarkup[\"query\"].value_counts()[int(2 * n) :].index.to_list())\n",
    "#random_n = np.random.choice(other, size=n, replace=False).tolist()\n",
    "queries = top_n\n",
    "query2ind = {q: i for i, q in enumerate(queries)}"
   ]
  },
  {
   "cell_type": "code",
   "execution_count": 21,
   "metadata": {
    "execution": {
     "iopub.execute_input": "2023-11-24T15:58:12.494742Z",
     "iopub.status.busy": "2023-11-24T15:58:12.493714Z",
     "iopub.status.idle": "2023-11-24T15:58:12.521041Z",
     "shell.execute_reply": "2023-11-24T15:58:12.519851Z",
     "shell.execute_reply.started": "2023-11-24T15:58:12.494705Z"
    },
    "tags": []
   },
   "outputs": [],
   "source": [
    "# когда прогоните один раз у вас на диске кандиды уже будут сохранены\n",
    "# можете поставить значение True, чтобы сэкономить время\n",
    "use_formed_candidates = False"
   ]
  },
  {
   "cell_type": "code",
   "execution_count": 22,
   "metadata": {
    "colab": {
     "base_uri": "https://localhost:8080/"
    },
    "execution": {
     "iopub.execute_input": "2023-11-24T15:58:14.639341Z",
     "iopub.status.busy": "2023-11-24T15:58:14.638397Z",
     "iopub.status.idle": "2023-11-24T15:58:23.469049Z",
     "shell.execute_reply": "2023-11-24T15:58:23.467843Z",
     "shell.execute_reply.started": "2023-11-24T15:58:14.639285Z"
    },
    "id": "y2vH5y5p3UDE",
    "outputId": "af18765a-289b-4c2d-d27e-633e3c357282",
    "tags": []
   },
   "outputs": [
    {
     "data": {
      "application/vnd.jupyter.widget-view+json": {
       "model_id": "4c4676c7c9294990b5e152fb1a48341d",
       "version_major": 2,
       "version_minor": 0
      },
      "text/plain": [
       "Batches:   0%|          | 0/2 [00:00<?, ?it/s]"
      ]
     },
     "metadata": {},
     "output_type": "display_data"
    },
    {
     "data": {
      "text/plain": [
       "(True, 7000000)"
      ]
     },
     "execution_count": 22,
     "metadata": {},
     "output_type": "execute_result"
    }
   ],
   "source": [
    "qembeddings = st_model.encode(queries, batch_size=1000, show_progress_bar=True)\n",
    "\n",
    "search_cpu_index = read_index(\"candidates.index\")\n",
    "search_cpu_index.is_trained, search_cpu_index.ntotal"
   ]
  },
  {
   "cell_type": "markdown",
   "metadata": {},
   "source": [
    "# ===== Добавляем новую фичу - дистанцию между векторами ====="
   ]
  },
  {
   "cell_type": "code",
   "execution_count": 26,
   "metadata": {
    "execution": {
     "iopub.execute_input": "2023-11-24T16:50:09.515969Z",
     "iopub.status.busy": "2023-11-24T16:50:09.514969Z",
     "iopub.status.idle": "2023-11-24T16:50:09.720071Z",
     "shell.execute_reply": "2023-11-24T16:50:09.718836Z",
     "shell.execute_reply.started": "2023-11-24T16:50:09.515921Z"
    },
    "tags": []
   },
   "outputs": [],
   "source": [
    "generated_cand_name = \"generated_candidates.parquet\"\n",
    "if not use_formed_candidates:\n",
    "    topk = 30\n",
    "    distance, faiss_ind = search_cpu_index.search(qembeddings, topk)\n",
    "\n",
    "    generated_cand = {\"query\": [], \"video_id\": [], \"dist\": []}\n",
    "\n",
    "    for i, q in enumerate(queries):\n",
    "        vids = faiss_ind[i]\n",
    "        generated_cand[\"video_id\"] += [ind2videoid[v] for v in vids]\n",
    "        dst = distance[i]\n",
    "        generated_cand[\"dist\"] += [d for d in dst]\n",
    "        generated_cand[\"query\"] += [q] * len(vids)\n",
    "\n",
    "    generated_cand = pd.DataFrame(generated_cand)\n",
    "\n",
    "    generated_cand.to_parquet(generated_cand_name, engine=\"pyarrow\")\n",
    "else:\n",
    "    generated_cand = pd.read_parquet(generated_cand_name, engine=\"pyarrow\")"
   ]
  },
  {
   "cell_type": "code",
   "execution_count": 27,
   "metadata": {},
   "outputs": [
    {
     "data": {
      "text/html": [
       "<div>\n",
       "<style scoped>\n",
       "    .dataframe tbody tr th:only-of-type {\n",
       "        vertical-align: middle;\n",
       "    }\n",
       "\n",
       "    .dataframe tbody tr th {\n",
       "        vertical-align: top;\n",
       "    }\n",
       "\n",
       "    .dataframe thead th {\n",
       "        text-align: right;\n",
       "    }\n",
       "</style>\n",
       "<table border=\"1\" class=\"dataframe\">\n",
       "  <thead>\n",
       "    <tr style=\"text-align: right;\">\n",
       "      <th></th>\n",
       "      <th>query</th>\n",
       "      <th>video_id</th>\n",
       "      <th>dist</th>\n",
       "    </tr>\n",
       "  </thead>\n",
       "  <tbody>\n",
       "    <tr>\n",
       "      <th>0</th>\n",
       "      <td>битва сильнейших</td>\n",
       "      <td>video_17799854</td>\n",
       "      <td>0.000000</td>\n",
       "    </tr>\n",
       "    <tr>\n",
       "      <th>1</th>\n",
       "      <td>битва сильнейших</td>\n",
       "      <td>video_19455333</td>\n",
       "      <td>0.000000</td>\n",
       "    </tr>\n",
       "    <tr>\n",
       "      <th>2</th>\n",
       "      <td>битва сильнейших</td>\n",
       "      <td>video_18943317</td>\n",
       "      <td>0.000000</td>\n",
       "    </tr>\n",
       "    <tr>\n",
       "      <th>3</th>\n",
       "      <td>битва сильнейших</td>\n",
       "      <td>video_13778122</td>\n",
       "      <td>0.172618</td>\n",
       "    </tr>\n",
       "    <tr>\n",
       "      <th>4</th>\n",
       "      <td>битва сильнейших</td>\n",
       "      <td>video_2326857</td>\n",
       "      <td>0.197901</td>\n",
       "    </tr>\n",
       "    <tr>\n",
       "      <th>...</th>\n",
       "      <td>...</td>\n",
       "      <td>...</td>\n",
       "      <td>...</td>\n",
       "    </tr>\n",
       "    <tr>\n",
       "      <th>59995</th>\n",
       "      <td>кредитная история</td>\n",
       "      <td>video_6387498</td>\n",
       "      <td>0.158063</td>\n",
       "    </tr>\n",
       "    <tr>\n",
       "      <th>59996</th>\n",
       "      <td>кредитная история</td>\n",
       "      <td>video_12378796</td>\n",
       "      <td>0.158213</td>\n",
       "    </tr>\n",
       "    <tr>\n",
       "      <th>59997</th>\n",
       "      <td>кредитная история</td>\n",
       "      <td>video_25342397</td>\n",
       "      <td>0.158589</td>\n",
       "    </tr>\n",
       "    <tr>\n",
       "      <th>59998</th>\n",
       "      <td>кредитная история</td>\n",
       "      <td>video_34033874</td>\n",
       "      <td>0.158603</td>\n",
       "    </tr>\n",
       "    <tr>\n",
       "      <th>59999</th>\n",
       "      <td>кредитная история</td>\n",
       "      <td>video_14827409</td>\n",
       "      <td>0.159327</td>\n",
       "    </tr>\n",
       "  </tbody>\n",
       "</table>\n",
       "<p>60000 rows × 3 columns</p>\n",
       "</div>"
      ],
      "text/plain": [
       "                   query        video_id      dist\n",
       "0       битва сильнейших  video_17799854  0.000000\n",
       "1       битва сильнейших  video_19455333  0.000000\n",
       "2       битва сильнейших  video_18943317  0.000000\n",
       "3       битва сильнейших  video_13778122  0.172618\n",
       "4       битва сильнейших   video_2326857  0.197901\n",
       "...                  ...             ...       ...\n",
       "59995  кредитная история   video_6387498  0.158063\n",
       "59996  кредитная история  video_12378796  0.158213\n",
       "59997  кредитная история  video_25342397  0.158589\n",
       "59998  кредитная история  video_34033874  0.158603\n",
       "59999  кредитная история  video_14827409  0.159327\n",
       "\n",
       "[60000 rows x 3 columns]"
      ]
     },
     "execution_count": 27,
     "metadata": {},
     "output_type": "execute_result"
    }
   ],
   "source": [
    "generated_cand"
   ]
  },
  {
   "cell_type": "markdown",
   "metadata": {},
   "source": [
    "# Формирование таргета по авторазметке"
   ]
  },
  {
   "cell_type": "code",
   "execution_count": 28,
   "metadata": {
    "execution": {
     "iopub.execute_input": "2023-11-24T16:50:11.979092Z",
     "iopub.status.busy": "2023-11-24T16:50:11.978139Z",
     "iopub.status.idle": "2023-11-24T16:50:16.614954Z",
     "shell.execute_reply": "2023-11-24T16:50:16.613486Z",
     "shell.execute_reply.started": "2023-11-24T16:50:11.979044Z"
    },
    "tags": []
   },
   "outputs": [],
   "source": [
    "automarkup[\"target\"] = [1] * automarkup.shape[0]\n",
    "candidates_with_target = generated_cand.merge(\n",
    "    automarkup[[\"query\", \"video_id\", \"target\"]],\n",
    "    how=\"left\",\n",
    "    left_on=[\"query\", \"video_id\"],\n",
    "    right_on=[\"query\", \"video_id\"],\n",
    ")\n",
    "candidates_with_target[\"target\"] = candidates_with_target[\"target\"].fillna(0)"
   ]
  },
  {
   "cell_type": "code",
   "execution_count": 29,
   "metadata": {
    "execution": {
     "iopub.execute_input": "2023-11-24T19:35:14.658036Z",
     "iopub.status.busy": "2023-11-24T19:35:14.657258Z",
     "iopub.status.idle": "2023-11-24T19:35:15.379709Z",
     "shell.execute_reply": "2023-11-24T19:35:15.377920Z",
     "shell.execute_reply.started": "2023-11-24T19:35:14.658002Z"
    }
   },
   "outputs": [
    {
     "data": {
      "text/html": [
       "<div>\n",
       "<style scoped>\n",
       "    .dataframe tbody tr th:only-of-type {\n",
       "        vertical-align: middle;\n",
       "    }\n",
       "\n",
       "    .dataframe tbody tr th {\n",
       "        vertical-align: top;\n",
       "    }\n",
       "\n",
       "    .dataframe thead th {\n",
       "        text-align: right;\n",
       "    }\n",
       "</style>\n",
       "<table border=\"1\" class=\"dataframe\">\n",
       "  <thead>\n",
       "    <tr style=\"text-align: right;\">\n",
       "      <th></th>\n",
       "      <th>is_authorized</th>\n",
       "      <th>datetime</th>\n",
       "      <th>query</th>\n",
       "      <th>video_id</th>\n",
       "      <th>duration</th>\n",
       "      <th>position</th>\n",
       "      <th>watchtime</th>\n",
       "      <th>emotion</th>\n",
       "      <th>vtop</th>\n",
       "      <th>comment</th>\n",
       "      <th>channel</th>\n",
       "      <th>tv_show</th>\n",
       "      <th>season</th>\n",
       "      <th>target</th>\n",
       "    </tr>\n",
       "  </thead>\n",
       "  <tbody>\n",
       "    <tr>\n",
       "      <th>0</th>\n",
       "      <td>False</td>\n",
       "      <td>2023-07-03 14:29:34+03:00</td>\n",
       "      <td>приют комедиантов роман бабаян</td>\n",
       "      <td>video_3049590</td>\n",
       "      <td>2279019</td>\n",
       "      <td>8.0</td>\n",
       "      <td>0</td>\n",
       "      <td>0</td>\n",
       "      <td>None</td>\n",
       "      <td>0</td>\n",
       "      <td>ТЕЛЕКАНАЛ ЗВЕЗДА</td>\n",
       "      <td>Десять мгновений</td>\n",
       "      <td>Сезон</td>\n",
       "      <td>1</td>\n",
       "    </tr>\n",
       "    <tr>\n",
       "      <th>1</th>\n",
       "      <td>False</td>\n",
       "      <td>2023-07-20 04:39:07+03:00</td>\n",
       "      <td>бабаян роман</td>\n",
       "      <td>video_3049590</td>\n",
       "      <td>2279019</td>\n",
       "      <td>1.0</td>\n",
       "      <td>0</td>\n",
       "      <td>0</td>\n",
       "      <td>None</td>\n",
       "      <td>0</td>\n",
       "      <td>ТЕЛЕКАНАЛ ЗВЕЗДА</td>\n",
       "      <td>Десять мгновений</td>\n",
       "      <td>Сезон</td>\n",
       "      <td>1</td>\n",
       "    </tr>\n",
       "    <tr>\n",
       "      <th>2</th>\n",
       "      <td>True</td>\n",
       "      <td>2023-08-10 17:39:06+03:00</td>\n",
       "      <td>роман бабаян</td>\n",
       "      <td>video_3049590</td>\n",
       "      <td>2279019</td>\n",
       "      <td>1.0</td>\n",
       "      <td>102</td>\n",
       "      <td>0</td>\n",
       "      <td>None</td>\n",
       "      <td>0</td>\n",
       "      <td>ТЕЛЕКАНАЛ ЗВЕЗДА</td>\n",
       "      <td>Десять мгновений</td>\n",
       "      <td>Сезон</td>\n",
       "      <td>1</td>\n",
       "    </tr>\n",
       "    <tr>\n",
       "      <th>3</th>\n",
       "      <td>False</td>\n",
       "      <td>2023-07-03 17:09:31+03:00</td>\n",
       "      <td>битва экстрасенсов 2019 год</td>\n",
       "      <td>video_31592942</td>\n",
       "      <td>4259447</td>\n",
       "      <td>45.0</td>\n",
       "      <td>3601</td>\n",
       "      <td>0</td>\n",
       "      <td>None</td>\n",
       "      <td>0</td>\n",
       "      <td>Экстрасенсы. Битва сильнейших</td>\n",
       "      <td>Экстрасенсы. Битва сильнейших</td>\n",
       "      <td>None</td>\n",
       "      <td>1</td>\n",
       "    </tr>\n",
       "    <tr>\n",
       "      <th>4</th>\n",
       "      <td>False</td>\n",
       "      <td>2023-07-03 15:13:37+03:00</td>\n",
       "      <td>битва сильнейших 2 сезон</td>\n",
       "      <td>video_31592942</td>\n",
       "      <td>4259447</td>\n",
       "      <td>4.0</td>\n",
       "      <td>4054</td>\n",
       "      <td>0</td>\n",
       "      <td>None</td>\n",
       "      <td>0</td>\n",
       "      <td>Экстрасенсы. Битва сильнейших</td>\n",
       "      <td>Экстрасенсы. Битва сильнейших</td>\n",
       "      <td>None</td>\n",
       "      <td>1</td>\n",
       "    </tr>\n",
       "  </tbody>\n",
       "</table>\n",
       "</div>"
      ],
      "text/plain": [
       "   is_authorized                   datetime                           query  \\\n",
       "0          False  2023-07-03 14:29:34+03:00  приют комедиантов роман бабаян   \n",
       "1          False  2023-07-20 04:39:07+03:00                    бабаян роман   \n",
       "2           True  2023-08-10 17:39:06+03:00                    роман бабаян   \n",
       "3          False  2023-07-03 17:09:31+03:00     битва экстрасенсов 2019 год   \n",
       "4          False  2023-07-03 15:13:37+03:00        битва сильнейших 2 сезон   \n",
       "\n",
       "         video_id  duration  position  watchtime  emotion  vtop  comment  \\\n",
       "0   video_3049590   2279019       8.0          0        0  None        0   \n",
       "1   video_3049590   2279019       1.0          0        0  None        0   \n",
       "2   video_3049590   2279019       1.0        102        0  None        0   \n",
       "3  video_31592942   4259447      45.0       3601        0  None        0   \n",
       "4  video_31592942   4259447       4.0       4054        0  None        0   \n",
       "\n",
       "                         channel                        tv_show season  target  \n",
       "0               ТЕЛЕКАНАЛ ЗВЕЗДА               Десять мгновений  Сезон       1  \n",
       "1               ТЕЛЕКАНАЛ ЗВЕЗДА               Десять мгновений  Сезон       1  \n",
       "2               ТЕЛЕКАНАЛ ЗВЕЗДА               Десять мгновений  Сезон       1  \n",
       "3  Экстрасенсы. Битва сильнейших  Экстрасенсы. Битва сильнейших   None       1  \n",
       "4  Экстрасенсы. Битва сильнейших  Экстрасенсы. Битва сильнейших   None       1  "
      ]
     },
     "execution_count": 29,
     "metadata": {},
     "output_type": "execute_result"
    }
   ],
   "source": [
    "automarkup.head()"
   ]
  },
  {
   "cell_type": "markdown",
   "metadata": {},
   "source": [
    "# ===== Анализ распределения запросов ====="
   ]
  },
  {
   "cell_type": "code",
   "execution_count": 30,
   "metadata": {
    "scrolled": true
   },
   "outputs": [
    {
     "data": {
      "text/plain": [
       "<matplotlib.legend.Legend at 0x7fcb84c4e530>"
      ]
     },
     "execution_count": 30,
     "metadata": {},
     "output_type": "execute_result"
    },
    {
     "data": {
      "image/png": "[encoded data removed]",
      "text/plain": [
       "<Figure size 500x500 with 1 Axes>"
      ]
     },
     "metadata": {},
     "output_type": "display_data"
    }
   ],
   "source": [
    "x = np.linspace(0, 300, 300) \n",
    "y = automarkup['query'].value_counts()[:300]\n",
    "\n",
    "fig, ax = plt.subplots(figsize=(5, 5), layout='constrained')\n",
    "ax.plot(x, y, label='Количество запросов')\n",
    "ax.set_xlabel('№ запроса')\n",
    "ax.set_ylabel('Количество запросов')\n",
    "ax.set_title(\"Количество запросов на одну фразу,\\nлинейная шкала\")\n",
    "ax.legend()"
   ]
  },
  {
   "cell_type": "markdown",
   "metadata": {},
   "source": [
    "# ===== Видно распределение запросов по закону Ципфа ====="
   ]
  },
  {
   "cell_type": "code",
   "execution_count": 31,
   "metadata": {},
   "outputs": [
    {
     "name": "stderr",
     "output_type": "stream",
     "text": [
      "divide by zero encountered in log\n"
     ]
    },
    {
     "data": {
      "text/plain": [
       "<matplotlib.legend.Legend at 0x7fd65198d990>"
      ]
     },
     "execution_count": 31,
     "metadata": {},
     "output_type": "execute_result"
    },
    {
     "data": {
      "image/png": "[encoded data removed]",
      "text/plain": [
       "<Figure size 500x500 with 1 Axes>"
      ]
     },
     "metadata": {},
     "output_type": "display_data"
    }
   ],
   "source": [
    "x = np.log(np.linspace(0, 300, 300) )\n",
    "y = np.log(automarkup['query'].value_counts()[:300])\n",
    "\n",
    "fig, ax = plt.subplots(figsize=(5, 5), layout='constrained')\n",
    "ax.plot(x, y, label='Частота запросов,\\nлогарифмическая шкала')\n",
    "ax.set_xlabel('Логарифм положения фразы в частотном распределении')\n",
    "ax.set_ylabel('Количество запросов, логарифмическая шкала')\n",
    "ax.set_title(\"Количество запросов\\nна одну фразу,\\nлогарифмическая шкала\")\n",
    "ax.legend()"
   ]
  },
  {
   "cell_type": "code",
   "execution_count": 32,
   "metadata": {
    "execution": {
     "iopub.status.busy": "2023-11-24T15:53:41.129915Z",
     "iopub.status.idle": "2023-11-24T15:53:41.130857Z",
     "shell.execute_reply": "2023-11-24T15:53:41.130563Z"
    },
    "tags": []
   },
   "outputs": [],
   "source": [
    "# очищаем ОЗУ\n",
    "del generated_cand\n",
    "del search_cpu_index\n",
    "del automarkup\n",
    "del st_model\n",
    "del qembeddings"
   ]
  },
  {
   "cell_type": "markdown",
   "metadata": {},
   "source": [
    "# ===== Переделываем механизм работы с фичами ====="
   ]
  },
  {
   "cell_type": "code",
   "execution_count": 33,
   "metadata": {
    "execution": {
     "iopub.status.busy": "2023-11-24T15:53:41.132479Z",
     "iopub.status.idle": "2023-11-24T15:53:41.133043Z",
     "shell.execute_reply": "2023-11-24T15:53:41.132862Z"
    },
    "tags": []
   },
   "outputs": [],
   "source": [
    "# здесь мы используем признаки актуальные на состояние 2-ого мая 2023 года\n",
    "# вы можете использовать признаки наиболее актуальные для вашего кандидата\n",
    "\n",
    "#features_parquet = pq.ParquetFile(\"features.parquet\")\n",
    "#features, filter_date = None, \"2023-05-02\"\n",
    "\n",
    "#for batch in features_parquet.iter_batches():\n",
    "#    tmp = batch.to_pandas()\n",
    "#    if features is None:\n",
    "#        features = tmp[tmp[\"report_date\"] == filter_date]\n",
    "#    else:\n",
    "#        features = pd.concat([features, tmp[tmp[\"report_date\"] == filter_date]], axis=0)\n",
    "\n",
    "# для baseline выбросим категориальные признаки и datetime признаки\n",
    "# в своем решении вы сами можете решить использовать их или нет\n",
    "#features = features.drop(\n",
    "#    [\"v_channel_reg_datetime\", \"v_channel_type\", \"v_category\", \"v_pub_datetime\"], axis=1\n",
    "#)"
   ]
  },
  {
   "cell_type": "code",
   "execution_count": 34,
   "metadata": {
    "execution": {
     "iopub.execute_input": "2023-11-24T19:27:56.520895Z",
     "iopub.status.busy": "2023-11-24T19:27:56.519738Z",
     "iopub.status.idle": "2023-11-24T19:29:41.275986Z",
     "shell.execute_reply": "2023-11-24T19:29:41.274777Z",
     "shell.execute_reply.started": "2023-11-24T19:27:56.520836Z"
    },
    "tags": []
   },
   "outputs": [],
   "source": [
    "features = pd.read_parquet(\"features.parquet\", engine=\"pyarrow\")\n",
    "quant = True\n",
    "if quant:\n",
    "    quantile_threshold = 0.999\n",
    "    views_quantile_threshold = features['v_year_views'].quantile(quantile_threshold)\n",
    "    likes_quantile_threshold = features['v_likes'].quantile(quantile_threshold)\n",
    "    features = features[\n",
    "        (features['v_year_views'] >= views_quantile_threshold) &\n",
    "        (features['v_likes'] >= likes_quantile_threshold)\n",
    "    ]\n",
    "    \n",
    "features['v_channel_reg_datetime'] = pd.to_datetime(features['v_channel_reg_datetime'])\n",
    "features['v_pub_datetime'] = pd.to_datetime(features['v_pub_datetime'])\n",
    "features['report_date'] = pd.to_datetime(features['report_date'])\n",
    "\n",
    "features['likes_dislikes_ratio'] = features['v_likes'] / (features['v_dislikes'] + 1)\n",
    "features['views_per_like'] = features['v_year_views'] / (features['v_likes'] + 1)\n",
    "features['comments_per_view'] = features['total_comments'] / features['v_year_views']\n",
    "features['likes_per_view'] = features['v_likes'] / features['v_year_views']\n",
    "\n",
    "features['channel_existence_duration'] = (features['v_pub_datetime'] - features['v_channel_reg_datetime']).dt.days\n",
    "features['video_age'] = (features['report_date'] - features['v_pub_datetime']).dt.days\n",
    "\n",
    "features['pub_year'] = features['v_pub_datetime'].dt.year\n",
    "features['pub_month'] = features['v_pub_datetime'].dt.month\n",
    "features['pub_day_of_week'] = features['v_pub_datetime'].dt.dayofweek\n",
    "features['pub_hour'] = features['v_pub_datetime'].dt.hour\n",
    "features['publish_season'] = features['v_pub_datetime'].dt.quarter\n",
    "features['publish_time_of_day'] = pd.cut(features['pub_hour'], bins=[-1, 6, 12, 18, 24], labels=['Night', 'Morning', 'Afternoon', 'Evening'])\n",
    "\n",
    "features = features.drop(\n",
    "    [\"v_channel_reg_datetime\",\"v_pub_datetime\", \"report_date\"], axis=1 # \"v_channel_type\", \"v_category\", \n",
    ")"
   ]
  },
  {
   "cell_type": "code",
   "execution_count": 35,
   "metadata": {
    "execution": {
     "iopub.execute_input": "2023-11-24T19:29:41.278639Z",
     "iopub.status.busy": "2023-11-24T19:29:41.278020Z",
     "iopub.status.idle": "2023-11-24T19:29:41.569841Z",
     "shell.execute_reply": "2023-11-24T19:29:41.568234Z",
     "shell.execute_reply.started": "2023-11-24T19:29:41.278592Z"
    },
    "tags": []
   },
   "outputs": [
    {
     "data": {
      "text/html": [
       "<div>\n",
       "<style scoped>\n",
       "    .dataframe tbody tr th:only-of-type {\n",
       "        vertical-align: middle;\n",
       "    }\n",
       "\n",
       "    .dataframe tbody tr th {\n",
       "        vertical-align: top;\n",
       "    }\n",
       "\n",
       "    .dataframe thead th {\n",
       "        text-align: right;\n",
       "    }\n",
       "</style>\n",
       "<table border=\"1\" class=\"dataframe\">\n",
       "  <thead>\n",
       "    <tr style=\"text-align: right;\">\n",
       "      <th></th>\n",
       "      <th>video_id</th>\n",
       "      <th>v_channel_type</th>\n",
       "      <th>v_category</th>\n",
       "      <th>total_comments</th>\n",
       "      <th>v_year_views</th>\n",
       "      <th>v_month_views</th>\n",
       "      <th>v_week_views</th>\n",
       "      <th>v_day_views</th>\n",
       "      <th>v_likes</th>\n",
       "      <th>v_dislikes</th>\n",
       "      <th>...</th>\n",
       "      <th>comments_per_view</th>\n",
       "      <th>likes_per_view</th>\n",
       "      <th>channel_existence_duration</th>\n",
       "      <th>video_age</th>\n",
       "      <th>pub_year</th>\n",
       "      <th>pub_month</th>\n",
       "      <th>pub_day_of_week</th>\n",
       "      <th>pub_hour</th>\n",
       "      <th>publish_season</th>\n",
       "      <th>publish_time_of_day</th>\n",
       "    </tr>\n",
       "  </thead>\n",
       "  <tbody>\n",
       "    <tr>\n",
       "      <th>10406</th>\n",
       "      <td>video_5866731</td>\n",
       "      <td>ТВ И СМИ</td>\n",
       "      <td>Телепередачи</td>\n",
       "      <td>34</td>\n",
       "      <td>47268</td>\n",
       "      <td>15571</td>\n",
       "      <td>1418</td>\n",
       "      <td>161</td>\n",
       "      <td>9</td>\n",
       "      <td>0</td>\n",
       "      <td>...</td>\n",
       "      <td>0.000719</td>\n",
       "      <td>0.000190</td>\n",
       "      <td>744</td>\n",
       "      <td>35</td>\n",
       "      <td>2023</td>\n",
       "      <td>3</td>\n",
       "      <td>0</td>\n",
       "      <td>0</td>\n",
       "      <td>1</td>\n",
       "      <td>Night</td>\n",
       "    </tr>\n",
       "    <tr>\n",
       "      <th>25877</th>\n",
       "      <td>video_14044662</td>\n",
       "      <td>ТВ И СМИ</td>\n",
       "      <td>Спорт</td>\n",
       "      <td>38</td>\n",
       "      <td>19919</td>\n",
       "      <td>19919</td>\n",
       "      <td>72</td>\n",
       "      <td>9</td>\n",
       "      <td>49</td>\n",
       "      <td>0</td>\n",
       "      <td>...</td>\n",
       "      <td>0.001908</td>\n",
       "      <td>0.002460</td>\n",
       "      <td>3206</td>\n",
       "      <td>27</td>\n",
       "      <td>2023</td>\n",
       "      <td>4</td>\n",
       "      <td>1</td>\n",
       "      <td>16</td>\n",
       "      <td>2</td>\n",
       "      <td>Afternoon</td>\n",
       "    </tr>\n",
       "    <tr>\n",
       "      <th>27527</th>\n",
       "      <td>video_12561562</td>\n",
       "      <td>ТВ И СМИ</td>\n",
       "      <td>Юмор</td>\n",
       "      <td>14</td>\n",
       "      <td>19016</td>\n",
       "      <td>19016</td>\n",
       "      <td>19016</td>\n",
       "      <td>1445</td>\n",
       "      <td>53</td>\n",
       "      <td>0</td>\n",
       "      <td>...</td>\n",
       "      <td>0.000736</td>\n",
       "      <td>0.002787</td>\n",
       "      <td>1233</td>\n",
       "      <td>2</td>\n",
       "      <td>2023</td>\n",
       "      <td>4</td>\n",
       "      <td>5</td>\n",
       "      <td>8</td>\n",
       "      <td>2</td>\n",
       "      <td>Morning</td>\n",
       "    </tr>\n",
       "    <tr>\n",
       "      <th>33431</th>\n",
       "      <td>video_11081589</td>\n",
       "      <td>ТВ И СМИ</td>\n",
       "      <td>Телепередачи</td>\n",
       "      <td>613</td>\n",
       "      <td>994410</td>\n",
       "      <td>202665</td>\n",
       "      <td>38219</td>\n",
       "      <td>5620</td>\n",
       "      <td>30</td>\n",
       "      <td>0</td>\n",
       "      <td>...</td>\n",
       "      <td>0.000616</td>\n",
       "      <td>0.000030</td>\n",
       "      <td>724</td>\n",
       "      <td>50</td>\n",
       "      <td>2023</td>\n",
       "      <td>3</td>\n",
       "      <td>6</td>\n",
       "      <td>17</td>\n",
       "      <td>1</td>\n",
       "      <td>Afternoon</td>\n",
       "    </tr>\n",
       "    <tr>\n",
       "      <th>50721</th>\n",
       "      <td>video_10518164</td>\n",
       "      <td>ТВ И СМИ</td>\n",
       "      <td>Телепередачи</td>\n",
       "      <td>45</td>\n",
       "      <td>394602</td>\n",
       "      <td>63601</td>\n",
       "      <td>15848</td>\n",
       "      <td>2251</td>\n",
       "      <td>30</td>\n",
       "      <td>0</td>\n",
       "      <td>...</td>\n",
       "      <td>0.000114</td>\n",
       "      <td>0.000076</td>\n",
       "      <td>289</td>\n",
       "      <td>485</td>\n",
       "      <td>2022</td>\n",
       "      <td>1</td>\n",
       "      <td>5</td>\n",
       "      <td>10</td>\n",
       "      <td>1</td>\n",
       "      <td>Morning</td>\n",
       "    </tr>\n",
       "  </tbody>\n",
       "</table>\n",
       "<p>5 rows × 38 columns</p>\n",
       "</div>"
      ],
      "text/plain": [
       "             video_id v_channel_type    v_category  total_comments  \\\n",
       "10406   video_5866731       ТВ И СМИ  Телепередачи              34   \n",
       "25877  video_14044662       ТВ И СМИ         Спорт              38   \n",
       "27527  video_12561562       ТВ И СМИ          Юмор              14   \n",
       "33431  video_11081589       ТВ И СМИ  Телепередачи             613   \n",
       "50721  video_10518164       ТВ И СМИ  Телепередачи              45   \n",
       "\n",
       "       v_year_views  v_month_views  v_week_views  v_day_views  v_likes  \\\n",
       "10406         47268          15571          1418          161        9   \n",
       "25877         19919          19919            72            9       49   \n",
       "27527         19016          19016         19016         1445       53   \n",
       "33431        994410         202665         38219         5620       30   \n",
       "50721        394602          63601         15848         2251       30   \n",
       "\n",
       "       v_dislikes  ...  comments_per_view  likes_per_view  \\\n",
       "10406           0  ...           0.000719        0.000190   \n",
       "25877           0  ...           0.001908        0.002460   \n",
       "27527           0  ...           0.000736        0.002787   \n",
       "33431           0  ...           0.000616        0.000030   \n",
       "50721           0  ...           0.000114        0.000076   \n",
       "\n",
       "       channel_existence_duration  video_age  pub_year  pub_month  \\\n",
       "10406                         744         35      2023          3   \n",
       "25877                        3206         27      2023          4   \n",
       "27527                        1233          2      2023          4   \n",
       "33431                         724         50      2023          3   \n",
       "50721                         289        485      2022          1   \n",
       "\n",
       "       pub_day_of_week  pub_hour  publish_season  publish_time_of_day  \n",
       "10406                0         0               1                Night  \n",
       "25877                1        16               2            Afternoon  \n",
       "27527                5         8               2              Morning  \n",
       "33431                6        17               1            Afternoon  \n",
       "50721                5        10               1              Morning  \n",
       "\n",
       "[5 rows x 38 columns]"
      ]
     },
     "metadata": {},
     "output_type": "display_data"
    },
    {
     "name": "stdout",
     "output_type": "stream",
     "text": [
      "<class 'pandas.core.frame.DataFrame'>\n",
      "Index: 16836 entries, 10406 to 65451523\n",
      "Data columns (total 38 columns):\n",
      " #   Column                        Non-Null Count  Dtype   \n",
      "---  ------                        --------------  -----   \n",
      " 0   video_id                      16836 non-null  object  \n",
      " 1   v_channel_type                16836 non-null  object  \n",
      " 2   v_category                    16836 non-null  object  \n",
      " 3   total_comments                16836 non-null  int64   \n",
      " 4   v_year_views                  16836 non-null  int64   \n",
      " 5   v_month_views                 16836 non-null  int64   \n",
      " 6   v_week_views                  16836 non-null  int64   \n",
      " 7   v_day_views                   16836 non-null  int64   \n",
      " 8   v_likes                       16836 non-null  int64   \n",
      " 9   v_dislikes                    16836 non-null  int64   \n",
      " 10  v_duration                    16836 non-null  int64   \n",
      " 11  v_cr_click_like_7_days        16836 non-null  float64 \n",
      " 12  v_cr_click_dislike_7_days     16836 non-null  float64 \n",
      " 13  v_cr_click_vtop_7_days        16836 non-null  float64 \n",
      " 14  v_cr_click_long_view_7_days   16836 non-null  float64 \n",
      " 15  v_cr_click_comment_7_days     16836 non-null  float64 \n",
      " 16  v_cr_click_like_30_days       16836 non-null  float64 \n",
      " 17  v_cr_click_dislike_30_days    16836 non-null  float64 \n",
      " 18  v_cr_click_vtop_30_days       16836 non-null  float64 \n",
      " 19  v_cr_click_long_view_30_days  16836 non-null  float64 \n",
      " 20  v_cr_click_comment_30_days    16836 non-null  float64 \n",
      " 21  v_cr_click_like_1_days        16836 non-null  float64 \n",
      " 22  v_cr_click_dislike_1_days     16836 non-null  float64 \n",
      " 23  v_cr_click_vtop_1_days        16836 non-null  float64 \n",
      " 24  v_cr_click_long_view_1_days   16836 non-null  float64 \n",
      " 25  v_cr_click_comment_1_days     16836 non-null  float64 \n",
      " 26  likes_dislikes_ratio          16836 non-null  float64 \n",
      " 27  views_per_like                16836 non-null  float64 \n",
      " 28  comments_per_view             16836 non-null  float64 \n",
      " 29  likes_per_view                16836 non-null  float64 \n",
      " 30  channel_existence_duration    16836 non-null  int64   \n",
      " 31  video_age                     16836 non-null  int64   \n",
      " 32  pub_year                      16836 non-null  int32   \n",
      " 33  pub_month                     16836 non-null  int32   \n",
      " 34  pub_day_of_week               16836 non-null  int32   \n",
      " 35  pub_hour                      16836 non-null  int32   \n",
      " 36  publish_season                16836 non-null  int32   \n",
      " 37  publish_time_of_day           16836 non-null  category\n",
      "dtypes: category(1), float64(19), int32(5), int64(10), object(3)\n",
      "memory usage: 4.6+ MB\n"
     ]
    },
    {
     "data": {
      "text/plain": [
       "None"
      ]
     },
     "metadata": {},
     "output_type": "display_data"
    },
    {
     "data": {
      "text/html": [
       "<div>\n",
       "<style scoped>\n",
       "    .dataframe tbody tr th:only-of-type {\n",
       "        vertical-align: middle;\n",
       "    }\n",
       "\n",
       "    .dataframe tbody tr th {\n",
       "        vertical-align: top;\n",
       "    }\n",
       "\n",
       "    .dataframe thead th {\n",
       "        text-align: right;\n",
       "    }\n",
       "</style>\n",
       "<table border=\"1\" class=\"dataframe\">\n",
       "  <thead>\n",
       "    <tr style=\"text-align: right;\">\n",
       "      <th></th>\n",
       "      <th>total_comments</th>\n",
       "      <th>v_year_views</th>\n",
       "      <th>v_month_views</th>\n",
       "      <th>v_week_views</th>\n",
       "      <th>v_day_views</th>\n",
       "      <th>v_likes</th>\n",
       "      <th>v_dislikes</th>\n",
       "      <th>v_duration</th>\n",
       "      <th>v_cr_click_like_7_days</th>\n",
       "      <th>v_cr_click_dislike_7_days</th>\n",
       "      <th>...</th>\n",
       "      <th>views_per_like</th>\n",
       "      <th>comments_per_view</th>\n",
       "      <th>likes_per_view</th>\n",
       "      <th>channel_existence_duration</th>\n",
       "      <th>video_age</th>\n",
       "      <th>pub_year</th>\n",
       "      <th>pub_month</th>\n",
       "      <th>pub_day_of_week</th>\n",
       "      <th>pub_hour</th>\n",
       "      <th>publish_season</th>\n",
       "    </tr>\n",
       "  </thead>\n",
       "  <tbody>\n",
       "    <tr>\n",
       "      <th>count</th>\n",
       "      <td>16836.000000</td>\n",
       "      <td>1.683600e+04</td>\n",
       "      <td>1.683600e+04</td>\n",
       "      <td>1.683600e+04</td>\n",
       "      <td>16836.000000</td>\n",
       "      <td>16836.000000</td>\n",
       "      <td>16836.000000</td>\n",
       "      <td>1.683600e+04</td>\n",
       "      <td>16836.000000</td>\n",
       "      <td>16836.000000</td>\n",
       "      <td>...</td>\n",
       "      <td>16836.000000</td>\n",
       "      <td>16836.000000</td>\n",
       "      <td>16836.000000</td>\n",
       "      <td>16836.000000</td>\n",
       "      <td>16836.000000</td>\n",
       "      <td>16836.000000</td>\n",
       "      <td>16836.000000</td>\n",
       "      <td>16836.000000</td>\n",
       "      <td>16836.000000</td>\n",
       "      <td>16836.000000</td>\n",
       "    </tr>\n",
       "    <tr>\n",
       "      <th>mean</th>\n",
       "      <td>168.274828</td>\n",
       "      <td>1.930172e+05</td>\n",
       "      <td>3.010227e+04</td>\n",
       "      <td>6.735857e+03</td>\n",
       "      <td>903.535579</td>\n",
       "      <td>102.847232</td>\n",
       "      <td>2.068959</td>\n",
       "      <td>2.463761e+06</td>\n",
       "      <td>0.003606</td>\n",
       "      <td>0.000045</td>\n",
       "      <td>...</td>\n",
       "      <td>3773.437227</td>\n",
       "      <td>0.000659</td>\n",
       "      <td>0.001942</td>\n",
       "      <td>1184.455690</td>\n",
       "      <td>316.725232</td>\n",
       "      <td>2022.394690</td>\n",
       "      <td>5.818306</td>\n",
       "      <td>3.027619</td>\n",
       "      <td>13.940010</td>\n",
       "      <td>2.255940</td>\n",
       "    </tr>\n",
       "    <tr>\n",
       "      <th>std</th>\n",
       "      <td>3719.631486</td>\n",
       "      <td>7.536983e+05</td>\n",
       "      <td>1.690359e+05</td>\n",
       "      <td>4.624913e+04</td>\n",
       "      <td>6824.447940</td>\n",
       "      <td>329.295992</td>\n",
       "      <td>8.068606</td>\n",
       "      <td>2.175437e+06</td>\n",
       "      <td>0.027586</td>\n",
       "      <td>0.001080</td>\n",
       "      <td>...</td>\n",
       "      <td>12397.184417</td>\n",
       "      <td>0.002419</td>\n",
       "      <td>0.005793</td>\n",
       "      <td>1091.334856</td>\n",
       "      <td>402.120083</td>\n",
       "      <td>1.108712</td>\n",
       "      <td>3.067087</td>\n",
       "      <td>1.969837</td>\n",
       "      <td>5.105419</td>\n",
       "      <td>1.012372</td>\n",
       "    </tr>\n",
       "    <tr>\n",
       "      <th>min</th>\n",
       "      <td>0.000000</td>\n",
       "      <td>1.592100e+04</td>\n",
       "      <td>0.000000e+00</td>\n",
       "      <td>0.000000e+00</td>\n",
       "      <td>0.000000</td>\n",
       "      <td>9.000000</td>\n",
       "      <td>0.000000</td>\n",
       "      <td>0.000000e+00</td>\n",
       "      <td>0.000000</td>\n",
       "      <td>0.000000</td>\n",
       "      <td>...</td>\n",
       "      <td>8.349265</td>\n",
       "      <td>0.000000</td>\n",
       "      <td>0.000002</td>\n",
       "      <td>-2007.000000</td>\n",
       "      <td>-89.000000</td>\n",
       "      <td>2012.000000</td>\n",
       "      <td>1.000000</td>\n",
       "      <td>0.000000</td>\n",
       "      <td>0.000000</td>\n",
       "      <td>1.000000</td>\n",
       "    </tr>\n",
       "    <tr>\n",
       "      <th>25%</th>\n",
       "      <td>6.000000</td>\n",
       "      <td>2.331850e+04</td>\n",
       "      <td>1.504000e+03</td>\n",
       "      <td>2.180000e+02</td>\n",
       "      <td>23.000000</td>\n",
       "      <td>14.000000</td>\n",
       "      <td>0.000000</td>\n",
       "      <td>5.141340e+05</td>\n",
       "      <td>0.000000</td>\n",
       "      <td>0.000000</td>\n",
       "      <td>...</td>\n",
       "      <td>763.751116</td>\n",
       "      <td>0.000137</td>\n",
       "      <td>0.000307</td>\n",
       "      <td>431.000000</td>\n",
       "      <td>70.000000</td>\n",
       "      <td>2022.000000</td>\n",
       "      <td>3.000000</td>\n",
       "      <td>1.000000</td>\n",
       "      <td>10.000000</td>\n",
       "      <td>1.000000</td>\n",
       "    </tr>\n",
       "    <tr>\n",
       "      <th>50%</th>\n",
       "      <td>15.000000</td>\n",
       "      <td>3.779950e+04</td>\n",
       "      <td>4.401000e+03</td>\n",
       "      <td>8.050000e+02</td>\n",
       "      <td>102.000000</td>\n",
       "      <td>27.000000</td>\n",
       "      <td>0.000000</td>\n",
       "      <td>2.515334e+06</td>\n",
       "      <td>0.000566</td>\n",
       "      <td>0.000000</td>\n",
       "      <td>...</td>\n",
       "      <td>1576.414216</td>\n",
       "      <td>0.000352</td>\n",
       "      <td>0.000599</td>\n",
       "      <td>787.000000</td>\n",
       "      <td>174.000000</td>\n",
       "      <td>2023.000000</td>\n",
       "      <td>5.000000</td>\n",
       "      <td>3.000000</td>\n",
       "      <td>15.000000</td>\n",
       "      <td>2.000000</td>\n",
       "    </tr>\n",
       "    <tr>\n",
       "      <th>75%</th>\n",
       "      <td>43.000000</td>\n",
       "      <td>9.144575e+04</td>\n",
       "      <td>1.641700e+04</td>\n",
       "      <td>2.429000e+03</td>\n",
       "      <td>303.000000</td>\n",
       "      <td>68.000000</td>\n",
       "      <td>1.000000</td>\n",
       "      <td>3.088767e+06</td>\n",
       "      <td>0.002018</td>\n",
       "      <td>0.000000</td>\n",
       "      <td>...</td>\n",
       "      <td>3088.588415</td>\n",
       "      <td>0.000678</td>\n",
       "      <td>0.001274</td>\n",
       "      <td>1786.000000</td>\n",
       "      <td>477.000000</td>\n",
       "      <td>2023.000000</td>\n",
       "      <td>8.000000</td>\n",
       "      <td>5.000000</td>\n",
       "      <td>18.000000</td>\n",
       "      <td>3.000000</td>\n",
       "    </tr>\n",
       "    <tr>\n",
       "      <th>max</th>\n",
       "      <td>287265.000000</td>\n",
       "      <td>1.862395e+07</td>\n",
       "      <td>6.090112e+06</td>\n",
       "      <td>2.359747e+06</td>\n",
       "      <td>427290.000000</td>\n",
       "      <td>6946.000000</td>\n",
       "      <td>174.000000</td>\n",
       "      <td>3.705201e+07</td>\n",
       "      <td>1.000000</td>\n",
       "      <td>0.125000</td>\n",
       "      <td>...</td>\n",
       "      <td>525175.666667</td>\n",
       "      <td>0.089769</td>\n",
       "      <td>0.119727</td>\n",
       "      <td>3983.000000</td>\n",
       "      <td>4094.000000</td>\n",
       "      <td>2023.000000</td>\n",
       "      <td>12.000000</td>\n",
       "      <td>6.000000</td>\n",
       "      <td>23.000000</td>\n",
       "      <td>4.000000</td>\n",
       "    </tr>\n",
       "  </tbody>\n",
       "</table>\n",
       "<p>8 rows × 34 columns</p>\n",
       "</div>"
      ],
      "text/plain": [
       "       total_comments  v_year_views  v_month_views  v_week_views  \\\n",
       "count    16836.000000  1.683600e+04   1.683600e+04  1.683600e+04   \n",
       "mean       168.274828  1.930172e+05   3.010227e+04  6.735857e+03   \n",
       "std       3719.631486  7.536983e+05   1.690359e+05  4.624913e+04   \n",
       "min          0.000000  1.592100e+04   0.000000e+00  0.000000e+00   \n",
       "25%          6.000000  2.331850e+04   1.504000e+03  2.180000e+02   \n",
       "50%         15.000000  3.779950e+04   4.401000e+03  8.050000e+02   \n",
       "75%         43.000000  9.144575e+04   1.641700e+04  2.429000e+03   \n",
       "max     287265.000000  1.862395e+07   6.090112e+06  2.359747e+06   \n",
       "\n",
       "         v_day_views       v_likes    v_dislikes    v_duration  \\\n",
       "count   16836.000000  16836.000000  16836.000000  1.683600e+04   \n",
       "mean      903.535579    102.847232      2.068959  2.463761e+06   \n",
       "std      6824.447940    329.295992      8.068606  2.175437e+06   \n",
       "min         0.000000      9.000000      0.000000  0.000000e+00   \n",
       "25%        23.000000     14.000000      0.000000  5.141340e+05   \n",
       "50%       102.000000     27.000000      0.000000  2.515334e+06   \n",
       "75%       303.000000     68.000000      1.000000  3.088767e+06   \n",
       "max    427290.000000   6946.000000    174.000000  3.705201e+07   \n",
       "\n",
       "       v_cr_click_like_7_days  v_cr_click_dislike_7_days  ...  views_per_like  \\\n",
       "count            16836.000000               16836.000000  ...    16836.000000   \n",
       "mean                 0.003606                   0.000045  ...     3773.437227   \n",
       "std                  0.027586                   0.001080  ...    12397.184417   \n",
       "min                  0.000000                   0.000000  ...        8.349265   \n",
       "25%                  0.000000                   0.000000  ...      763.751116   \n",
       "50%                  0.000566                   0.000000  ...     1576.414216   \n",
       "75%                  0.002018                   0.000000  ...     3088.588415   \n",
       "max                  1.000000                   0.125000  ...   525175.666667   \n",
       "\n",
       "       comments_per_view  likes_per_view  channel_existence_duration  \\\n",
       "count       16836.000000    16836.000000                16836.000000   \n",
       "mean            0.000659        0.001942                 1184.455690   \n",
       "std             0.002419        0.005793                 1091.334856   \n",
       "min             0.000000        0.000002                -2007.000000   \n",
       "25%             0.000137        0.000307                  431.000000   \n",
       "50%             0.000352        0.000599                  787.000000   \n",
       "75%             0.000678        0.001274                 1786.000000   \n",
       "max             0.089769        0.119727                 3983.000000   \n",
       "\n",
       "          video_age      pub_year     pub_month  pub_day_of_week  \\\n",
       "count  16836.000000  16836.000000  16836.000000     16836.000000   \n",
       "mean     316.725232   2022.394690      5.818306         3.027619   \n",
       "std      402.120083      1.108712      3.067087         1.969837   \n",
       "min      -89.000000   2012.000000      1.000000         0.000000   \n",
       "25%       70.000000   2022.000000      3.000000         1.000000   \n",
       "50%      174.000000   2023.000000      5.000000         3.000000   \n",
       "75%      477.000000   2023.000000      8.000000         5.000000   \n",
       "max     4094.000000   2023.000000     12.000000         6.000000   \n",
       "\n",
       "           pub_hour  publish_season  \n",
       "count  16836.000000    16836.000000  \n",
       "mean      13.940010        2.255940  \n",
       "std        5.105419        1.012372  \n",
       "min        0.000000        1.000000  \n",
       "25%       10.000000        1.000000  \n",
       "50%       15.000000        2.000000  \n",
       "75%       18.000000        3.000000  \n",
       "max       23.000000        4.000000  \n",
       "\n",
       "[8 rows x 34 columns]"
      ]
     },
     "metadata": {},
     "output_type": "display_data"
    },
    {
     "data": {
      "text/plain": [
       "video_id                        0\n",
       "v_channel_type                  0\n",
       "v_category                      0\n",
       "total_comments                  0\n",
       "v_year_views                    0\n",
       "v_month_views                   0\n",
       "v_week_views                    0\n",
       "v_day_views                     0\n",
       "v_likes                         0\n",
       "v_dislikes                      0\n",
       "v_duration                      0\n",
       "v_cr_click_like_7_days          0\n",
       "v_cr_click_dislike_7_days       0\n",
       "v_cr_click_vtop_7_days          0\n",
       "v_cr_click_long_view_7_days     0\n",
       "v_cr_click_comment_7_days       0\n",
       "v_cr_click_like_30_days         0\n",
       "v_cr_click_dislike_30_days      0\n",
       "v_cr_click_vtop_30_days         0\n",
       "v_cr_click_long_view_30_days    0\n",
       "v_cr_click_comment_30_days      0\n",
       "v_cr_click_like_1_days          0\n",
       "v_cr_click_dislike_1_days       0\n",
       "v_cr_click_vtop_1_days          0\n",
       "v_cr_click_long_view_1_days     0\n",
       "v_cr_click_comment_1_days       0\n",
       "likes_dislikes_ratio            0\n",
       "views_per_like                  0\n",
       "comments_per_view               0\n",
       "likes_per_view                  0\n",
       "channel_existence_duration      0\n",
       "video_age                       0\n",
       "pub_year                        0\n",
       "pub_month                       0\n",
       "pub_day_of_week                 0\n",
       "pub_hour                        0\n",
       "publish_season                  0\n",
       "publish_time_of_day             0\n",
       "dtype: int64"
      ]
     },
     "metadata": {},
     "output_type": "display_data"
    }
   ],
   "source": [
    "# Просмотр первых нескольких строк датасета\n",
    "display(features.head())\n",
    "\n",
    "# Общая информация о датасете\n",
    "display(features.info())\n",
    "\n",
    "# Статистика по числовым признакам\n",
    "display(features.describe())\n",
    "\n",
    "# Проверка наличия пропущенных значений\n",
    "display(features.isnull().sum())"
   ]
  },
  {
   "cell_type": "markdown",
   "metadata": {},
   "source": [
    "# Формирование дата признаками"
   ]
  },
  {
   "cell_type": "code",
   "execution_count": 37,
   "metadata": {
    "execution": {
     "iopub.execute_input": "2023-11-24T16:52:37.545022Z",
     "iopub.status.busy": "2023-11-24T16:52:37.544263Z",
     "iopub.status.idle": "2023-11-24T16:52:39.716533Z",
     "shell.execute_reply": "2023-11-24T16:52:39.715279Z",
     "shell.execute_reply.started": "2023-11-24T16:52:37.544982Z"
    },
    "tags": []
   },
   "outputs": [],
   "source": [
    "full_df = candidates_with_target.merge(\n",
    "    features, how=\"inner\", left_on=\"video_id\", right_on=\"video_id\"\n",
    ")\n",
    "del features\n",
    "full_df = full_df.drop_duplicates()"
   ]
  },
  {
   "cell_type": "code",
   "execution_count": 38,
   "metadata": {
    "execution": {
     "iopub.execute_input": "2023-11-24T16:52:39.719028Z",
     "iopub.status.busy": "2023-11-24T16:52:39.718342Z",
     "iopub.status.idle": "2023-11-24T16:52:40.388395Z",
     "shell.execute_reply": "2023-11-24T16:52:40.387235Z",
     "shell.execute_reply.started": "2023-11-24T16:52:39.718993Z"
    },
    "tags": []
   },
   "outputs": [],
   "source": [
    "groups_to_drop = []\n",
    "full_df[\"group_id\"] = full_df.groupby([\"query\"]).ngroup()\n",
    "for group in full_df[\"group_id\"].unique():\n",
    "    part_df = full_df[full_df[\"group_id\"] == group]\n",
    "    target_sum = part_df[\"target\"].values.sum()\n",
    "    if target_sum <= 0:\n",
    "        groups_to_drop += [group]\n",
    "full_df = full_df[~full_df[\"group_id\"].isin(groups_to_drop)]"
   ]
  },
  {
   "cell_type": "code",
   "execution_count": 39,
   "metadata": {
    "execution": {
     "iopub.execute_input": "2023-11-24T19:32:51.771780Z",
     "iopub.status.busy": "2023-11-24T19:32:51.771117Z",
     "iopub.status.idle": "2023-11-24T19:32:51.806435Z",
     "shell.execute_reply": "2023-11-24T19:32:51.805217Z",
     "shell.execute_reply.started": "2023-11-24T19:32:51.771744Z"
    },
    "tags": []
   },
   "outputs": [
    {
     "data": {
      "text/plain": [
       "array([0., 1.])"
      ]
     },
     "execution_count": 39,
     "metadata": {},
     "output_type": "execute_result"
    }
   ],
   "source": [
    "full_df.target.unique()"
   ]
  },
  {
   "cell_type": "code",
   "execution_count": 40,
   "metadata": {
    "execution": {
     "iopub.execute_input": "2023-11-24T18:09:53.867613Z",
     "iopub.status.busy": "2023-11-24T18:09:53.866575Z",
     "iopub.status.idle": "2023-11-24T18:09:53.980134Z",
     "shell.execute_reply": "2023-11-24T18:09:53.978917Z",
     "shell.execute_reply.started": "2023-11-24T18:09:53.867558Z"
    }
   },
   "outputs": [],
   "source": [
    "full_df.to_parquet(\"full_df.parquet\")"
   ]
  },
  {
   "cell_type": "code",
   "execution_count": 41,
   "metadata": {
    "execution": {
     "iopub.execute_input": "2023-11-24T18:30:01.176873Z",
     "iopub.status.busy": "2023-11-24T18:30:01.175826Z",
     "iopub.status.idle": "2023-11-24T18:30:01.280452Z",
     "shell.execute_reply": "2023-11-24T18:30:01.279244Z",
     "shell.execute_reply.started": "2023-11-24T18:30:01.176821Z"
    },
    "tags": []
   },
   "outputs": [],
   "source": [
    "#full_df = pd.read_parquet(\"full_df.parquet\")\n",
    "groups = pd.Series(full_df[\"group_id\"].unique())\n",
    "permutation = groups.sample(frac=1, random_state=seed)\n",
    "train_groups, val_groups, test_groups = np.split(\n",
    "    permutation, [int(0.75 * len(permutation)), int(0.90 * len(permutation))]\n",
    ")"
   ]
  },
  {
   "cell_type": "code",
   "execution_count": 42,
   "metadata": {
    "execution": {
     "iopub.execute_input": "2023-11-24T18:30:03.438169Z",
     "iopub.status.busy": "2023-11-24T18:30:03.436958Z",
     "iopub.status.idle": "2023-11-24T18:30:03.466716Z",
     "shell.execute_reply": "2023-11-24T18:30:03.465561Z",
     "shell.execute_reply.started": "2023-11-24T18:30:03.438112Z"
    },
    "tags": []
   },
   "outputs": [],
   "source": [
    "train_df = full_df[full_df[\"group_id\"].isin(train_groups)]\n",
    "val_df = full_df[full_df[\"group_id\"].isin(val_groups)]\n",
    "test_df = full_df[full_df[\"group_id\"].isin(test_groups)]"
   ]
  },
  {
   "cell_type": "code",
   "execution_count": 43,
   "metadata": {
    "execution": {
     "iopub.execute_input": "2023-11-24T18:30:04.718538Z",
     "iopub.status.busy": "2023-11-24T18:30:04.717547Z",
     "iopub.status.idle": "2023-11-24T18:30:04.753604Z",
     "shell.execute_reply": "2023-11-24T18:30:04.752439Z",
     "shell.execute_reply.started": "2023-11-24T18:30:04.718473Z"
    },
    "tags": []
   },
   "outputs": [],
   "source": [
    "train_df = train_df.sort_values(\"group_id\")\n",
    "val_df = val_df.sort_values(\"group_id\")\n",
    "test_df = test_df.sort_values(\"group_id\")"
   ]
  },
  {
   "cell_type": "code",
   "execution_count": 44,
   "metadata": {},
   "outputs": [
    {
     "data": {
      "text/html": [
       "<div>\n",
       "<style scoped>\n",
       "    .dataframe tbody tr th:only-of-type {\n",
       "        vertical-align: middle;\n",
       "    }\n",
       "\n",
       "    .dataframe tbody tr th {\n",
       "        vertical-align: top;\n",
       "    }\n",
       "\n",
       "    .dataframe thead th {\n",
       "        text-align: right;\n",
       "    }\n",
       "</style>\n",
       "<table border=\"1\" class=\"dataframe\">\n",
       "  <thead>\n",
       "    <tr style=\"text-align: right;\">\n",
       "      <th></th>\n",
       "      <th>query</th>\n",
       "      <th>video_id</th>\n",
       "      <th>dist</th>\n",
       "      <th>target</th>\n",
       "      <th>v_channel_type</th>\n",
       "      <th>v_category</th>\n",
       "      <th>total_comments</th>\n",
       "      <th>v_year_views</th>\n",
       "      <th>v_month_views</th>\n",
       "      <th>v_week_views</th>\n",
       "      <th>...</th>\n",
       "      <th>likes_per_view</th>\n",
       "      <th>channel_existence_duration</th>\n",
       "      <th>video_age</th>\n",
       "      <th>pub_year</th>\n",
       "      <th>pub_month</th>\n",
       "      <th>pub_day_of_week</th>\n",
       "      <th>pub_hour</th>\n",
       "      <th>publish_season</th>\n",
       "      <th>publish_time_of_day</th>\n",
       "      <th>group_id</th>\n",
       "    </tr>\n",
       "  </thead>\n",
       "  <tbody>\n",
       "    <tr>\n",
       "      <th>193842</th>\n",
       "      <td>13 выпуск битва экстрасенсов</td>\n",
       "      <td>video_4414305</td>\n",
       "      <td>0.309183</td>\n",
       "      <td>1.0</td>\n",
       "      <td>ТВ И СМИ</td>\n",
       "      <td>Телепередачи</td>\n",
       "      <td>3040</td>\n",
       "      <td>3184364</td>\n",
       "      <td>3184364</td>\n",
       "      <td>338874</td>\n",
       "      <td>...</td>\n",
       "      <td>0.001843</td>\n",
       "      <td>905</td>\n",
       "      <td>22</td>\n",
       "      <td>2023</td>\n",
       "      <td>9</td>\n",
       "      <td>5</td>\n",
       "      <td>18</td>\n",
       "      <td>3</td>\n",
       "      <td>Afternoon</td>\n",
       "      <td>3</td>\n",
       "    </tr>\n",
       "    <tr>\n",
       "      <th>193843</th>\n",
       "      <td>13 выпуск битва экстрасенсов</td>\n",
       "      <td>video_4414305</td>\n",
       "      <td>0.309183</td>\n",
       "      <td>1.0</td>\n",
       "      <td>ТВ И СМИ</td>\n",
       "      <td>Телепередачи</td>\n",
       "      <td>3404</td>\n",
       "      <td>4055635</td>\n",
       "      <td>871271</td>\n",
       "      <td>152117</td>\n",
       "      <td>...</td>\n",
       "      <td>0.001713</td>\n",
       "      <td>905</td>\n",
       "      <td>53</td>\n",
       "      <td>2023</td>\n",
       "      <td>9</td>\n",
       "      <td>5</td>\n",
       "      <td>18</td>\n",
       "      <td>3</td>\n",
       "      <td>Afternoon</td>\n",
       "      <td>3</td>\n",
       "    </tr>\n",
       "    <tr>\n",
       "      <th>181684</th>\n",
       "      <td>13 выпуск битва экстрасенсов</td>\n",
       "      <td>video_23120605</td>\n",
       "      <td>0.288739</td>\n",
       "      <td>1.0</td>\n",
       "      <td>ТВ И СМИ</td>\n",
       "      <td>Телепередачи</td>\n",
       "      <td>2703</td>\n",
       "      <td>3434655</td>\n",
       "      <td>3434655</td>\n",
       "      <td>536592</td>\n",
       "      <td>...</td>\n",
       "      <td>0.000639</td>\n",
       "      <td>821</td>\n",
       "      <td>14</td>\n",
       "      <td>2023</td>\n",
       "      <td>6</td>\n",
       "      <td>5</td>\n",
       "      <td>18</td>\n",
       "      <td>2</td>\n",
       "      <td>Afternoon</td>\n",
       "      <td>3</td>\n",
       "    </tr>\n",
       "    <tr>\n",
       "      <th>181688</th>\n",
       "      <td>13 выпуск битва экстрасенсов</td>\n",
       "      <td>video_23120605</td>\n",
       "      <td>0.288739</td>\n",
       "      <td>1.0</td>\n",
       "      <td>ТВ И СМИ</td>\n",
       "      <td>Телепередачи</td>\n",
       "      <td>3432</td>\n",
       "      <td>6026262</td>\n",
       "      <td>625076</td>\n",
       "      <td>128961</td>\n",
       "      <td>...</td>\n",
       "      <td>0.000791</td>\n",
       "      <td>821</td>\n",
       "      <td>137</td>\n",
       "      <td>2023</td>\n",
       "      <td>6</td>\n",
       "      <td>5</td>\n",
       "      <td>18</td>\n",
       "      <td>2</td>\n",
       "      <td>Afternoon</td>\n",
       "      <td>3</td>\n",
       "    </tr>\n",
       "    <tr>\n",
       "      <th>181687</th>\n",
       "      <td>13 выпуск битва экстрасенсов</td>\n",
       "      <td>video_23120605</td>\n",
       "      <td>0.288739</td>\n",
       "      <td>1.0</td>\n",
       "      <td>ТВ И СМИ</td>\n",
       "      <td>Телепередачи</td>\n",
       "      <td>3262</td>\n",
       "      <td>5401186</td>\n",
       "      <td>703151</td>\n",
       "      <td>161942</td>\n",
       "      <td>...</td>\n",
       "      <td>0.000735</td>\n",
       "      <td>821</td>\n",
       "      <td>106</td>\n",
       "      <td>2023</td>\n",
       "      <td>6</td>\n",
       "      <td>5</td>\n",
       "      <td>18</td>\n",
       "      <td>2</td>\n",
       "      <td>Afternoon</td>\n",
       "      <td>3</td>\n",
       "    </tr>\n",
       "  </tbody>\n",
       "</table>\n",
       "<p>5 rows × 42 columns</p>\n",
       "</div>"
      ],
      "text/plain": [
       "                               query        video_id      dist  target  \\\n",
       "193842  13 выпуск битва экстрасенсов   video_4414305  0.309183     1.0   \n",
       "193843  13 выпуск битва экстрасенсов   video_4414305  0.309183     1.0   \n",
       "181684  13 выпуск битва экстрасенсов  video_23120605  0.288739     1.0   \n",
       "181688  13 выпуск битва экстрасенсов  video_23120605  0.288739     1.0   \n",
       "181687  13 выпуск битва экстрасенсов  video_23120605  0.288739     1.0   \n",
       "\n",
       "       v_channel_type    v_category  total_comments  v_year_views  \\\n",
       "193842       ТВ И СМИ  Телепередачи            3040       3184364   \n",
       "193843       ТВ И СМИ  Телепередачи            3404       4055635   \n",
       "181684       ТВ И СМИ  Телепередачи            2703       3434655   \n",
       "181688       ТВ И СМИ  Телепередачи            3432       6026262   \n",
       "181687       ТВ И СМИ  Телепередачи            3262       5401186   \n",
       "\n",
       "        v_month_views  v_week_views  ...  likes_per_view  \\\n",
       "193842        3184364        338874  ...        0.001843   \n",
       "193843         871271        152117  ...        0.001713   \n",
       "181684        3434655        536592  ...        0.000639   \n",
       "181688         625076        128961  ...        0.000791   \n",
       "181687         703151        161942  ...        0.000735   \n",
       "\n",
       "        channel_existence_duration  video_age  pub_year  pub_month  \\\n",
       "193842                         905         22      2023          9   \n",
       "193843                         905         53      2023          9   \n",
       "181684                         821         14      2023          6   \n",
       "181688                         821        137      2023          6   \n",
       "181687                         821        106      2023          6   \n",
       "\n",
       "        pub_day_of_week  pub_hour  publish_season  publish_time_of_day  \\\n",
       "193842                5        18               3            Afternoon   \n",
       "193843                5        18               3            Afternoon   \n",
       "181684                5        18               2            Afternoon   \n",
       "181688                5        18               2            Afternoon   \n",
       "181687                5        18               2            Afternoon   \n",
       "\n",
       "        group_id  \n",
       "193842         3  \n",
       "193843         3  \n",
       "181684         3  \n",
       "181688         3  \n",
       "181687         3  \n",
       "\n",
       "[5 rows x 42 columns]"
      ]
     },
     "execution_count": 44,
     "metadata": {},
     "output_type": "execute_result"
    }
   ],
   "source": [
    "train_df.head()"
   ]
  },
  {
   "cell_type": "code",
   "execution_count": 45,
   "metadata": {
    "execution": {
     "iopub.execute_input": "2023-11-24T18:30:05.441579Z",
     "iopub.status.busy": "2023-11-24T18:30:05.440717Z",
     "iopub.status.idle": "2023-11-24T18:30:05.463010Z",
     "shell.execute_reply": "2023-11-24T18:30:05.461928Z",
     "shell.execute_reply.started": "2023-11-24T18:30:05.441545Z"
    },
    "tags": []
   },
   "outputs": [],
   "source": [
    "metainfo_columns = [\"query\", \"video_id\", \"target\", \"group_id\"]\n",
    "\n",
    "X_train = train_df.drop(metainfo_columns, axis=1)\n",
    "y_train, g_train = train_df[\"target\"], train_df[\"group_id\"]\n",
    "\n",
    "X_val = val_df.drop(metainfo_columns, axis=1)\n",
    "y_val, g_val = val_df[\"target\"], val_df[\"group_id\"]\n",
    "\n",
    "X_test = test_df.drop(metainfo_columns, axis=1)\n",
    "y_test, g_test = test_df[\"target\"], test_df[\"group_id\"]"
   ]
  },
  {
   "cell_type": "code",
   "execution_count": 46,
   "metadata": {
    "execution": {
     "iopub.execute_input": "2023-11-24T18:30:06.333617Z",
     "iopub.status.busy": "2023-11-24T18:30:06.332542Z",
     "iopub.status.idle": "2023-11-24T18:30:06.635446Z",
     "shell.execute_reply": "2023-11-24T18:30:06.634272Z",
     "shell.execute_reply.started": "2023-11-24T18:30:06.333557Z"
    },
    "tags": []
   },
   "outputs": [],
   "source": [
    "categorical_features = [\n",
    "    \"v_channel_type\",\n",
    "    \"v_category\",\n",
    "    \"pub_year\",\n",
    "    \"pub_month\",\n",
    "    \"pub_hour\",\n",
    "    \"pub_day_of_week\",\n",
    "    \"publish_season\",\n",
    "    \"publish_time_of_day\"\n",
    "]\n",
    "train = Pool(\n",
    "    data=X_train.values,\n",
    "    label=y_train.values,\n",
    "    group_id=g_train.values,\n",
    "    feature_names=X_train.columns.to_list(),\n",
    "    cat_features=categorical_features\n",
    ")\n",
    "\n",
    "val = Pool(\n",
    "    data=X_val.values,\n",
    "    label=y_val.values,\n",
    "    group_id=g_val.values,\n",
    "    feature_names=X_val.columns.to_list(),\n",
    "    cat_features=categorical_features\n",
    ")\n",
    "\n",
    "test = Pool(\n",
    "    data=X_test.values,\n",
    "    label=y_test.values,\n",
    "    group_id=g_test.values,\n",
    "    feature_names=X_test.columns.to_list(),\n",
    "    cat_features=categorical_features\n",
    ")"
   ]
  },
  {
   "cell_type": "markdown",
   "metadata": {},
   "source": [
    "# Обучение модели"
   ]
  },
  {
   "cell_type": "code",
   "execution_count": 47,
   "metadata": {
    "execution": {
     "iopub.execute_input": "2023-11-24T18:30:07.887266Z",
     "iopub.status.busy": "2023-11-24T18:30:07.886352Z",
     "iopub.status.idle": "2023-11-24T18:30:07.923511Z",
     "shell.execute_reply": "2023-11-24T18:30:07.922386Z",
     "shell.execute_reply.started": "2023-11-24T18:30:07.887228Z"
    },
    "tags": []
   },
   "outputs": [],
   "source": [
    "task_type = \"GPU\"\n",
    "metric_period = 250\n",
    "\n",
    "parameters = {\n",
    "    \"task_type\": task_type,\n",
    "    \"verbose\": False,\n",
    "    \"random_seed\": seed,\n",
    "    \"loss_function\": \"QueryRMSE\",\n",
    "    \"learning_rate\": 0.001,\n",
    "    \"l2_leaf_reg\": 30,\n",
    "    \"iterations\": 4000,\n",
    "    \"max_depth\": 3,\n",
    "}"
   ]
  },
  {
   "cell_type": "code",
   "execution_count": 48,
   "metadata": {
    "execution": {
     "iopub.execute_input": "2023-11-24T18:30:12.517367Z",
     "iopub.status.busy": "2023-11-24T18:30:12.516372Z",
     "iopub.status.idle": "2023-11-24T18:31:05.110153Z",
     "shell.execute_reply": "2023-11-24T18:31:05.109019Z",
     "shell.execute_reply.started": "2023-11-24T18:30:12.517310Z"
    },
    "tags": []
   },
   "outputs": [
    {
     "data": {
      "application/vnd.jupyter.widget-view+json": {
       "model_id": "cbe4d8bcb3b845a4b2a2fb3cdc1c1483",
       "version_major": 2,
       "version_minor": 0
      },
      "text/plain": [
       "MetricVisualizer(layout=Layout(align_self='stretch', height='500px'))"
      ]
     },
     "metadata": {},
     "output_type": "display_data"
    }
   ],
   "source": [
    "model = CatBoostRanker(**parameters)\n",
    "model = model.fit(\n",
    "    train, eval_set=val, plot=True, use_best_model=True, metric_period=metric_period\n",
    ")\n",
    "model.save_model(\"ranker.ckpt\")"
   ]
  },
  {
   "cell_type": "markdown",
   "metadata": {},
   "source": [
    "# Измерение метрик"
   ]
  },
  {
   "cell_type": "code",
   "execution_count": 49,
   "metadata": {
    "execution": {
     "iopub.execute_input": "2023-11-24T16:52:40.764899Z",
     "iopub.status.busy": "2023-11-24T16:52:40.764137Z",
     "iopub.status.idle": "2023-11-24T16:52:40.784473Z",
     "shell.execute_reply": "2023-11-24T16:52:40.783430Z",
     "shell.execute_reply.started": "2023-11-24T16:52:40.764862Z"
    },
    "tags": []
   },
   "outputs": [],
   "source": [
    "def _metrics_at(at, model, pool, metric=\"NDCG\"):\n",
    "    metric = metric + f\":top={at}\"\n",
    "    eval_metrics = model.eval_metrics(pool, metrics=[metric])\n",
    "    best_metrics = {}\n",
    "    for key in eval_metrics.keys():\n",
    "        best_metrics[key] = eval_metrics[key][model.best_iteration_]\n",
    "    return best_metrics\n",
    "\n",
    "\n",
    "metrics_train_at = partial(_metrics_at, model=model, pool=train)\n",
    "\n",
    "metrics_val_at = partial(_metrics_at, model=model, pool=val)\n",
    "\n",
    "metrics_test_at = partial(_metrics_at, model=model, pool=test)"
   ]
  },
  {
   "cell_type": "code",
   "execution_count": 50,
   "metadata": {
    "execution": {
     "iopub.execute_input": "2023-11-24T16:52:40.786566Z",
     "iopub.status.busy": "2023-11-24T16:52:40.785738Z",
     "iopub.status.idle": "2023-11-24T16:52:46.266473Z",
     "shell.execute_reply": "2023-11-24T16:52:46.265152Z",
     "shell.execute_reply.started": "2023-11-24T16:52:40.786534Z"
    },
    "tags": []
   },
   "outputs": [
    {
     "data": {
      "text/plain": [
       "({'NDCG:top=1;type=Base': 0.9696969696969697},\n",
       " {'NDCG:top=5;type=Base': 0.9514903164697422})"
      ]
     },
     "execution_count": 50,
     "metadata": {},
     "output_type": "execute_result"
    }
   ],
   "source": [
    "metrics_train_at(1), metrics_train_at(5)"
   ]
  },
  {
   "cell_type": "code",
   "execution_count": 51,
   "metadata": {
    "execution": {
     "iopub.execute_input": "2023-11-24T16:52:46.268571Z",
     "iopub.status.busy": "2023-11-24T16:52:46.267924Z",
     "iopub.status.idle": "2023-11-24T16:52:49.134313Z",
     "shell.execute_reply": "2023-11-24T16:52:49.133167Z",
     "shell.execute_reply.started": "2023-11-24T16:52:46.268532Z"
    },
    "tags": []
   },
   "outputs": [
    {
     "data": {
      "text/plain": [
       "({'NDCG:top=1;type=Base': 1.0}, {'NDCG:top=5;type=Base': 0.9735171966761396})"
      ]
     },
     "execution_count": 51,
     "metadata": {},
     "output_type": "execute_result"
    }
   ],
   "source": [
    "metrics_val_at(1), metrics_val_at(5)"
   ]
  },
  {
   "cell_type": "code",
   "execution_count": 52,
   "metadata": {
    "execution": {
     "iopub.execute_input": "2023-11-24T16:52:49.136342Z",
     "iopub.status.busy": "2023-11-24T16:52:49.135643Z",
     "iopub.status.idle": "2023-11-24T16:52:51.825897Z",
     "shell.execute_reply": "2023-11-24T16:52:51.824569Z",
     "shell.execute_reply.started": "2023-11-24T16:52:49.136307Z"
    },
    "tags": []
   },
   "outputs": [
    {
     "data": {
      "text/plain": [
       "({'NDCG:top=1;type=Base': 0.9629629629629629},\n",
       " {'NDCG:top=5;type=Base': 0.9623488078734347})"
      ]
     },
     "execution_count": 52,
     "metadata": {},
     "output_type": "execute_result"
    }
   ],
   "source": [
    "metrics_test_at(1), metrics_test_at(5)"
   ]
  },
  {
   "cell_type": "code",
   "execution_count": 53,
   "metadata": {
    "execution": {
     "iopub.execute_input": "2023-11-24T18:31:05.112690Z",
     "iopub.status.busy": "2023-11-24T18:31:05.111919Z",
     "iopub.status.idle": "2023-11-24T18:31:29.563426Z",
     "shell.execute_reply": "2023-11-24T18:31:29.562239Z",
     "shell.execute_reply.started": "2023-11-24T18:31:05.112642Z"
    },
    "tags": []
   },
   "outputs": [
    {
     "name": "stderr",
     "output_type": "stream",
     "text": [
      "2023-11-25 10:42:59.328507: I tensorflow/core/util/port.cc:113] oneDNN custom operations are on. You may see slightly different numerical results due to floating-point round-off errors from different computation orders. To turn them off, set the environment variable `TF_ENABLE_ONEDNN_OPTS=0`.\n",
      "2023-11-25 10:42:59.908700: E external/local_xla/xla/stream_executor/cuda/cuda_dnn.cc:9261] Unable to register cuDNN factory: Attempting to register factory for plugin cuDNN when one has already been registered\n",
      "2023-11-25 10:42:59.908824: E external/local_xla/xla/stream_executor/cuda/cuda_fft.cc:607] Unable to register cuFFT factory: Attempting to register factory for plugin cuFFT when one has already been registered\n",
      "2023-11-25 10:43:00.008080: E external/local_xla/xla/stream_executor/cuda/cuda_blas.cc:1515] Unable to register cuBLAS factory: Attempting to register factory for plugin cuBLAS when one has already been registered\n",
      "2023-11-25 10:43:00.207928: I tensorflow/core/platform/cpu_feature_guard.cc:182] This TensorFlow binary is optimized to use available CPU instructions in performance-critical operations.\n",
      "To enable the following instructions: AVX2 AVX_VNNI FMA, in other operations, rebuild TensorFlow with the appropriate compiler flags.\n",
      "2023-11-25 10:43:01.054902: W tensorflow/compiler/tf2tensorrt/utils/py_utils.cc:38] TF-TRT Warning: Could not find TensorRT\n"
     ]
    },
    {
     "data": {
      "image/png": "[encoded data removed]",
      "text/plain": [
       "<Figure size 800x950 with 2 Axes>"
      ]
     },
     "metadata": {},
     "output_type": "display_data"
    },
    {
     "data": {
      "image/png": "[encoded data removed]",
      "text/plain": [
       "<Figure size 800x950 with 1 Axes>"
      ]
     },
     "metadata": {},
     "output_type": "display_data"
    }
   ],
   "source": [
    "shap_explainer = shap.Explainer(model)\n",
    "shap_values = shap_explainer.shap_values(X_train.values)\n",
    "shap.summary_plot(shap_values, X_train)\n",
    "\n",
    "shap.summary_plot(shap_values, X_train, plot_type='bar')"
   ]
  },
  {
   "attachments": {
    "image.png": {
     "image/png": "[encoded data removed]"
    }
   },
   "cell_type": "markdown",
   "metadata": {},
   "source": [
    "![image.png](attachment:image.png)\n"
   ]
  },
  {
   "attachments": {
    "image.png": {
     "image/png": "[encoded data removed]"
    }
   },
   "cell_type": "markdown",
   "metadata": {},
   "source": [
    "![image.png](attachment:image.png)"
   ]
  },
  {
   "cell_type": "code",
   "execution_count": null,
   "metadata": {
    "execution": {
     "iopub.execute_input": "2023-11-24T11:57:29.086951Z",
     "iopub.status.busy": "2023-11-24T11:57:29.085854Z",
     "iopub.status.idle": "2023-11-24T11:57:29.104077Z",
     "shell.execute_reply": "2023-11-24T11:57:29.102899Z",
     "shell.execute_reply.started": "2023-11-24T11:57:29.086896Z"
    },
    "tags": []
   },
   "outputs": [],
   "source": [
    "# очищаем ОЗУ\n",
    "del model\n",
    "del full_df\n",
    "del train_df, val_df, test_df\n",
    "del train, val, test\n",
    "del X_train, y_train, g_train\n",
    "del X_val, y_val, g_val\n",
    "del X_test, y_test, g_test"
   ]
  },
  {
   "cell_type": "code",
   "execution_count": null,
   "metadata": {
    "execution": {
     "iopub.execute_input": "2023-11-24T12:11:59.496214Z",
     "iopub.status.busy": "2023-11-24T12:11:59.495228Z",
     "iopub.status.idle": "2023-11-24T12:11:59.513507Z",
     "shell.execute_reply": "2023-11-24T12:11:59.512343Z",
     "shell.execute_reply.started": "2023-11-24T12:11:59.496148Z"
    },
    "tags": []
   },
   "outputs": [],
   "source": [
    "end_time = time.time()\n",
    "total_time = (end_time - start_time) / 60\n",
    "print(f\"Общее время работы baseline: {int(total_time)} минут\")"
   ]
  },
  {
   "cell_type": "code",
   "execution_count": null,
   "metadata": {},
   "outputs": [],
   "source": []
  }
 ],
 "metadata": {
  "accelerator": "GPU",
  "colab": {
   "gpuType": "T4",
   "provenance": []
  },
  "kernelspec": {
   "display_name": "Python 3 (ipykernel)",
   "language": "python",
   "name": "python3"
  },
  "language_info": {
   "codemirror_mode": {
    "name": "ipython",
    "version": 3
   },
   "file_extension": ".py",
   "mimetype": "text/x-python",
   "name": "python",
   "nbconvert_exporter": "python",
   "pygments_lexer": "ipython3",
   "version": "3.10.12"
  },
  "widgets": {
   "application/vnd.jupyter.widget-state+json": {
    "012088fc48b04f688abcded2e2de7458": {
     "model_module": "@jupyter-widgets/controls",
     "model_module_version": "1.5.0",
     "model_name": "HTMLModel",
     "state": {
      "_dom_classes": [],
      "_model_module": "@jupyter-widgets/controls",
      "_model_module_version": "1.5.0",
      "_model_name": "HTMLModel",
      "_view_count": null,
      "_view_module": "@jupyter-widgets/controls",
      "_view_module_version": "1.5.0",
      "_view_name": "HTMLView",
      "description": "",
      "description_tooltip": null,
      "layout": "IPY_MODEL_64336973210b44aa9453a27173d98935",
      "placeholder": "​",
      "style": "IPY_MODEL_e1cea41a593f48a1a69e2fce6d07a0f0",
      "value": "Batches: 100%"
     }
    },
    "01b2071a14054820bf7572ddca99c09b": {
     "model_module": "@jupyter-widgets/base",
     "model_module_version": "1.2.0",
     "model_name": "LayoutModel",
     "state": {
      "_model_module": "@jupyter-widgets/base",
      "_model_module_version": "1.2.0",
      "_model_name": "LayoutModel",
      "_view_count": null,
      "_view_module": "@jupyter-widgets/base",
      "_view_module_version": "1.2.0",
      "_view_name": "LayoutView",
      "align_content": null,
      "align_items": null,
      "align_self": null,
      "border": null,
      "bottom": null,
      "display": null,
      "flex": null,
      "flex_flow": null,
      "grid_area": null,
      "grid_auto_columns": null,
      "grid_auto_flow": null,
      "grid_auto_rows": null,
      "grid_column": null,
      "grid_gap": null,
      "grid_row": null,
      "grid_template_areas": null,
      "grid_template_columns": null,
      "grid_template_rows": null,
      "height": null,
      "justify_content": null,
      "justify_items": null,
      "left": null,
      "margin": null,
      "max_height": null,
      "max_width": null,
      "min_height": null,
      "min_width": null,
      "object_fit": null,
      "object_position": null,
      "order": null,
      "overflow": null,
      "overflow_x": null,
      "overflow_y": null,
      "padding": null,
      "right": null,
      "top": null,
      "visibility": null,
      "width": null
     }
    },
    "06a05c130a044130aceb1c890f21defb": {
     "model_module": "@jupyter-widgets/base",
     "model_module_version": "1.2.0",
     "model_name": "LayoutModel",
     "state": {
      "_model_module": "@jupyter-widgets/base",
      "_model_module_version": "1.2.0",
      "_model_name": "LayoutModel",
      "_view_count": null,
      "_view_module": "@jupyter-widgets/base",
      "_view_module_version": "1.2.0",
      "_view_name": "LayoutView",
      "align_content": null,
      "align_items": null,
      "align_self": null,
      "border": null,
      "bottom": null,
      "display": null,
      "flex": null,
      "flex_flow": null,
      "grid_area": null,
      "grid_auto_columns": null,
      "grid_auto_flow": null,
      "grid_auto_rows": null,
      "grid_column": null,
      "grid_gap": null,
      "grid_row": null,
      "grid_template_areas": null,
      "grid_template_columns": null,
      "grid_template_rows": null,
      "height": null,
      "justify_content": null,
      "justify_items": null,
      "left": null,
      "margin": null,
      "max_height": null,
      "max_width": null,
      "min_height": null,
      "min_width": null,
      "object_fit": null,
      "object_position": null,
      "order": null,
      "overflow": null,
      "overflow_x": null,
      "overflow_y": null,
      "padding": null,
      "right": null,
      "top": null,
      "visibility": null,
      "width": null
     }
    },
    "0886d82a82df41e4859b05ad12b3864c": {
     "model_module": "@jupyter-widgets/base",
     "model_module_version": "1.2.0",
     "model_name": "LayoutModel",
     "state": {
      "_model_module": "@jupyter-widgets/base",
      "_model_module_version": "1.2.0",
      "_model_name": "LayoutModel",
      "_view_count": null,
      "_view_module": "@jupyter-widgets/base",
      "_view_module_version": "1.2.0",
      "_view_name": "LayoutView",
      "align_content": null,
      "align_items": null,
      "align_self": null,
      "border": null,
      "bottom": null,
      "display": null,
      "flex": null,
      "flex_flow": null,
      "grid_area": null,
      "grid_auto_columns": null,
      "grid_auto_flow": null,
      "grid_auto_rows": null,
      "grid_column": null,
      "grid_gap": null,
      "grid_row": null,
      "grid_template_areas": null,
      "grid_template_columns": null,
      "grid_template_rows": null,
      "height": null,
      "justify_content": null,
      "justify_items": null,
      "left": null,
      "margin": null,
      "max_height": null,
      "max_width": null,
      "min_height": null,
      "min_width": null,
      "object_fit": null,
      "object_position": null,
      "order": null,
      "overflow": null,
      "overflow_x": null,
      "overflow_y": null,
      "padding": null,
      "right": null,
      "top": null,
      "visibility": null,
      "width": null
     }
    },
    "0d61bcd2b6aa41ef80990dc37b1b79da": {
     "model_module": "@jupyter-widgets/controls",
     "model_module_version": "1.5.0",
     "model_name": "FloatProgressModel",
     "state": {
      "_dom_classes": [],
      "_model_module": "@jupyter-widgets/controls",
      "_model_module_version": "1.5.0",
      "_model_name": "FloatProgressModel",
      "_view_count": null,
      "_view_module": "@jupyter-widgets/controls",
      "_view_module_version": "1.5.0",
      "_view_name": "ProgressView",
      "bar_style": "success",
      "description": "",
      "description_tooltip": null,
      "layout": "IPY_MODEL_6bec94da828d479d8c2429ba9510f7ba",
      "max": 10,
      "min": 0,
      "orientation": "horizontal",
      "style": "IPY_MODEL_fa9d284d5626439097a433f3fdceb649",
      "value": 10
     }
    },
    "104938142a57420ebc8bfb25cdd6e582": {
     "model_module": "@jupyter-widgets/controls",
     "model_module_version": "1.5.0",
     "model_name": "HBoxModel",
     "state": {
      "_dom_classes": [],
      "_model_module": "@jupyter-widgets/controls",
      "_model_module_version": "1.5.0",
      "_model_name": "HBoxModel",
      "_view_count": null,
      "_view_module": "@jupyter-widgets/controls",
      "_view_module_version": "1.5.0",
      "_view_name": "HBoxView",
      "box_style": "",
      "children": [
       "IPY_MODEL_7bb47bf6f5ae4267ab9762f2b1fdedfe",
       "IPY_MODEL_bca0ca7761e34dbca3eeb531ca1a1638",
       "IPY_MODEL_e9f00e5b300e491e9a8ff52a4bf2a2ca"
      ],
      "layout": "IPY_MODEL_210de7818a9d4d1090fdb3670c0f8210"
     }
    },
    "10ebcc5d193840c8a3f9a00f561d1bd8": {
     "model_module": "@jupyter-widgets/controls",
     "model_module_version": "1.5.0",
     "model_name": "HTMLModel",
     "state": {
      "_dom_classes": [],
      "_model_module": "@jupyter-widgets/controls",
      "_model_module_version": "1.5.0",
      "_model_name": "HTMLModel",
      "_view_count": null,
      "_view_module": "@jupyter-widgets/controls",
      "_view_module_version": "1.5.0",
      "_view_name": "HTMLView",
      "description": "",
      "description_tooltip": null,
      "layout": "IPY_MODEL_828d57c48a7b427da89dde7d1a8b99d7",
      "placeholder": "​",
      "style": "IPY_MODEL_d1b7adfe2ad846e0ad47fd7c3a3f89fe",
      "value": "Batches: 100%"
     }
    },
    "193e8ba6b34e4f5c8417717073781e57": {
     "model_module": "@jupyter-widgets/controls",
     "model_module_version": "1.5.0",
     "model_name": "DescriptionStyleModel",
     "state": {
      "_model_module": "@jupyter-widgets/controls",
      "_model_module_version": "1.5.0",
      "_model_name": "DescriptionStyleModel",
      "_view_count": null,
      "_view_module": "@jupyter-widgets/base",
      "_view_module_version": "1.2.0",
      "_view_name": "StyleView",
      "description_width": ""
     }
    },
    "1c4c43525f7343c29b53e1280fc1ad5a": {
     "model_module": "@jupyter-widgets/controls",
     "model_module_version": "1.5.0",
     "model_name": "FloatProgressModel",
     "state": {
      "_dom_classes": [],
      "_model_module": "@jupyter-widgets/controls",
      "_model_module_version": "1.5.0",
      "_model_name": "FloatProgressModel",
      "_view_count": null,
      "_view_module": "@jupyter-widgets/controls",
      "_view_module_version": "1.5.0",
      "_view_name": "ProgressView",
      "bar_style": "success",
      "description": "",
      "description_tooltip": null,
      "layout": "IPY_MODEL_88d87bd37023416ab28596bb81a801aa",
      "max": 10,
      "min": 0,
      "orientation": "horizontal",
      "style": "IPY_MODEL_43ad6d42b0aa45238247698f8dda58df",
      "value": 10
     }
    },
    "210de7818a9d4d1090fdb3670c0f8210": {
     "model_module": "@jupyter-widgets/base",
     "model_module_version": "1.2.0",
     "model_name": "LayoutModel",
     "state": {
      "_model_module": "@jupyter-widgets/base",
      "_model_module_version": "1.2.0",
      "_model_name": "LayoutModel",
      "_view_count": null,
      "_view_module": "@jupyter-widgets/base",
      "_view_module_version": "1.2.0",
      "_view_name": "LayoutView",
      "align_content": null,
      "align_items": null,
      "align_self": null,
      "border": null,
      "bottom": null,
      "display": null,
      "flex": null,
      "flex_flow": null,
      "grid_area": null,
      "grid_auto_columns": null,
      "grid_auto_flow": null,
      "grid_auto_rows": null,
      "grid_column": null,
      "grid_gap": null,
      "grid_row": null,
      "grid_template_areas": null,
      "grid_template_columns": null,
      "grid_template_rows": null,
      "height": null,
      "justify_content": null,
      "justify_items": null,
      "left": null,
      "margin": null,
      "max_height": null,
      "max_width": null,
      "min_height": null,
      "min_width": null,
      "object_fit": null,
      "object_position": null,
      "order": null,
      "overflow": null,
      "overflow_x": null,
      "overflow_y": null,
      "padding": null,
      "right": null,
      "top": null,
      "visibility": null,
      "width": null
     }
    },
    "2131f3d353c743c18dfb69c2ad20d671": {
     "model_module": "@jupyter-widgets/controls",
     "model_module_version": "1.5.0",
     "model_name": "HBoxModel",
     "state": {
      "_dom_classes": [],
      "_model_module": "@jupyter-widgets/controls",
      "_model_module_version": "1.5.0",
      "_model_name": "HBoxModel",
      "_view_count": null,
      "_view_module": "@jupyter-widgets/controls",
      "_view_module_version": "1.5.0",
      "_view_name": "HBoxView",
      "box_style": "",
      "children": [
       "IPY_MODEL_10ebcc5d193840c8a3f9a00f561d1bd8",
       "IPY_MODEL_9f096b7da413490797da7586d80c0cd6",
       "IPY_MODEL_2383cb3ff853465f914e3a2afd2945e4"
      ],
      "layout": "IPY_MODEL_9e25169352a04090940cea264ab46bad"
     }
    },
    "228eb1be332c4cb898d3de14f5524c30": {
     "model_module": "@jupyter-widgets/base",
     "model_module_version": "1.2.0",
     "model_name": "LayoutModel",
     "state": {
      "_model_module": "@jupyter-widgets/base",
      "_model_module_version": "1.2.0",
      "_model_name": "LayoutModel",
      "_view_count": null,
      "_view_module": "@jupyter-widgets/base",
      "_view_module_version": "1.2.0",
      "_view_name": "LayoutView",
      "align_content": null,
      "align_items": null,
      "align_self": null,
      "border": null,
      "bottom": null,
      "display": null,
      "flex": null,
      "flex_flow": null,
      "grid_area": null,
      "grid_auto_columns": null,
      "grid_auto_flow": null,
      "grid_auto_rows": null,
      "grid_column": null,
      "grid_gap": null,
      "grid_row": null,
      "grid_template_areas": null,
      "grid_template_columns": null,
      "grid_template_rows": null,
      "height": null,
      "justify_content": null,
      "justify_items": null,
      "left": null,
      "margin": null,
      "max_height": null,
      "max_width": null,
      "min_height": null,
      "min_width": null,
      "object_fit": null,
      "object_position": null,
      "order": null,
      "overflow": null,
      "overflow_x": null,
      "overflow_y": null,
      "padding": null,
      "right": null,
      "top": null,
      "visibility": null,
      "width": null
     }
    },
    "2383cb3ff853465f914e3a2afd2945e4": {
     "model_module": "@jupyter-widgets/controls",
     "model_module_version": "1.5.0",
     "model_name": "HTMLModel",
     "state": {
      "_dom_classes": [],
      "_model_module": "@jupyter-widgets/controls",
      "_model_module_version": "1.5.0",
      "_model_name": "HTMLModel",
      "_view_count": null,
      "_view_module": "@jupyter-widgets/controls",
      "_view_module_version": "1.5.0",
      "_view_name": "HTMLView",
      "description": "",
      "description_tooltip": null,
      "layout": "IPY_MODEL_81b868ae67a84d3bb81675086251ff8b",
      "placeholder": "​",
      "style": "IPY_MODEL_ff199bfd4d7d44c789192ab6ed13c873",
      "value": " 10/10 [00:00&lt;00:00, 22.77it/s]"
     }
    },
    "23ef131b5c544b1e9fed237cdcb7ae80": {
     "model_module": "@jupyter-widgets/controls",
     "model_module_version": "1.5.0",
     "model_name": "HTMLModel",
     "state": {
      "_dom_classes": [],
      "_model_module": "@jupyter-widgets/controls",
      "_model_module_version": "1.5.0",
      "_model_name": "HTMLModel",
      "_view_count": null,
      "_view_module": "@jupyter-widgets/controls",
      "_view_module_version": "1.5.0",
      "_view_name": "HTMLView",
      "description": "",
      "description_tooltip": null,
      "layout": "IPY_MODEL_72f96fa77f2d4b5ab04bf22815cf95ed",
      "placeholder": "​",
      "style": "IPY_MODEL_c250ad0798ad433280fdfb59658b8994",
      "value": " 10/10 [00:00&lt;00:00, 14.42it/s]"
     }
    },
    "252d0fa420f441e193e3ee9988f0ee44": {
     "model_module": "@jupyter-widgets/base",
     "model_module_version": "1.2.0",
     "model_name": "LayoutModel",
     "state": {
      "_model_module": "@jupyter-widgets/base",
      "_model_module_version": "1.2.0",
      "_model_name": "LayoutModel",
      "_view_count": null,
      "_view_module": "@jupyter-widgets/base",
      "_view_module_version": "1.2.0",
      "_view_name": "LayoutView",
      "align_content": null,
      "align_items": null,
      "align_self": null,
      "border": null,
      "bottom": null,
      "display": null,
      "flex": null,
      "flex_flow": null,
      "grid_area": null,
      "grid_auto_columns": null,
      "grid_auto_flow": null,
      "grid_auto_rows": null,
      "grid_column": null,
      "grid_gap": null,
      "grid_row": null,
      "grid_template_areas": null,
      "grid_template_columns": null,
      "grid_template_rows": null,
      "height": null,
      "justify_content": null,
      "justify_items": null,
      "left": null,
      "margin": null,
      "max_height": null,
      "max_width": null,
      "min_height": null,
      "min_width": null,
      "object_fit": null,
      "object_position": null,
      "order": null,
      "overflow": null,
      "overflow_x": null,
      "overflow_y": null,
      "padding": null,
      "right": null,
      "top": null,
      "visibility": null,
      "width": null
     }
    },
    "25a495b325124b33bd066f36219799ba": {
     "model_module": "@jupyter-widgets/controls",
     "model_module_version": "1.5.0",
     "model_name": "DescriptionStyleModel",
     "state": {
      "_model_module": "@jupyter-widgets/controls",
      "_model_module_version": "1.5.0",
      "_model_name": "DescriptionStyleModel",
      "_view_count": null,
      "_view_module": "@jupyter-widgets/base",
      "_view_module_version": "1.2.0",
      "_view_name": "StyleView",
      "description_width": ""
     }
    },
    "2aa78854b99b4cfbb2ba1b4d48154719": {
     "model_module": "@jupyter-widgets/controls",
     "model_module_version": "1.5.0",
     "model_name": "ProgressStyleModel",
     "state": {
      "_model_module": "@jupyter-widgets/controls",
      "_model_module_version": "1.5.0",
      "_model_name": "ProgressStyleModel",
      "_view_count": null,
      "_view_module": "@jupyter-widgets/base",
      "_view_module_version": "1.2.0",
      "_view_name": "StyleView",
      "bar_color": null,
      "description_width": ""
     }
    },
    "2bfa3400c46c4872b8330def045b5cb7": {
     "model_module": "@jupyter-widgets/controls",
     "model_module_version": "1.5.0",
     "model_name": "HTMLModel",
     "state": {
      "_dom_classes": [],
      "_model_module": "@jupyter-widgets/controls",
      "_model_module_version": "1.5.0",
      "_model_name": "HTMLModel",
      "_view_count": null,
      "_view_module": "@jupyter-widgets/controls",
      "_view_module_version": "1.5.0",
      "_view_name": "HTMLView",
      "description": "",
      "description_tooltip": null,
      "layout": "IPY_MODEL_44fbfa43efbe4386be1b2cd7722e39d4",
      "placeholder": "​",
      "style": "IPY_MODEL_faba96e4026a4e84ad2cb8c30527bad6",
      "value": "Batches: 100%"
     }
    },
    "2f0ff2ec2d4a48078073a708e0b7f14a": {
     "model_module": "@jupyter-widgets/base",
     "model_module_version": "1.2.0",
     "model_name": "LayoutModel",
     "state": {
      "_model_module": "@jupyter-widgets/base",
      "_model_module_version": "1.2.0",
      "_model_name": "LayoutModel",
      "_view_count": null,
      "_view_module": "@jupyter-widgets/base",
      "_view_module_version": "1.2.0",
      "_view_name": "LayoutView",
      "align_content": null,
      "align_items": null,
      "align_self": null,
      "border": null,
      "bottom": null,
      "display": null,
      "flex": null,
      "flex_flow": null,
      "grid_area": null,
      "grid_auto_columns": null,
      "grid_auto_flow": null,
      "grid_auto_rows": null,
      "grid_column": null,
      "grid_gap": null,
      "grid_row": null,
      "grid_template_areas": null,
      "grid_template_columns": null,
      "grid_template_rows": null,
      "height": null,
      "justify_content": null,
      "justify_items": null,
      "left": null,
      "margin": null,
      "max_height": null,
      "max_width": null,
      "min_height": null,
      "min_width": null,
      "object_fit": null,
      "object_position": null,
      "order": null,
      "overflow": null,
      "overflow_x": null,
      "overflow_y": null,
      "padding": null,
      "right": null,
      "top": null,
      "visibility": null,
      "width": null
     }
    },
    "3cfefe64dcee440eafa7fba157d93dd8": {
     "model_module": "@jupyter-widgets/base",
     "model_module_version": "1.2.0",
     "model_name": "LayoutModel",
     "state": {
      "_model_module": "@jupyter-widgets/base",
      "_model_module_version": "1.2.0",
      "_model_name": "LayoutModel",
      "_view_count": null,
      "_view_module": "@jupyter-widgets/base",
      "_view_module_version": "1.2.0",
      "_view_name": "LayoutView",
      "align_content": null,
      "align_items": null,
      "align_self": null,
      "border": null,
      "bottom": null,
      "display": null,
      "flex": null,
      "flex_flow": null,
      "grid_area": null,
      "grid_auto_columns": null,
      "grid_auto_flow": null,
      "grid_auto_rows": null,
      "grid_column": null,
      "grid_gap": null,
      "grid_row": null,
      "grid_template_areas": null,
      "grid_template_columns": null,
      "grid_template_rows": null,
      "height": null,
      "justify_content": null,
      "justify_items": null,
      "left": null,
      "margin": null,
      "max_height": null,
      "max_width": null,
      "min_height": null,
      "min_width": null,
      "object_fit": null,
      "object_position": null,
      "order": null,
      "overflow": null,
      "overflow_x": null,
      "overflow_y": null,
      "padding": null,
      "right": null,
      "top": null,
      "visibility": null,
      "width": null
     }
    },
    "3fd652f90ff84f779ba51d7e6b5825e7": {
     "model_module": "@jupyter-widgets/controls",
     "model_module_version": "1.5.0",
     "model_name": "DescriptionStyleModel",
     "state": {
      "_model_module": "@jupyter-widgets/controls",
      "_model_module_version": "1.5.0",
      "_model_name": "DescriptionStyleModel",
      "_view_count": null,
      "_view_module": "@jupyter-widgets/base",
      "_view_module_version": "1.2.0",
      "_view_name": "StyleView",
      "description_width": ""
     }
    },
    "41830d2435b84fdab4396c2249ff82e7": {
     "model_module": "@jupyter-widgets/base",
     "model_module_version": "1.2.0",
     "model_name": "LayoutModel",
     "state": {
      "_model_module": "@jupyter-widgets/base",
      "_model_module_version": "1.2.0",
      "_model_name": "LayoutModel",
      "_view_count": null,
      "_view_module": "@jupyter-widgets/base",
      "_view_module_version": "1.2.0",
      "_view_name": "LayoutView",
      "align_content": null,
      "align_items": null,
      "align_self": null,
      "border": null,
      "bottom": null,
      "display": null,
      "flex": null,
      "flex_flow": null,
      "grid_area": null,
      "grid_auto_columns": null,
      "grid_auto_flow": null,
      "grid_auto_rows": null,
      "grid_column": null,
      "grid_gap": null,
      "grid_row": null,
      "grid_template_areas": null,
      "grid_template_columns": null,
      "grid_template_rows": null,
      "height": null,
      "justify_content": null,
      "justify_items": null,
      "left": null,
      "margin": null,
      "max_height": null,
      "max_width": null,
      "min_height": null,
      "min_width": null,
      "object_fit": null,
      "object_position": null,
      "order": null,
      "overflow": null,
      "overflow_x": null,
      "overflow_y": null,
      "padding": null,
      "right": null,
      "top": null,
      "visibility": null,
      "width": null
     }
    },
    "423682ad816b4901b606d3fd26624a19": {
     "model_module": "@jupyter-widgets/base",
     "model_module_version": "1.2.0",
     "model_name": "LayoutModel",
     "state": {
      "_model_module": "@jupyter-widgets/base",
      "_model_module_version": "1.2.0",
      "_model_name": "LayoutModel",
      "_view_count": null,
      "_view_module": "@jupyter-widgets/base",
      "_view_module_version": "1.2.0",
      "_view_name": "LayoutView",
      "align_content": null,
      "align_items": null,
      "align_self": null,
      "border": null,
      "bottom": null,
      "display": null,
      "flex": null,
      "flex_flow": null,
      "grid_area": null,
      "grid_auto_columns": null,
      "grid_auto_flow": null,
      "grid_auto_rows": null,
      "grid_column": null,
      "grid_gap": null,
      "grid_row": null,
      "grid_template_areas": null,
      "grid_template_columns": null,
      "grid_template_rows": null,
      "height": null,
      "justify_content": null,
      "justify_items": null,
      "left": null,
      "margin": null,
      "max_height": null,
      "max_width": null,
      "min_height": null,
      "min_width": null,
      "object_fit": null,
      "object_position": null,
      "order": null,
      "overflow": null,
      "overflow_x": null,
      "overflow_y": null,
      "padding": null,
      "right": null,
      "top": null,
      "visibility": null,
      "width": null
     }
    },
    "43915c773aaa4ae3a41b9847b6bdfdae": {
     "model_module": "@jupyter-widgets/controls",
     "model_module_version": "1.5.0",
     "model_name": "DescriptionStyleModel",
     "state": {
      "_model_module": "@jupyter-widgets/controls",
      "_model_module_version": "1.5.0",
      "_model_name": "DescriptionStyleModel",
      "_view_count": null,
      "_view_module": "@jupyter-widgets/base",
      "_view_module_version": "1.2.0",
      "_view_name": "StyleView",
      "description_width": ""
     }
    },
    "43ad6d42b0aa45238247698f8dda58df": {
     "model_module": "@jupyter-widgets/controls",
     "model_module_version": "1.5.0",
     "model_name": "ProgressStyleModel",
     "state": {
      "_model_module": "@jupyter-widgets/controls",
      "_model_module_version": "1.5.0",
      "_model_name": "ProgressStyleModel",
      "_view_count": null,
      "_view_module": "@jupyter-widgets/base",
      "_view_module_version": "1.2.0",
      "_view_name": "StyleView",
      "bar_color": null,
      "description_width": ""
     }
    },
    "44f9c52ab74b45388dd5ffacbd635362": {
     "model_module": "@jupyter-widgets/base",
     "model_module_version": "1.2.0",
     "model_name": "LayoutModel",
     "state": {
      "_model_module": "@jupyter-widgets/base",
      "_model_module_version": "1.2.0",
      "_model_name": "LayoutModel",
      "_view_count": null,
      "_view_module": "@jupyter-widgets/base",
      "_view_module_version": "1.2.0",
      "_view_name": "LayoutView",
      "align_content": null,
      "align_items": null,
      "align_self": null,
      "border": null,
      "bottom": null,
      "display": null,
      "flex": null,
      "flex_flow": null,
      "grid_area": null,
      "grid_auto_columns": null,
      "grid_auto_flow": null,
      "grid_auto_rows": null,
      "grid_column": null,
      "grid_gap": null,
      "grid_row": null,
      "grid_template_areas": null,
      "grid_template_columns": null,
      "grid_template_rows": null,
      "height": null,
      "justify_content": null,
      "justify_items": null,
      "left": null,
      "margin": null,
      "max_height": null,
      "max_width": null,
      "min_height": null,
      "min_width": null,
      "object_fit": null,
      "object_position": null,
      "order": null,
      "overflow": null,
      "overflow_x": null,
      "overflow_y": null,
      "padding": null,
      "right": null,
      "top": null,
      "visibility": null,
      "width": null
     }
    },
    "44fbfa43efbe4386be1b2cd7722e39d4": {
     "model_module": "@jupyter-widgets/base",
     "model_module_version": "1.2.0",
     "model_name": "LayoutModel",
     "state": {
      "_model_module": "@jupyter-widgets/base",
      "_model_module_version": "1.2.0",
      "_model_name": "LayoutModel",
      "_view_count": null,
      "_view_module": "@jupyter-widgets/base",
      "_view_module_version": "1.2.0",
      "_view_name": "LayoutView",
      "align_content": null,
      "align_items": null,
      "align_self": null,
      "border": null,
      "bottom": null,
      "display": null,
      "flex": null,
      "flex_flow": null,
      "grid_area": null,
      "grid_auto_columns": null,
      "grid_auto_flow": null,
      "grid_auto_rows": null,
      "grid_column": null,
      "grid_gap": null,
      "grid_row": null,
      "grid_template_areas": null,
      "grid_template_columns": null,
      "grid_template_rows": null,
      "height": null,
      "justify_content": null,
      "justify_items": null,
      "left": null,
      "margin": null,
      "max_height": null,
      "max_width": null,
      "min_height": null,
      "min_width": null,
      "object_fit": null,
      "object_position": null,
      "order": null,
      "overflow": null,
      "overflow_x": null,
      "overflow_y": null,
      "padding": null,
      "right": null,
      "top": null,
      "visibility": null,
      "width": null
     }
    },
    "4a592023d76544dd81b67300486e0304": {
     "model_module": "@jupyter-widgets/controls",
     "model_module_version": "1.5.0",
     "model_name": "FloatProgressModel",
     "state": {
      "_dom_classes": [],
      "_model_module": "@jupyter-widgets/controls",
      "_model_module_version": "1.5.0",
      "_model_name": "FloatProgressModel",
      "_view_count": null,
      "_view_module": "@jupyter-widgets/controls",
      "_view_module_version": "1.5.0",
      "_view_name": "ProgressView",
      "bar_style": "success",
      "description": "",
      "description_tooltip": null,
      "layout": "IPY_MODEL_5973452c60364bf2aca05f84e1f36e61",
      "max": 10,
      "min": 0,
      "orientation": "horizontal",
      "style": "IPY_MODEL_a39f26d0ac6a4eaa8a31d708d7f8056f",
      "value": 10
     }
    },
    "4b38530d54034c5192ea4f1f452bbd26": {
     "model_module": "@jupyter-widgets/controls",
     "model_module_version": "1.5.0",
     "model_name": "HTMLModel",
     "state": {
      "_dom_classes": [],
      "_model_module": "@jupyter-widgets/controls",
      "_model_module_version": "1.5.0",
      "_model_name": "HTMLModel",
      "_view_count": null,
      "_view_module": "@jupyter-widgets/controls",
      "_view_module_version": "1.5.0",
      "_view_name": "HTMLView",
      "description": "",
      "description_tooltip": null,
      "layout": "IPY_MODEL_06a05c130a044130aceb1c890f21defb",
      "placeholder": "​",
      "style": "IPY_MODEL_193e8ba6b34e4f5c8417717073781e57",
      "value": " 10/10 [00:00&lt;00:00, 20.52it/s]"
     }
    },
    "4b8bca1ca33743678221d7ed338a2729": {
     "model_module": "@jupyter-widgets/base",
     "model_module_version": "1.2.0",
     "model_name": "LayoutModel",
     "state": {
      "_model_module": "@jupyter-widgets/base",
      "_model_module_version": "1.2.0",
      "_model_name": "LayoutModel",
      "_view_count": null,
      "_view_module": "@jupyter-widgets/base",
      "_view_module_version": "1.2.0",
      "_view_name": "LayoutView",
      "align_content": null,
      "align_items": null,
      "align_self": null,
      "border": null,
      "bottom": null,
      "display": null,
      "flex": null,
      "flex_flow": null,
      "grid_area": null,
      "grid_auto_columns": null,
      "grid_auto_flow": null,
      "grid_auto_rows": null,
      "grid_column": null,
      "grid_gap": null,
      "grid_row": null,
      "grid_template_areas": null,
      "grid_template_columns": null,
      "grid_template_rows": null,
      "height": null,
      "justify_content": null,
      "justify_items": null,
      "left": null,
      "margin": null,
      "max_height": null,
      "max_width": null,
      "min_height": null,
      "min_width": null,
      "object_fit": null,
      "object_position": null,
      "order": null,
      "overflow": null,
      "overflow_x": null,
      "overflow_y": null,
      "padding": null,
      "right": null,
      "top": null,
      "visibility": null,
      "width": null
     }
    },
    "4ed59a92f4c646a6841383acc31e063c": {
     "model_module": "@jupyter-widgets/controls",
     "model_module_version": "1.5.0",
     "model_name": "ProgressStyleModel",
     "state": {
      "_model_module": "@jupyter-widgets/controls",
      "_model_module_version": "1.5.0",
      "_model_name": "ProgressStyleModel",
      "_view_count": null,
      "_view_module": "@jupyter-widgets/base",
      "_view_module_version": "1.2.0",
      "_view_name": "StyleView",
      "bar_color": null,
      "description_width": ""
     }
    },
    "4f50b918a61649ee8a48411b966c3e3c": {
     "model_module": "@jupyter-widgets/controls",
     "model_module_version": "1.5.0",
     "model_name": "HBoxModel",
     "state": {
      "_dom_classes": [],
      "_model_module": "@jupyter-widgets/controls",
      "_model_module_version": "1.5.0",
      "_model_name": "HBoxModel",
      "_view_count": null,
      "_view_module": "@jupyter-widgets/controls",
      "_view_module_version": "1.5.0",
      "_view_name": "HBoxView",
      "box_style": "",
      "children": [
       "IPY_MODEL_d01d62d3453a41ae8cb2a0ee0c9e435d",
       "IPY_MODEL_deac8930d92e44028acd82dfba7191a2",
       "IPY_MODEL_c74e2809efe54c4bbfb4add920c26322"
      ],
      "layout": "IPY_MODEL_cc5010206a5b41e98b12779218265f9e"
     }
    },
    "51205de2b44540ef87d5b563556f6c42": {
     "model_module": "@jupyter-widgets/base",
     "model_module_version": "1.2.0",
     "model_name": "LayoutModel",
     "state": {
      "_model_module": "@jupyter-widgets/base",
      "_model_module_version": "1.2.0",
      "_model_name": "LayoutModel",
      "_view_count": null,
      "_view_module": "@jupyter-widgets/base",
      "_view_module_version": "1.2.0",
      "_view_name": "LayoutView",
      "align_content": null,
      "align_items": null,
      "align_self": null,
      "border": null,
      "bottom": null,
      "display": null,
      "flex": null,
      "flex_flow": null,
      "grid_area": null,
      "grid_auto_columns": null,
      "grid_auto_flow": null,
      "grid_auto_rows": null,
      "grid_column": null,
      "grid_gap": null,
      "grid_row": null,
      "grid_template_areas": null,
      "grid_template_columns": null,
      "grid_template_rows": null,
      "height": null,
      "justify_content": null,
      "justify_items": null,
      "left": null,
      "margin": null,
      "max_height": null,
      "max_width": null,
      "min_height": null,
      "min_width": null,
      "object_fit": null,
      "object_position": null,
      "order": null,
      "overflow": null,
      "overflow_x": null,
      "overflow_y": null,
      "padding": null,
      "right": null,
      "top": null,
      "visibility": null,
      "width": null
     }
    },
    "515aefed55dc437b8193c4995553c25f": {
     "model_module": "@jupyter-widgets/base",
     "model_module_version": "1.2.0",
     "model_name": "LayoutModel",
     "state": {
      "_model_module": "@jupyter-widgets/base",
      "_model_module_version": "1.2.0",
      "_model_name": "LayoutModel",
      "_view_count": null,
      "_view_module": "@jupyter-widgets/base",
      "_view_module_version": "1.2.0",
      "_view_name": "LayoutView",
      "align_content": null,
      "align_items": null,
      "align_self": null,
      "border": null,
      "bottom": null,
      "display": null,
      "flex": null,
      "flex_flow": null,
      "grid_area": null,
      "grid_auto_columns": null,
      "grid_auto_flow": null,
      "grid_auto_rows": null,
      "grid_column": null,
      "grid_gap": null,
      "grid_row": null,
      "grid_template_areas": null,
      "grid_template_columns": null,
      "grid_template_rows": null,
      "height": null,
      "justify_content": null,
      "justify_items": null,
      "left": null,
      "margin": null,
      "max_height": null,
      "max_width": null,
      "min_height": null,
      "min_width": null,
      "object_fit": null,
      "object_position": null,
      "order": null,
      "overflow": null,
      "overflow_x": null,
      "overflow_y": null,
      "padding": null,
      "right": null,
      "top": null,
      "visibility": null,
      "width": null
     }
    },
    "55a2033117a744959fd02dc7e4179c42": {
     "model_module": "@jupyter-widgets/controls",
     "model_module_version": "1.5.0",
     "model_name": "FloatProgressModel",
     "state": {
      "_dom_classes": [],
      "_model_module": "@jupyter-widgets/controls",
      "_model_module_version": "1.5.0",
      "_model_name": "FloatProgressModel",
      "_view_count": null,
      "_view_module": "@jupyter-widgets/controls",
      "_view_module_version": "1.5.0",
      "_view_name": "ProgressView",
      "bar_style": "success",
      "description": "",
      "description_tooltip": null,
      "layout": "IPY_MODEL_41830d2435b84fdab4396c2249ff82e7",
      "max": 10,
      "min": 0,
      "orientation": "horizontal",
      "style": "IPY_MODEL_61509d88f5e24c1f8c3480b0b92d579d",
      "value": 10
     }
    },
    "5813be26a276456db31271618f3a58c5": {
     "model_module": "@jupyter-widgets/base",
     "model_module_version": "1.2.0",
     "model_name": "LayoutModel",
     "state": {
      "_model_module": "@jupyter-widgets/base",
      "_model_module_version": "1.2.0",
      "_model_name": "LayoutModel",
      "_view_count": null,
      "_view_module": "@jupyter-widgets/base",
      "_view_module_version": "1.2.0",
      "_view_name": "LayoutView",
      "align_content": null,
      "align_items": null,
      "align_self": null,
      "border": null,
      "bottom": null,
      "display": null,
      "flex": null,
      "flex_flow": null,
      "grid_area": null,
      "grid_auto_columns": null,
      "grid_auto_flow": null,
      "grid_auto_rows": null,
      "grid_column": null,
      "grid_gap": null,
      "grid_row": null,
      "grid_template_areas": null,
      "grid_template_columns": null,
      "grid_template_rows": null,
      "height": null,
      "justify_content": null,
      "justify_items": null,
      "left": null,
      "margin": null,
      "max_height": null,
      "max_width": null,
      "min_height": null,
      "min_width": null,
      "object_fit": null,
      "object_position": null,
      "order": null,
      "overflow": null,
      "overflow_x": null,
      "overflow_y": null,
      "padding": null,
      "right": null,
      "top": null,
      "visibility": null,
      "width": null
     }
    },
    "5973452c60364bf2aca05f84e1f36e61": {
     "model_module": "@jupyter-widgets/base",
     "model_module_version": "1.2.0",
     "model_name": "LayoutModel",
     "state": {
      "_model_module": "@jupyter-widgets/base",
      "_model_module_version": "1.2.0",
      "_model_name": "LayoutModel",
      "_view_count": null,
      "_view_module": "@jupyter-widgets/base",
      "_view_module_version": "1.2.0",
      "_view_name": "LayoutView",
      "align_content": null,
      "align_items": null,
      "align_self": null,
      "border": null,
      "bottom": null,
      "display": null,
      "flex": null,
      "flex_flow": null,
      "grid_area": null,
      "grid_auto_columns": null,
      "grid_auto_flow": null,
      "grid_auto_rows": null,
      "grid_column": null,
      "grid_gap": null,
      "grid_row": null,
      "grid_template_areas": null,
      "grid_template_columns": null,
      "grid_template_rows": null,
      "height": null,
      "justify_content": null,
      "justify_items": null,
      "left": null,
      "margin": null,
      "max_height": null,
      "max_width": null,
      "min_height": null,
      "min_width": null,
      "object_fit": null,
      "object_position": null,
      "order": null,
      "overflow": null,
      "overflow_x": null,
      "overflow_y": null,
      "padding": null,
      "right": null,
      "top": null,
      "visibility": null,
      "width": null
     }
    },
    "5a0bef46a47940d7a1bab6f644765fc9": {
     "model_module": "@jupyter-widgets/controls",
     "model_module_version": "1.5.0",
     "model_name": "HBoxModel",
     "state": {
      "_dom_classes": [],
      "_model_module": "@jupyter-widgets/controls",
      "_model_module_version": "1.5.0",
      "_model_name": "HBoxModel",
      "_view_count": null,
      "_view_module": "@jupyter-widgets/controls",
      "_view_module_version": "1.5.0",
      "_view_name": "HBoxView",
      "box_style": "",
      "children": [
       "IPY_MODEL_012088fc48b04f688abcded2e2de7458",
       "IPY_MODEL_b69f577dca724144a2774a1f06c77b22",
       "IPY_MODEL_23ef131b5c544b1e9fed237cdcb7ae80"
      ],
      "layout": "IPY_MODEL_3cfefe64dcee440eafa7fba157d93dd8"
     }
    },
    "5b3565846eb74fe9bb1f966a327102fb": {
     "model_module": "@jupyter-widgets/controls",
     "model_module_version": "1.5.0",
     "model_name": "HTMLModel",
     "state": {
      "_dom_classes": [],
      "_model_module": "@jupyter-widgets/controls",
      "_model_module_version": "1.5.0",
      "_model_name": "HTMLModel",
      "_view_count": null,
      "_view_module": "@jupyter-widgets/controls",
      "_view_module_version": "1.5.0",
      "_view_name": "HTMLView",
      "description": "",
      "description_tooltip": null,
      "layout": "IPY_MODEL_65f51c3e05bb4197ac351b01387d02fb",
      "placeholder": "​",
      "style": "IPY_MODEL_d6a6b06840644eb999c19e39c234a2f2",
      "value": "Batches: 100%"
     }
    },
    "5baf31d963ad4566afb7ce930b8202ec": {
     "model_module": "@jupyter-widgets/controls",
     "model_module_version": "1.5.0",
     "model_name": "HBoxModel",
     "state": {
      "_dom_classes": [],
      "_model_module": "@jupyter-widgets/controls",
      "_model_module_version": "1.5.0",
      "_model_name": "HBoxModel",
      "_view_count": null,
      "_view_module": "@jupyter-widgets/controls",
      "_view_module_version": "1.5.0",
      "_view_name": "HBoxView",
      "box_style": "",
      "children": [
       "IPY_MODEL_c9289e174fae4e4ea622cee1876701b6",
       "IPY_MODEL_0d61bcd2b6aa41ef80990dc37b1b79da",
       "IPY_MODEL_ba171ff28c1e4404a668dc5b3c99cbcb"
      ],
      "layout": "IPY_MODEL_0886d82a82df41e4859b05ad12b3864c"
     }
    },
    "5d67471453ac431fb1a5e6569585f5f9": {
     "model_module": "@jupyter-widgets/base",
     "model_module_version": "1.2.0",
     "model_name": "LayoutModel",
     "state": {
      "_model_module": "@jupyter-widgets/base",
      "_model_module_version": "1.2.0",
      "_model_name": "LayoutModel",
      "_view_count": null,
      "_view_module": "@jupyter-widgets/base",
      "_view_module_version": "1.2.0",
      "_view_name": "LayoutView",
      "align_content": null,
      "align_items": null,
      "align_self": null,
      "border": null,
      "bottom": null,
      "display": null,
      "flex": null,
      "flex_flow": null,
      "grid_area": null,
      "grid_auto_columns": null,
      "grid_auto_flow": null,
      "grid_auto_rows": null,
      "grid_column": null,
      "grid_gap": null,
      "grid_row": null,
      "grid_template_areas": null,
      "grid_template_columns": null,
      "grid_template_rows": null,
      "height": null,
      "justify_content": null,
      "justify_items": null,
      "left": null,
      "margin": null,
      "max_height": null,
      "max_width": null,
      "min_height": null,
      "min_width": null,
      "object_fit": null,
      "object_position": null,
      "order": null,
      "overflow": null,
      "overflow_x": null,
      "overflow_y": null,
      "padding": null,
      "right": null,
      "top": null,
      "visibility": null,
      "width": null
     }
    },
    "61509d88f5e24c1f8c3480b0b92d579d": {
     "model_module": "@jupyter-widgets/controls",
     "model_module_version": "1.5.0",
     "model_name": "ProgressStyleModel",
     "state": {
      "_model_module": "@jupyter-widgets/controls",
      "_model_module_version": "1.5.0",
      "_model_name": "ProgressStyleModel",
      "_view_count": null,
      "_view_module": "@jupyter-widgets/base",
      "_view_module_version": "1.2.0",
      "_view_name": "StyleView",
      "bar_color": null,
      "description_width": ""
     }
    },
    "629ad50c45054111b73e5537cdabc1d3": {
     "model_module": "@jupyter-widgets/controls",
     "model_module_version": "1.5.0",
     "model_name": "DescriptionStyleModel",
     "state": {
      "_model_module": "@jupyter-widgets/controls",
      "_model_module_version": "1.5.0",
      "_model_name": "DescriptionStyleModel",
      "_view_count": null,
      "_view_module": "@jupyter-widgets/base",
      "_view_module_version": "1.2.0",
      "_view_name": "StyleView",
      "description_width": ""
     }
    },
    "64336973210b44aa9453a27173d98935": {
     "model_module": "@jupyter-widgets/base",
     "model_module_version": "1.2.0",
     "model_name": "LayoutModel",
     "state": {
      "_model_module": "@jupyter-widgets/base",
      "_model_module_version": "1.2.0",
      "_model_name": "LayoutModel",
      "_view_count": null,
      "_view_module": "@jupyter-widgets/base",
      "_view_module_version": "1.2.0",
      "_view_name": "LayoutView",
      "align_content": null,
      "align_items": null,
      "align_self": null,
      "border": null,
      "bottom": null,
      "display": null,
      "flex": null,
      "flex_flow": null,
      "grid_area": null,
      "grid_auto_columns": null,
      "grid_auto_flow": null,
      "grid_auto_rows": null,
      "grid_column": null,
      "grid_gap": null,
      "grid_row": null,
      "grid_template_areas": null,
      "grid_template_columns": null,
      "grid_template_rows": null,
      "height": null,
      "justify_content": null,
      "justify_items": null,
      "left": null,
      "margin": null,
      "max_height": null,
      "max_width": null,
      "min_height": null,
      "min_width": null,
      "object_fit": null,
      "object_position": null,
      "order": null,
      "overflow": null,
      "overflow_x": null,
      "overflow_y": null,
      "padding": null,
      "right": null,
      "top": null,
      "visibility": null,
      "width": null
     }
    },
    "65f51c3e05bb4197ac351b01387d02fb": {
     "model_module": "@jupyter-widgets/base",
     "model_module_version": "1.2.0",
     "model_name": "LayoutModel",
     "state": {
      "_model_module": "@jupyter-widgets/base",
      "_model_module_version": "1.2.0",
      "_model_name": "LayoutModel",
      "_view_count": null,
      "_view_module": "@jupyter-widgets/base",
      "_view_module_version": "1.2.0",
      "_view_name": "LayoutView",
      "align_content": null,
      "align_items": null,
      "align_self": null,
      "border": null,
      "bottom": null,
      "display": null,
      "flex": null,
      "flex_flow": null,
      "grid_area": null,
      "grid_auto_columns": null,
      "grid_auto_flow": null,
      "grid_auto_rows": null,
      "grid_column": null,
      "grid_gap": null,
      "grid_row": null,
      "grid_template_areas": null,
      "grid_template_columns": null,
      "grid_template_rows": null,
      "height": null,
      "justify_content": null,
      "justify_items": null,
      "left": null,
      "margin": null,
      "max_height": null,
      "max_width": null,
      "min_height": null,
      "min_width": null,
      "object_fit": null,
      "object_position": null,
      "order": null,
      "overflow": null,
      "overflow_x": null,
      "overflow_y": null,
      "padding": null,
      "right": null,
      "top": null,
      "visibility": null,
      "width": null
     }
    },
    "67728351b46a4c5b85c30efb514a3387": {
     "model_module": "@jupyter-widgets/controls",
     "model_module_version": "1.5.0",
     "model_name": "DescriptionStyleModel",
     "state": {
      "_model_module": "@jupyter-widgets/controls",
      "_model_module_version": "1.5.0",
      "_model_name": "DescriptionStyleModel",
      "_view_count": null,
      "_view_module": "@jupyter-widgets/base",
      "_view_module_version": "1.2.0",
      "_view_name": "StyleView",
      "description_width": ""
     }
    },
    "6b3749469888449d8a2fcd2b352022d7": {
     "model_module": "@jupyter-widgets/controls",
     "model_module_version": "1.5.0",
     "model_name": "HTMLModel",
     "state": {
      "_dom_classes": [],
      "_model_module": "@jupyter-widgets/controls",
      "_model_module_version": "1.5.0",
      "_model_name": "HTMLModel",
      "_view_count": null,
      "_view_module": "@jupyter-widgets/controls",
      "_view_module_version": "1.5.0",
      "_view_name": "HTMLView",
      "description": "",
      "description_tooltip": null,
      "layout": "IPY_MODEL_f095fa8279984f098d58ef7fa36c1fc9",
      "placeholder": "​",
      "style": "IPY_MODEL_67728351b46a4c5b85c30efb514a3387",
      "value": " 10/10 [00:00&lt;00:00, 22.71it/s]"
     }
    },
    "6ba4882ad8a0414ca8e35e3781b6db92": {
     "model_module": "@jupyter-widgets/base",
     "model_module_version": "1.2.0",
     "model_name": "LayoutModel",
     "state": {
      "_model_module": "@jupyter-widgets/base",
      "_model_module_version": "1.2.0",
      "_model_name": "LayoutModel",
      "_view_count": null,
      "_view_module": "@jupyter-widgets/base",
      "_view_module_version": "1.2.0",
      "_view_name": "LayoutView",
      "align_content": null,
      "align_items": null,
      "align_self": null,
      "border": null,
      "bottom": null,
      "display": null,
      "flex": null,
      "flex_flow": null,
      "grid_area": null,
      "grid_auto_columns": null,
      "grid_auto_flow": null,
      "grid_auto_rows": null,
      "grid_column": null,
      "grid_gap": null,
      "grid_row": null,
      "grid_template_areas": null,
      "grid_template_columns": null,
      "grid_template_rows": null,
      "height": null,
      "justify_content": null,
      "justify_items": null,
      "left": null,
      "margin": null,
      "max_height": null,
      "max_width": null,
      "min_height": null,
      "min_width": null,
      "object_fit": null,
      "object_position": null,
      "order": null,
      "overflow": null,
      "overflow_x": null,
      "overflow_y": null,
      "padding": null,
      "right": null,
      "top": null,
      "visibility": null,
      "width": null
     }
    },
    "6bec94da828d479d8c2429ba9510f7ba": {
     "model_module": "@jupyter-widgets/base",
     "model_module_version": "1.2.0",
     "model_name": "LayoutModel",
     "state": {
      "_model_module": "@jupyter-widgets/base",
      "_model_module_version": "1.2.0",
      "_model_name": "LayoutModel",
      "_view_count": null,
      "_view_module": "@jupyter-widgets/base",
      "_view_module_version": "1.2.0",
      "_view_name": "LayoutView",
      "align_content": null,
      "align_items": null,
      "align_self": null,
      "border": null,
      "bottom": null,
      "display": null,
      "flex": null,
      "flex_flow": null,
      "grid_area": null,
      "grid_auto_columns": null,
      "grid_auto_flow": null,
      "grid_auto_rows": null,
      "grid_column": null,
      "grid_gap": null,
      "grid_row": null,
      "grid_template_areas": null,
      "grid_template_columns": null,
      "grid_template_rows": null,
      "height": null,
      "justify_content": null,
      "justify_items": null,
      "left": null,
      "margin": null,
      "max_height": null,
      "max_width": null,
      "min_height": null,
      "min_width": null,
      "object_fit": null,
      "object_position": null,
      "order": null,
      "overflow": null,
      "overflow_x": null,
      "overflow_y": null,
      "padding": null,
      "right": null,
      "top": null,
      "visibility": null,
      "width": null
     }
    },
    "72f96fa77f2d4b5ab04bf22815cf95ed": {
     "model_module": "@jupyter-widgets/base",
     "model_module_version": "1.2.0",
     "model_name": "LayoutModel",
     "state": {
      "_model_module": "@jupyter-widgets/base",
      "_model_module_version": "1.2.0",
      "_model_name": "LayoutModel",
      "_view_count": null,
      "_view_module": "@jupyter-widgets/base",
      "_view_module_version": "1.2.0",
      "_view_name": "LayoutView",
      "align_content": null,
      "align_items": null,
      "align_self": null,
      "border": null,
      "bottom": null,
      "display": null,
      "flex": null,
      "flex_flow": null,
      "grid_area": null,
      "grid_auto_columns": null,
      "grid_auto_flow": null,
      "grid_auto_rows": null,
      "grid_column": null,
      "grid_gap": null,
      "grid_row": null,
      "grid_template_areas": null,
      "grid_template_columns": null,
      "grid_template_rows": null,
      "height": null,
      "justify_content": null,
      "justify_items": null,
      "left": null,
      "margin": null,
      "max_height": null,
      "max_width": null,
      "min_height": null,
      "min_width": null,
      "object_fit": null,
      "object_position": null,
      "order": null,
      "overflow": null,
      "overflow_x": null,
      "overflow_y": null,
      "padding": null,
      "right": null,
      "top": null,
      "visibility": null,
      "width": null
     }
    },
    "7889de6e5d284cc1b5a69315b95f8afa": {
     "model_module": "@jupyter-widgets/controls",
     "model_module_version": "1.5.0",
     "model_name": "FloatProgressModel",
     "state": {
      "_dom_classes": [],
      "_model_module": "@jupyter-widgets/controls",
      "_model_module_version": "1.5.0",
      "_model_name": "FloatProgressModel",
      "_view_count": null,
      "_view_module": "@jupyter-widgets/controls",
      "_view_module_version": "1.5.0",
      "_view_name": "ProgressView",
      "bar_style": "success",
      "description": "",
      "description_tooltip": null,
      "layout": "IPY_MODEL_252d0fa420f441e193e3ee9988f0ee44",
      "max": 10,
      "min": 0,
      "orientation": "horizontal",
      "style": "IPY_MODEL_a7a196d580e34341bb6677047521db2b",
      "value": 10
     }
    },
    "7aa3ea07646f462487b505945d98a0c2": {
     "model_module": "@jupyter-widgets/controls",
     "model_module_version": "1.5.0",
     "model_name": "DescriptionStyleModel",
     "state": {
      "_model_module": "@jupyter-widgets/controls",
      "_model_module_version": "1.5.0",
      "_model_name": "DescriptionStyleModel",
      "_view_count": null,
      "_view_module": "@jupyter-widgets/base",
      "_view_module_version": "1.2.0",
      "_view_name": "StyleView",
      "description_width": ""
     }
    },
    "7af0fae86d3a4af8b01bdad9425dc633": {
     "model_module": "@jupyter-widgets/controls",
     "model_module_version": "1.5.0",
     "model_name": "DescriptionStyleModel",
     "state": {
      "_model_module": "@jupyter-widgets/controls",
      "_model_module_version": "1.5.0",
      "_model_name": "DescriptionStyleModel",
      "_view_count": null,
      "_view_module": "@jupyter-widgets/base",
      "_view_module_version": "1.2.0",
      "_view_name": "StyleView",
      "description_width": ""
     }
    },
    "7bb47bf6f5ae4267ab9762f2b1fdedfe": {
     "model_module": "@jupyter-widgets/controls",
     "model_module_version": "1.5.0",
     "model_name": "HTMLModel",
     "state": {
      "_dom_classes": [],
      "_model_module": "@jupyter-widgets/controls",
      "_model_module_version": "1.5.0",
      "_model_name": "HTMLModel",
      "_view_count": null,
      "_view_module": "@jupyter-widgets/controls",
      "_view_module_version": "1.5.0",
      "_view_name": "HTMLView",
      "description": "",
      "description_tooltip": null,
      "layout": "IPY_MODEL_db6a4a698a2344ceab63460f487ec1b7",
      "placeholder": "​",
      "style": "IPY_MODEL_629ad50c45054111b73e5537cdabc1d3",
      "value": "Batches: 100%"
     }
    },
    "7cd615938e844a359b7859728a740091": {
     "model_module": "@jupyter-widgets/controls",
     "model_module_version": "1.5.0",
     "model_name": "DescriptionStyleModel",
     "state": {
      "_model_module": "@jupyter-widgets/controls",
      "_model_module_version": "1.5.0",
      "_model_name": "DescriptionStyleModel",
      "_view_count": null,
      "_view_module": "@jupyter-widgets/base",
      "_view_module_version": "1.2.0",
      "_view_name": "StyleView",
      "description_width": ""
     }
    },
    "804bef47421846a6bb5f79ed3dfc1666": {
     "model_module": "@jupyter-widgets/controls",
     "model_module_version": "1.5.0",
     "model_name": "HTMLModel",
     "state": {
      "_dom_classes": [],
      "_model_module": "@jupyter-widgets/controls",
      "_model_module_version": "1.5.0",
      "_model_name": "HTMLModel",
      "_view_count": null,
      "_view_module": "@jupyter-widgets/controls",
      "_view_module_version": "1.5.0",
      "_view_name": "HTMLView",
      "description": "",
      "description_tooltip": null,
      "layout": "IPY_MODEL_5d67471453ac431fb1a5e6569585f5f9",
      "placeholder": "​",
      "style": "IPY_MODEL_7af0fae86d3a4af8b01bdad9425dc633",
      "value": " 10/10 [00:00&lt;00:00, 17.63it/s]"
     }
    },
    "805d7cd5e5dc4c85ae8af7e565698f68": {
     "model_module": "@jupyter-widgets/controls",
     "model_module_version": "1.5.0",
     "model_name": "DescriptionStyleModel",
     "state": {
      "_model_module": "@jupyter-widgets/controls",
      "_model_module_version": "1.5.0",
      "_model_name": "DescriptionStyleModel",
      "_view_count": null,
      "_view_module": "@jupyter-widgets/base",
      "_view_module_version": "1.2.0",
      "_view_name": "StyleView",
      "description_width": ""
     }
    },
    "81b868ae67a84d3bb81675086251ff8b": {
     "model_module": "@jupyter-widgets/base",
     "model_module_version": "1.2.0",
     "model_name": "LayoutModel",
     "state": {
      "_model_module": "@jupyter-widgets/base",
      "_model_module_version": "1.2.0",
      "_model_name": "LayoutModel",
      "_view_count": null,
      "_view_module": "@jupyter-widgets/base",
      "_view_module_version": "1.2.0",
      "_view_name": "LayoutView",
      "align_content": null,
      "align_items": null,
      "align_self": null,
      "border": null,
      "bottom": null,
      "display": null,
      "flex": null,
      "flex_flow": null,
      "grid_area": null,
      "grid_auto_columns": null,
      "grid_auto_flow": null,
      "grid_auto_rows": null,
      "grid_column": null,
      "grid_gap": null,
      "grid_row": null,
      "grid_template_areas": null,
      "grid_template_columns": null,
      "grid_template_rows": null,
      "height": null,
      "justify_content": null,
      "justify_items": null,
      "left": null,
      "margin": null,
      "max_height": null,
      "max_width": null,
      "min_height": null,
      "min_width": null,
      "object_fit": null,
      "object_position": null,
      "order": null,
      "overflow": null,
      "overflow_x": null,
      "overflow_y": null,
      "padding": null,
      "right": null,
      "top": null,
      "visibility": null,
      "width": null
     }
    },
    "828d57c48a7b427da89dde7d1a8b99d7": {
     "model_module": "@jupyter-widgets/base",
     "model_module_version": "1.2.0",
     "model_name": "LayoutModel",
     "state": {
      "_model_module": "@jupyter-widgets/base",
      "_model_module_version": "1.2.0",
      "_model_name": "LayoutModel",
      "_view_count": null,
      "_view_module": "@jupyter-widgets/base",
      "_view_module_version": "1.2.0",
      "_view_name": "LayoutView",
      "align_content": null,
      "align_items": null,
      "align_self": null,
      "border": null,
      "bottom": null,
      "display": null,
      "flex": null,
      "flex_flow": null,
      "grid_area": null,
      "grid_auto_columns": null,
      "grid_auto_flow": null,
      "grid_auto_rows": null,
      "grid_column": null,
      "grid_gap": null,
      "grid_row": null,
      "grid_template_areas": null,
      "grid_template_columns": null,
      "grid_template_rows": null,
      "height": null,
      "justify_content": null,
      "justify_items": null,
      "left": null,
      "margin": null,
      "max_height": null,
      "max_width": null,
      "min_height": null,
      "min_width": null,
      "object_fit": null,
      "object_position": null,
      "order": null,
      "overflow": null,
      "overflow_x": null,
      "overflow_y": null,
      "padding": null,
      "right": null,
      "top": null,
      "visibility": null,
      "width": null
     }
    },
    "83683df834df47ae87b2c1c7e80600e6": {
     "model_module": "@jupyter-widgets/controls",
     "model_module_version": "1.5.0",
     "model_name": "HBoxModel",
     "state": {
      "_dom_classes": [],
      "_model_module": "@jupyter-widgets/controls",
      "_model_module_version": "1.5.0",
      "_model_name": "HBoxModel",
      "_view_count": null,
      "_view_module": "@jupyter-widgets/controls",
      "_view_module_version": "1.5.0",
      "_view_name": "HBoxView",
      "box_style": "",
      "children": [
       "IPY_MODEL_5b3565846eb74fe9bb1f966a327102fb",
       "IPY_MODEL_4a592023d76544dd81b67300486e0304",
       "IPY_MODEL_857fa1ee22914be08d64153de668361b"
      ],
      "layout": "IPY_MODEL_423682ad816b4901b606d3fd26624a19"
     }
    },
    "84826e2194b3424d89b6fe70c6d7320a": {
     "model_module": "@jupyter-widgets/controls",
     "model_module_version": "1.5.0",
     "model_name": "DescriptionStyleModel",
     "state": {
      "_model_module": "@jupyter-widgets/controls",
      "_model_module_version": "1.5.0",
      "_model_name": "DescriptionStyleModel",
      "_view_count": null,
      "_view_module": "@jupyter-widgets/base",
      "_view_module_version": "1.2.0",
      "_view_name": "StyleView",
      "description_width": ""
     }
    },
    "84f089ded19045baa7e446977adbf5ab": {
     "model_module": "@jupyter-widgets/controls",
     "model_module_version": "1.5.0",
     "model_name": "HTMLModel",
     "state": {
      "_dom_classes": [],
      "_model_module": "@jupyter-widgets/controls",
      "_model_module_version": "1.5.0",
      "_model_name": "HTMLModel",
      "_view_count": null,
      "_view_module": "@jupyter-widgets/controls",
      "_view_module_version": "1.5.0",
      "_view_name": "HTMLView",
      "description": "",
      "description_tooltip": null,
      "layout": "IPY_MODEL_e4274cc1d42247b89f8ff9de990eb3fa",
      "placeholder": "​",
      "style": "IPY_MODEL_7cd615938e844a359b7859728a740091",
      "value": " 10/10 [00:00&lt;00:00, 14.40it/s]"
     }
    },
    "857fa1ee22914be08d64153de668361b": {
     "model_module": "@jupyter-widgets/controls",
     "model_module_version": "1.5.0",
     "model_name": "HTMLModel",
     "state": {
      "_dom_classes": [],
      "_model_module": "@jupyter-widgets/controls",
      "_model_module_version": "1.5.0",
      "_model_name": "HTMLModel",
      "_view_count": null,
      "_view_module": "@jupyter-widgets/controls",
      "_view_module_version": "1.5.0",
      "_view_name": "HTMLView",
      "description": "",
      "description_tooltip": null,
      "layout": "IPY_MODEL_ff1583c20665428da4da2d83edd48ab6",
      "placeholder": "​",
      "style": "IPY_MODEL_84826e2194b3424d89b6fe70c6d7320a",
      "value": " 10/10 [00:00&lt;00:00, 20.62it/s]"
     }
    },
    "880bd99cc27344e3b9d3c818b5513491": {
     "model_module": "@jupyter-widgets/controls",
     "model_module_version": "1.5.0",
     "model_name": "DescriptionStyleModel",
     "state": {
      "_model_module": "@jupyter-widgets/controls",
      "_model_module_version": "1.5.0",
      "_model_name": "DescriptionStyleModel",
      "_view_count": null,
      "_view_module": "@jupyter-widgets/base",
      "_view_module_version": "1.2.0",
      "_view_name": "StyleView",
      "description_width": ""
     }
    },
    "88d87bd37023416ab28596bb81a801aa": {
     "model_module": "@jupyter-widgets/base",
     "model_module_version": "1.2.0",
     "model_name": "LayoutModel",
     "state": {
      "_model_module": "@jupyter-widgets/base",
      "_model_module_version": "1.2.0",
      "_model_name": "LayoutModel",
      "_view_count": null,
      "_view_module": "@jupyter-widgets/base",
      "_view_module_version": "1.2.0",
      "_view_name": "LayoutView",
      "align_content": null,
      "align_items": null,
      "align_self": null,
      "border": null,
      "bottom": null,
      "display": null,
      "flex": null,
      "flex_flow": null,
      "grid_area": null,
      "grid_auto_columns": null,
      "grid_auto_flow": null,
      "grid_auto_rows": null,
      "grid_column": null,
      "grid_gap": null,
      "grid_row": null,
      "grid_template_areas": null,
      "grid_template_columns": null,
      "grid_template_rows": null,
      "height": null,
      "justify_content": null,
      "justify_items": null,
      "left": null,
      "margin": null,
      "max_height": null,
      "max_width": null,
      "min_height": null,
      "min_width": null,
      "object_fit": null,
      "object_position": null,
      "order": null,
      "overflow": null,
      "overflow_x": null,
      "overflow_y": null,
      "padding": null,
      "right": null,
      "top": null,
      "visibility": null,
      "width": null
     }
    },
    "8f17eddf421d44088fdb03211d89d12a": {
     "model_module": "@jupyter-widgets/controls",
     "model_module_version": "1.5.0",
     "model_name": "HBoxModel",
     "state": {
      "_dom_classes": [],
      "_model_module": "@jupyter-widgets/controls",
      "_model_module_version": "1.5.0",
      "_model_name": "HBoxModel",
      "_view_count": null,
      "_view_module": "@jupyter-widgets/controls",
      "_view_module_version": "1.5.0",
      "_view_name": "HBoxView",
      "box_style": "",
      "children": [
       "IPY_MODEL_cd7fc47891c24e5c8b137b962821377c",
       "IPY_MODEL_55a2033117a744959fd02dc7e4179c42",
       "IPY_MODEL_84f089ded19045baa7e446977adbf5ab"
      ],
      "layout": "IPY_MODEL_b002aa1e94c645faa648ff9889780b75"
     }
    },
    "9e25169352a04090940cea264ab46bad": {
     "model_module": "@jupyter-widgets/base",
     "model_module_version": "1.2.0",
     "model_name": "LayoutModel",
     "state": {
      "_model_module": "@jupyter-widgets/base",
      "_model_module_version": "1.2.0",
      "_model_name": "LayoutModel",
      "_view_count": null,
      "_view_module": "@jupyter-widgets/base",
      "_view_module_version": "1.2.0",
      "_view_name": "LayoutView",
      "align_content": null,
      "align_items": null,
      "align_self": null,
      "border": null,
      "bottom": null,
      "display": null,
      "flex": null,
      "flex_flow": null,
      "grid_area": null,
      "grid_auto_columns": null,
      "grid_auto_flow": null,
      "grid_auto_rows": null,
      "grid_column": null,
      "grid_gap": null,
      "grid_row": null,
      "grid_template_areas": null,
      "grid_template_columns": null,
      "grid_template_rows": null,
      "height": null,
      "justify_content": null,
      "justify_items": null,
      "left": null,
      "margin": null,
      "max_height": null,
      "max_width": null,
      "min_height": null,
      "min_width": null,
      "object_fit": null,
      "object_position": null,
      "order": null,
      "overflow": null,
      "overflow_x": null,
      "overflow_y": null,
      "padding": null,
      "right": null,
      "top": null,
      "visibility": null,
      "width": null
     }
    },
    "9f096b7da413490797da7586d80c0cd6": {
     "model_module": "@jupyter-widgets/controls",
     "model_module_version": "1.5.0",
     "model_name": "FloatProgressModel",
     "state": {
      "_dom_classes": [],
      "_model_module": "@jupyter-widgets/controls",
      "_model_module_version": "1.5.0",
      "_model_name": "FloatProgressModel",
      "_view_count": null,
      "_view_module": "@jupyter-widgets/controls",
      "_view_module_version": "1.5.0",
      "_view_name": "ProgressView",
      "bar_style": "success",
      "description": "",
      "description_tooltip": null,
      "layout": "IPY_MODEL_f7d1383a916a4520bc7b26dff61c0e9a",
      "max": 10,
      "min": 0,
      "orientation": "horizontal",
      "style": "IPY_MODEL_2aa78854b99b4cfbb2ba1b4d48154719",
      "value": 10
     }
    },
    "a0c476d153a048228e80c6cbfcd712ce": {
     "model_module": "@jupyter-widgets/controls",
     "model_module_version": "1.5.0",
     "model_name": "ProgressStyleModel",
     "state": {
      "_model_module": "@jupyter-widgets/controls",
      "_model_module_version": "1.5.0",
      "_model_name": "ProgressStyleModel",
      "_view_count": null,
      "_view_module": "@jupyter-widgets/base",
      "_view_module_version": "1.2.0",
      "_view_name": "StyleView",
      "bar_color": null,
      "description_width": ""
     }
    },
    "a225da241e65492c88ee69cc246f1bca": {
     "model_module": "@jupyter-widgets/controls",
     "model_module_version": "1.5.0",
     "model_name": "DescriptionStyleModel",
     "state": {
      "_model_module": "@jupyter-widgets/controls",
      "_model_module_version": "1.5.0",
      "_model_name": "DescriptionStyleModel",
      "_view_count": null,
      "_view_module": "@jupyter-widgets/base",
      "_view_module_version": "1.2.0",
      "_view_name": "StyleView",
      "description_width": ""
     }
    },
    "a39f26d0ac6a4eaa8a31d708d7f8056f": {
     "model_module": "@jupyter-widgets/controls",
     "model_module_version": "1.5.0",
     "model_name": "ProgressStyleModel",
     "state": {
      "_model_module": "@jupyter-widgets/controls",
      "_model_module_version": "1.5.0",
      "_model_name": "ProgressStyleModel",
      "_view_count": null,
      "_view_module": "@jupyter-widgets/base",
      "_view_module_version": "1.2.0",
      "_view_name": "StyleView",
      "bar_color": null,
      "description_width": ""
     }
    },
    "a651e4b39e06481fa438fc1af4a5b6ba": {
     "model_module": "@jupyter-widgets/controls",
     "model_module_version": "1.5.0",
     "model_name": "DescriptionStyleModel",
     "state": {
      "_model_module": "@jupyter-widgets/controls",
      "_model_module_version": "1.5.0",
      "_model_name": "DescriptionStyleModel",
      "_view_count": null,
      "_view_module": "@jupyter-widgets/base",
      "_view_module_version": "1.2.0",
      "_view_name": "StyleView",
      "description_width": ""
     }
    },
    "a679eeca3dde4f36a0bce31b30810a81": {
     "model_module": "@jupyter-widgets/base",
     "model_module_version": "1.2.0",
     "model_name": "LayoutModel",
     "state": {
      "_model_module": "@jupyter-widgets/base",
      "_model_module_version": "1.2.0",
      "_model_name": "LayoutModel",
      "_view_count": null,
      "_view_module": "@jupyter-widgets/base",
      "_view_module_version": "1.2.0",
      "_view_name": "LayoutView",
      "align_content": null,
      "align_items": null,
      "align_self": null,
      "border": null,
      "bottom": null,
      "display": null,
      "flex": null,
      "flex_flow": null,
      "grid_area": null,
      "grid_auto_columns": null,
      "grid_auto_flow": null,
      "grid_auto_rows": null,
      "grid_column": null,
      "grid_gap": null,
      "grid_row": null,
      "grid_template_areas": null,
      "grid_template_columns": null,
      "grid_template_rows": null,
      "height": null,
      "justify_content": null,
      "justify_items": null,
      "left": null,
      "margin": null,
      "max_height": null,
      "max_width": null,
      "min_height": null,
      "min_width": null,
      "object_fit": null,
      "object_position": null,
      "order": null,
      "overflow": null,
      "overflow_x": null,
      "overflow_y": null,
      "padding": null,
      "right": null,
      "top": null,
      "visibility": null,
      "width": null
     }
    },
    "a7a196d580e34341bb6677047521db2b": {
     "model_module": "@jupyter-widgets/controls",
     "model_module_version": "1.5.0",
     "model_name": "ProgressStyleModel",
     "state": {
      "_model_module": "@jupyter-widgets/controls",
      "_model_module_version": "1.5.0",
      "_model_name": "ProgressStyleModel",
      "_view_count": null,
      "_view_module": "@jupyter-widgets/base",
      "_view_module_version": "1.2.0",
      "_view_name": "StyleView",
      "bar_color": null,
      "description_width": ""
     }
    },
    "a9c54fbe365f480f9408752fb0bb9b9b": {
     "model_module": "@jupyter-widgets/controls",
     "model_module_version": "1.5.0",
     "model_name": "HTMLModel",
     "state": {
      "_dom_classes": [],
      "_model_module": "@jupyter-widgets/controls",
      "_model_module_version": "1.5.0",
      "_model_name": "HTMLModel",
      "_view_count": null,
      "_view_module": "@jupyter-widgets/controls",
      "_view_module_version": "1.5.0",
      "_view_name": "HTMLView",
      "description": "",
      "description_tooltip": null,
      "layout": "IPY_MODEL_aa9ca2a4d44c4d698f5143a46bc29218",
      "placeholder": "​",
      "style": "IPY_MODEL_43915c773aaa4ae3a41b9847b6bdfdae",
      "value": "Batches: 100%"
     }
    },
    "aa9ca2a4d44c4d698f5143a46bc29218": {
     "model_module": "@jupyter-widgets/base",
     "model_module_version": "1.2.0",
     "model_name": "LayoutModel",
     "state": {
      "_model_module": "@jupyter-widgets/base",
      "_model_module_version": "1.2.0",
      "_model_name": "LayoutModel",
      "_view_count": null,
      "_view_module": "@jupyter-widgets/base",
      "_view_module_version": "1.2.0",
      "_view_name": "LayoutView",
      "align_content": null,
      "align_items": null,
      "align_self": null,
      "border": null,
      "bottom": null,
      "display": null,
      "flex": null,
      "flex_flow": null,
      "grid_area": null,
      "grid_auto_columns": null,
      "grid_auto_flow": null,
      "grid_auto_rows": null,
      "grid_column": null,
      "grid_gap": null,
      "grid_row": null,
      "grid_template_areas": null,
      "grid_template_columns": null,
      "grid_template_rows": null,
      "height": null,
      "justify_content": null,
      "justify_items": null,
      "left": null,
      "margin": null,
      "max_height": null,
      "max_width": null,
      "min_height": null,
      "min_width": null,
      "object_fit": null,
      "object_position": null,
      "order": null,
      "overflow": null,
      "overflow_x": null,
      "overflow_y": null,
      "padding": null,
      "right": null,
      "top": null,
      "visibility": null,
      "width": null
     }
    },
    "acf5c3cf2f55423fbb2624f850f49db5": {
     "model_module": "@jupyter-widgets/controls",
     "model_module_version": "1.5.0",
     "model_name": "HBoxModel",
     "state": {
      "_dom_classes": [],
      "_model_module": "@jupyter-widgets/controls",
      "_model_module_version": "1.5.0",
      "_model_name": "HBoxModel",
      "_view_count": null,
      "_view_module": "@jupyter-widgets/controls",
      "_view_module_version": "1.5.0",
      "_view_name": "HBoxView",
      "box_style": "",
      "children": [
       "IPY_MODEL_a9c54fbe365f480f9408752fb0bb9b9b",
       "IPY_MODEL_ae8681bf3bbc4a0da1538b580f0ebbea",
       "IPY_MODEL_4b38530d54034c5192ea4f1f452bbd26"
      ],
      "layout": "IPY_MODEL_5813be26a276456db31271618f3a58c5"
     }
    },
    "ae8681bf3bbc4a0da1538b580f0ebbea": {
     "model_module": "@jupyter-widgets/controls",
     "model_module_version": "1.5.0",
     "model_name": "FloatProgressModel",
     "state": {
      "_dom_classes": [],
      "_model_module": "@jupyter-widgets/controls",
      "_model_module_version": "1.5.0",
      "_model_name": "FloatProgressModel",
      "_view_count": null,
      "_view_module": "@jupyter-widgets/controls",
      "_view_module_version": "1.5.0",
      "_view_name": "ProgressView",
      "bar_style": "success",
      "description": "",
      "description_tooltip": null,
      "layout": "IPY_MODEL_01b2071a14054820bf7572ddca99c09b",
      "max": 10,
      "min": 0,
      "orientation": "horizontal",
      "style": "IPY_MODEL_a0c476d153a048228e80c6cbfcd712ce",
      "value": 10
     }
    },
    "af559685733b4f4d93267e2cc481acbf": {
     "model_module": "@jupyter-widgets/controls",
     "model_module_version": "1.5.0",
     "model_name": "ProgressStyleModel",
     "state": {
      "_model_module": "@jupyter-widgets/controls",
      "_model_module_version": "1.5.0",
      "_model_name": "ProgressStyleModel",
      "_view_count": null,
      "_view_module": "@jupyter-widgets/base",
      "_view_module_version": "1.2.0",
      "_view_name": "StyleView",
      "bar_color": null,
      "description_width": ""
     }
    },
    "b002aa1e94c645faa648ff9889780b75": {
     "model_module": "@jupyter-widgets/base",
     "model_module_version": "1.2.0",
     "model_name": "LayoutModel",
     "state": {
      "_model_module": "@jupyter-widgets/base",
      "_model_module_version": "1.2.0",
      "_model_name": "LayoutModel",
      "_view_count": null,
      "_view_module": "@jupyter-widgets/base",
      "_view_module_version": "1.2.0",
      "_view_name": "LayoutView",
      "align_content": null,
      "align_items": null,
      "align_self": null,
      "border": null,
      "bottom": null,
      "display": null,
      "flex": null,
      "flex_flow": null,
      "grid_area": null,
      "grid_auto_columns": null,
      "grid_auto_flow": null,
      "grid_auto_rows": null,
      "grid_column": null,
      "grid_gap": null,
      "grid_row": null,
      "grid_template_areas": null,
      "grid_template_columns": null,
      "grid_template_rows": null,
      "height": null,
      "justify_content": null,
      "justify_items": null,
      "left": null,
      "margin": null,
      "max_height": null,
      "max_width": null,
      "min_height": null,
      "min_width": null,
      "object_fit": null,
      "object_position": null,
      "order": null,
      "overflow": null,
      "overflow_x": null,
      "overflow_y": null,
      "padding": null,
      "right": null,
      "top": null,
      "visibility": null,
      "width": null
     }
    },
    "b69f577dca724144a2774a1f06c77b22": {
     "model_module": "@jupyter-widgets/controls",
     "model_module_version": "1.5.0",
     "model_name": "FloatProgressModel",
     "state": {
      "_dom_classes": [],
      "_model_module": "@jupyter-widgets/controls",
      "_model_module_version": "1.5.0",
      "_model_name": "FloatProgressModel",
      "_view_count": null,
      "_view_module": "@jupyter-widgets/controls",
      "_view_module_version": "1.5.0",
      "_view_name": "ProgressView",
      "bar_style": "success",
      "description": "",
      "description_tooltip": null,
      "layout": "IPY_MODEL_dfd275fee85c4d6a998781797ffdcb31",
      "max": 10,
      "min": 0,
      "orientation": "horizontal",
      "style": "IPY_MODEL_4ed59a92f4c646a6841383acc31e063c",
      "value": 10
     }
    },
    "ba171ff28c1e4404a668dc5b3c99cbcb": {
     "model_module": "@jupyter-widgets/controls",
     "model_module_version": "1.5.0",
     "model_name": "HTMLModel",
     "state": {
      "_dom_classes": [],
      "_model_module": "@jupyter-widgets/controls",
      "_model_module_version": "1.5.0",
      "_model_name": "HTMLModel",
      "_view_count": null,
      "_view_module": "@jupyter-widgets/controls",
      "_view_module_version": "1.5.0",
      "_view_name": "HTMLView",
      "description": "",
      "description_tooltip": null,
      "layout": "IPY_MODEL_228eb1be332c4cb898d3de14f5524c30",
      "placeholder": "​",
      "style": "IPY_MODEL_25a495b325124b33bd066f36219799ba",
      "value": " 10/10 [00:00&lt;00:00, 11.89it/s]"
     }
    },
    "bc7aefce8ae64f28a7f0647325b769bd": {
     "model_module": "@jupyter-widgets/base",
     "model_module_version": "1.2.0",
     "model_name": "LayoutModel",
     "state": {
      "_model_module": "@jupyter-widgets/base",
      "_model_module_version": "1.2.0",
      "_model_name": "LayoutModel",
      "_view_count": null,
      "_view_module": "@jupyter-widgets/base",
      "_view_module_version": "1.2.0",
      "_view_name": "LayoutView",
      "align_content": null,
      "align_items": null,
      "align_self": null,
      "border": null,
      "bottom": null,
      "display": null,
      "flex": null,
      "flex_flow": null,
      "grid_area": null,
      "grid_auto_columns": null,
      "grid_auto_flow": null,
      "grid_auto_rows": null,
      "grid_column": null,
      "grid_gap": null,
      "grid_row": null,
      "grid_template_areas": null,
      "grid_template_columns": null,
      "grid_template_rows": null,
      "height": null,
      "justify_content": null,
      "justify_items": null,
      "left": null,
      "margin": null,
      "max_height": null,
      "max_width": null,
      "min_height": null,
      "min_width": null,
      "object_fit": null,
      "object_position": null,
      "order": null,
      "overflow": null,
      "overflow_x": null,
      "overflow_y": null,
      "padding": null,
      "right": null,
      "top": null,
      "visibility": null,
      "width": null
     }
    },
    "bca0ca7761e34dbca3eeb531ca1a1638": {
     "model_module": "@jupyter-widgets/controls",
     "model_module_version": "1.5.0",
     "model_name": "FloatProgressModel",
     "state": {
      "_dom_classes": [],
      "_model_module": "@jupyter-widgets/controls",
      "_model_module_version": "1.5.0",
      "_model_name": "FloatProgressModel",
      "_view_count": null,
      "_view_module": "@jupyter-widgets/controls",
      "_view_module_version": "1.5.0",
      "_view_name": "ProgressView",
      "bar_style": "success",
      "description": "",
      "description_tooltip": null,
      "layout": "IPY_MODEL_44f9c52ab74b45388dd5ffacbd635362",
      "max": 10,
      "min": 0,
      "orientation": "horizontal",
      "style": "IPY_MODEL_fd5f5ab9289740b6b195ea2ae2882f49",
      "value": 10
     }
    },
    "c250ad0798ad433280fdfb59658b8994": {
     "model_module": "@jupyter-widgets/controls",
     "model_module_version": "1.5.0",
     "model_name": "DescriptionStyleModel",
     "state": {
      "_model_module": "@jupyter-widgets/controls",
      "_model_module_version": "1.5.0",
      "_model_name": "DescriptionStyleModel",
      "_view_count": null,
      "_view_module": "@jupyter-widgets/base",
      "_view_module_version": "1.2.0",
      "_view_name": "StyleView",
      "description_width": ""
     }
    },
    "c74e2809efe54c4bbfb4add920c26322": {
     "model_module": "@jupyter-widgets/controls",
     "model_module_version": "1.5.0",
     "model_name": "HTMLModel",
     "state": {
      "_dom_classes": [],
      "_model_module": "@jupyter-widgets/controls",
      "_model_module_version": "1.5.0",
      "_model_name": "HTMLModel",
      "_view_count": null,
      "_view_module": "@jupyter-widgets/controls",
      "_view_module_version": "1.5.0",
      "_view_name": "HTMLView",
      "description": "",
      "description_tooltip": null,
      "layout": "IPY_MODEL_515aefed55dc437b8193c4995553c25f",
      "placeholder": "​",
      "style": "IPY_MODEL_a225da241e65492c88ee69cc246f1bca",
      "value": " 10/10 [00:00&lt;00:00, 16.14it/s]"
     }
    },
    "c769fc72dad14565a45de4e9c18ce104": {
     "model_module": "@jupyter-widgets/controls",
     "model_module_version": "1.5.0",
     "model_name": "HTMLModel",
     "state": {
      "_dom_classes": [],
      "_model_module": "@jupyter-widgets/controls",
      "_model_module_version": "1.5.0",
      "_model_name": "HTMLModel",
      "_view_count": null,
      "_view_module": "@jupyter-widgets/controls",
      "_view_module_version": "1.5.0",
      "_view_name": "HTMLView",
      "description": "",
      "description_tooltip": null,
      "layout": "IPY_MODEL_2f0ff2ec2d4a48078073a708e0b7f14a",
      "placeholder": "​",
      "style": "IPY_MODEL_805d7cd5e5dc4c85ae8af7e565698f68",
      "value": "Batches: 100%"
     }
    },
    "c7708eb3650047fa84418296858f6d5d": {
     "model_module": "@jupyter-widgets/controls",
     "model_module_version": "1.5.0",
     "model_name": "HBoxModel",
     "state": {
      "_dom_classes": [],
      "_model_module": "@jupyter-widgets/controls",
      "_model_module_version": "1.5.0",
      "_model_name": "HBoxModel",
      "_view_count": null,
      "_view_module": "@jupyter-widgets/controls",
      "_view_module_version": "1.5.0",
      "_view_name": "HBoxView",
      "box_style": "",
      "children": [
       "IPY_MODEL_2bfa3400c46c4872b8330def045b5cb7",
       "IPY_MODEL_7889de6e5d284cc1b5a69315b95f8afa",
       "IPY_MODEL_6b3749469888449d8a2fcd2b352022d7"
      ],
      "layout": "IPY_MODEL_51205de2b44540ef87d5b563556f6c42"
     }
    },
    "c9289e174fae4e4ea622cee1876701b6": {
     "model_module": "@jupyter-widgets/controls",
     "model_module_version": "1.5.0",
     "model_name": "HTMLModel",
     "state": {
      "_dom_classes": [],
      "_model_module": "@jupyter-widgets/controls",
      "_model_module_version": "1.5.0",
      "_model_name": "HTMLModel",
      "_view_count": null,
      "_view_module": "@jupyter-widgets/controls",
      "_view_module_version": "1.5.0",
      "_view_name": "HTMLView",
      "description": "",
      "description_tooltip": null,
      "layout": "IPY_MODEL_bc7aefce8ae64f28a7f0647325b769bd",
      "placeholder": "​",
      "style": "IPY_MODEL_a651e4b39e06481fa438fc1af4a5b6ba",
      "value": "Batches: 100%"
     }
    },
    "cc5010206a5b41e98b12779218265f9e": {
     "model_module": "@jupyter-widgets/base",
     "model_module_version": "1.2.0",
     "model_name": "LayoutModel",
     "state": {
      "_model_module": "@jupyter-widgets/base",
      "_model_module_version": "1.2.0",
      "_model_name": "LayoutModel",
      "_view_count": null,
      "_view_module": "@jupyter-widgets/base",
      "_view_module_version": "1.2.0",
      "_view_name": "LayoutView",
      "align_content": null,
      "align_items": null,
      "align_self": null,
      "border": null,
      "bottom": null,
      "display": null,
      "flex": null,
      "flex_flow": null,
      "grid_area": null,
      "grid_auto_columns": null,
      "grid_auto_flow": null,
      "grid_auto_rows": null,
      "grid_column": null,
      "grid_gap": null,
      "grid_row": null,
      "grid_template_areas": null,
      "grid_template_columns": null,
      "grid_template_rows": null,
      "height": null,
      "justify_content": null,
      "justify_items": null,
      "left": null,
      "margin": null,
      "max_height": null,
      "max_width": null,
      "min_height": null,
      "min_width": null,
      "object_fit": null,
      "object_position": null,
      "order": null,
      "overflow": null,
      "overflow_x": null,
      "overflow_y": null,
      "padding": null,
      "right": null,
      "top": null,
      "visibility": null,
      "width": null
     }
    },
    "cd7fc47891c24e5c8b137b962821377c": {
     "model_module": "@jupyter-widgets/controls",
     "model_module_version": "1.5.0",
     "model_name": "HTMLModel",
     "state": {
      "_dom_classes": [],
      "_model_module": "@jupyter-widgets/controls",
      "_model_module_version": "1.5.0",
      "_model_name": "HTMLModel",
      "_view_count": null,
      "_view_module": "@jupyter-widgets/controls",
      "_view_module_version": "1.5.0",
      "_view_name": "HTMLView",
      "description": "",
      "description_tooltip": null,
      "layout": "IPY_MODEL_f61d0c405a22478189012edd0deaea4a",
      "placeholder": "​",
      "style": "IPY_MODEL_880bd99cc27344e3b9d3c818b5513491",
      "value": "Batches: 100%"
     }
    },
    "d01d62d3453a41ae8cb2a0ee0c9e435d": {
     "model_module": "@jupyter-widgets/controls",
     "model_module_version": "1.5.0",
     "model_name": "HTMLModel",
     "state": {
      "_dom_classes": [],
      "_model_module": "@jupyter-widgets/controls",
      "_model_module_version": "1.5.0",
      "_model_name": "HTMLModel",
      "_view_count": null,
      "_view_module": "@jupyter-widgets/controls",
      "_view_module_version": "1.5.0",
      "_view_name": "HTMLView",
      "description": "",
      "description_tooltip": null,
      "layout": "IPY_MODEL_a679eeca3dde4f36a0bce31b30810a81",
      "placeholder": "​",
      "style": "IPY_MODEL_7aa3ea07646f462487b505945d98a0c2",
      "value": "Batches: 100%"
     }
    },
    "d1b7adfe2ad846e0ad47fd7c3a3f89fe": {
     "model_module": "@jupyter-widgets/controls",
     "model_module_version": "1.5.0",
     "model_name": "DescriptionStyleModel",
     "state": {
      "_model_module": "@jupyter-widgets/controls",
      "_model_module_version": "1.5.0",
      "_model_name": "DescriptionStyleModel",
      "_view_count": null,
      "_view_module": "@jupyter-widgets/base",
      "_view_module_version": "1.2.0",
      "_view_name": "StyleView",
      "description_width": ""
     }
    },
    "d2511611dfcb46179a46c0a71deaec6b": {
     "model_module": "@jupyter-widgets/base",
     "model_module_version": "1.2.0",
     "model_name": "LayoutModel",
     "state": {
      "_model_module": "@jupyter-widgets/base",
      "_model_module_version": "1.2.0",
      "_model_name": "LayoutModel",
      "_view_count": null,
      "_view_module": "@jupyter-widgets/base",
      "_view_module_version": "1.2.0",
      "_view_name": "LayoutView",
      "align_content": null,
      "align_items": null,
      "align_self": null,
      "border": null,
      "bottom": null,
      "display": null,
      "flex": null,
      "flex_flow": null,
      "grid_area": null,
      "grid_auto_columns": null,
      "grid_auto_flow": null,
      "grid_auto_rows": null,
      "grid_column": null,
      "grid_gap": null,
      "grid_row": null,
      "grid_template_areas": null,
      "grid_template_columns": null,
      "grid_template_rows": null,
      "height": null,
      "justify_content": null,
      "justify_items": null,
      "left": null,
      "margin": null,
      "max_height": null,
      "max_width": null,
      "min_height": null,
      "min_width": null,
      "object_fit": null,
      "object_position": null,
      "order": null,
      "overflow": null,
      "overflow_x": null,
      "overflow_y": null,
      "padding": null,
      "right": null,
      "top": null,
      "visibility": null,
      "width": null
     }
    },
    "d6a6b06840644eb999c19e39c234a2f2": {
     "model_module": "@jupyter-widgets/controls",
     "model_module_version": "1.5.0",
     "model_name": "DescriptionStyleModel",
     "state": {
      "_model_module": "@jupyter-widgets/controls",
      "_model_module_version": "1.5.0",
      "_model_name": "DescriptionStyleModel",
      "_view_count": null,
      "_view_module": "@jupyter-widgets/base",
      "_view_module_version": "1.2.0",
      "_view_name": "StyleView",
      "description_width": ""
     }
    },
    "db6a4a698a2344ceab63460f487ec1b7": {
     "model_module": "@jupyter-widgets/base",
     "model_module_version": "1.2.0",
     "model_name": "LayoutModel",
     "state": {
      "_model_module": "@jupyter-widgets/base",
      "_model_module_version": "1.2.0",
      "_model_name": "LayoutModel",
      "_view_count": null,
      "_view_module": "@jupyter-widgets/base",
      "_view_module_version": "1.2.0",
      "_view_name": "LayoutView",
      "align_content": null,
      "align_items": null,
      "align_self": null,
      "border": null,
      "bottom": null,
      "display": null,
      "flex": null,
      "flex_flow": null,
      "grid_area": null,
      "grid_auto_columns": null,
      "grid_auto_flow": null,
      "grid_auto_rows": null,
      "grid_column": null,
      "grid_gap": null,
      "grid_row": null,
      "grid_template_areas": null,
      "grid_template_columns": null,
      "grid_template_rows": null,
      "height": null,
      "justify_content": null,
      "justify_items": null,
      "left": null,
      "margin": null,
      "max_height": null,
      "max_width": null,
      "min_height": null,
      "min_width": null,
      "object_fit": null,
      "object_position": null,
      "order": null,
      "overflow": null,
      "overflow_x": null,
      "overflow_y": null,
      "padding": null,
      "right": null,
      "top": null,
      "visibility": null,
      "width": null
     }
    },
    "deac8930d92e44028acd82dfba7191a2": {
     "model_module": "@jupyter-widgets/controls",
     "model_module_version": "1.5.0",
     "model_name": "FloatProgressModel",
     "state": {
      "_dom_classes": [],
      "_model_module": "@jupyter-widgets/controls",
      "_model_module_version": "1.5.0",
      "_model_name": "FloatProgressModel",
      "_view_count": null,
      "_view_module": "@jupyter-widgets/controls",
      "_view_module_version": "1.5.0",
      "_view_name": "ProgressView",
      "bar_style": "success",
      "description": "",
      "description_tooltip": null,
      "layout": "IPY_MODEL_6ba4882ad8a0414ca8e35e3781b6db92",
      "max": 10,
      "min": 0,
      "orientation": "horizontal",
      "style": "IPY_MODEL_af559685733b4f4d93267e2cc481acbf",
      "value": 10
     }
    },
    "dfd275fee85c4d6a998781797ffdcb31": {
     "model_module": "@jupyter-widgets/base",
     "model_module_version": "1.2.0",
     "model_name": "LayoutModel",
     "state": {
      "_model_module": "@jupyter-widgets/base",
      "_model_module_version": "1.2.0",
      "_model_name": "LayoutModel",
      "_view_count": null,
      "_view_module": "@jupyter-widgets/base",
      "_view_module_version": "1.2.0",
      "_view_name": "LayoutView",
      "align_content": null,
      "align_items": null,
      "align_self": null,
      "border": null,
      "bottom": null,
      "display": null,
      "flex": null,
      "flex_flow": null,
      "grid_area": null,
      "grid_auto_columns": null,
      "grid_auto_flow": null,
      "grid_auto_rows": null,
      "grid_column": null,
      "grid_gap": null,
      "grid_row": null,
      "grid_template_areas": null,
      "grid_template_columns": null,
      "grid_template_rows": null,
      "height": null,
      "justify_content": null,
      "justify_items": null,
      "left": null,
      "margin": null,
      "max_height": null,
      "max_width": null,
      "min_height": null,
      "min_width": null,
      "object_fit": null,
      "object_position": null,
      "order": null,
      "overflow": null,
      "overflow_x": null,
      "overflow_y": null,
      "padding": null,
      "right": null,
      "top": null,
      "visibility": null,
      "width": null
     }
    },
    "e030a6aef5cf4aa8ab827ae53b0ec757": {
     "model_module": "@jupyter-widgets/controls",
     "model_module_version": "1.5.0",
     "model_name": "HBoxModel",
     "state": {
      "_dom_classes": [],
      "_model_module": "@jupyter-widgets/controls",
      "_model_module_version": "1.5.0",
      "_model_name": "HBoxModel",
      "_view_count": null,
      "_view_module": "@jupyter-widgets/controls",
      "_view_module_version": "1.5.0",
      "_view_name": "HBoxView",
      "box_style": "",
      "children": [
       "IPY_MODEL_c769fc72dad14565a45de4e9c18ce104",
       "IPY_MODEL_1c4c43525f7343c29b53e1280fc1ad5a",
       "IPY_MODEL_804bef47421846a6bb5f79ed3dfc1666"
      ],
      "layout": "IPY_MODEL_d2511611dfcb46179a46c0a71deaec6b"
     }
    },
    "e1cea41a593f48a1a69e2fce6d07a0f0": {
     "model_module": "@jupyter-widgets/controls",
     "model_module_version": "1.5.0",
     "model_name": "DescriptionStyleModel",
     "state": {
      "_model_module": "@jupyter-widgets/controls",
      "_model_module_version": "1.5.0",
      "_model_name": "DescriptionStyleModel",
      "_view_count": null,
      "_view_module": "@jupyter-widgets/base",
      "_view_module_version": "1.2.0",
      "_view_name": "StyleView",
      "description_width": ""
     }
    },
    "e4274cc1d42247b89f8ff9de990eb3fa": {
     "model_module": "@jupyter-widgets/base",
     "model_module_version": "1.2.0",
     "model_name": "LayoutModel",
     "state": {
      "_model_module": "@jupyter-widgets/base",
      "_model_module_version": "1.2.0",
      "_model_name": "LayoutModel",
      "_view_count": null,
      "_view_module": "@jupyter-widgets/base",
      "_view_module_version": "1.2.0",
      "_view_name": "LayoutView",
      "align_content": null,
      "align_items": null,
      "align_self": null,
      "border": null,
      "bottom": null,
      "display": null,
      "flex": null,
      "flex_flow": null,
      "grid_area": null,
      "grid_auto_columns": null,
      "grid_auto_flow": null,
      "grid_auto_rows": null,
      "grid_column": null,
      "grid_gap": null,
      "grid_row": null,
      "grid_template_areas": null,
      "grid_template_columns": null,
      "grid_template_rows": null,
      "height": null,
      "justify_content": null,
      "justify_items": null,
      "left": null,
      "margin": null,
      "max_height": null,
      "max_width": null,
      "min_height": null,
      "min_width": null,
      "object_fit": null,
      "object_position": null,
      "order": null,
      "overflow": null,
      "overflow_x": null,
      "overflow_y": null,
      "padding": null,
      "right": null,
      "top": null,
      "visibility": null,
      "width": null
     }
    },
    "e9f00e5b300e491e9a8ff52a4bf2a2ca": {
     "model_module": "@jupyter-widgets/controls",
     "model_module_version": "1.5.0",
     "model_name": "HTMLModel",
     "state": {
      "_dom_classes": [],
      "_model_module": "@jupyter-widgets/controls",
      "_model_module_version": "1.5.0",
      "_model_name": "HTMLModel",
      "_view_count": null,
      "_view_module": "@jupyter-widgets/controls",
      "_view_module_version": "1.5.0",
      "_view_name": "HTMLView",
      "description": "",
      "description_tooltip": null,
      "layout": "IPY_MODEL_4b8bca1ca33743678221d7ed338a2729",
      "placeholder": "​",
      "style": "IPY_MODEL_3fd652f90ff84f779ba51d7e6b5825e7",
      "value": " 10/10 [00:00&lt;00:00, 21.87it/s]"
     }
    },
    "f095fa8279984f098d58ef7fa36c1fc9": {
     "model_module": "@jupyter-widgets/base",
     "model_module_version": "1.2.0",
     "model_name": "LayoutModel",
     "state": {
      "_model_module": "@jupyter-widgets/base",
      "_model_module_version": "1.2.0",
      "_model_name": "LayoutModel",
      "_view_count": null,
      "_view_module": "@jupyter-widgets/base",
      "_view_module_version": "1.2.0",
      "_view_name": "LayoutView",
      "align_content": null,
      "align_items": null,
      "align_self": null,
      "border": null,
      "bottom": null,
      "display": null,
      "flex": null,
      "flex_flow": null,
      "grid_area": null,
      "grid_auto_columns": null,
      "grid_auto_flow": null,
      "grid_auto_rows": null,
      "grid_column": null,
      "grid_gap": null,
      "grid_row": null,
      "grid_template_areas": null,
      "grid_template_columns": null,
      "grid_template_rows": null,
      "height": null,
      "justify_content": null,
      "justify_items": null,
      "left": null,
      "margin": null,
      "max_height": null,
      "max_width": null,
      "min_height": null,
      "min_width": null,
      "object_fit": null,
      "object_position": null,
      "order": null,
      "overflow": null,
      "overflow_x": null,
      "overflow_y": null,
      "padding": null,
      "right": null,
      "top": null,
      "visibility": null,
      "width": null
     }
    },
    "f61d0c405a22478189012edd0deaea4a": {
     "model_module": "@jupyter-widgets/base",
     "model_module_version": "1.2.0",
     "model_name": "LayoutModel",
     "state": {
      "_model_module": "@jupyter-widgets/base",
      "_model_module_version": "1.2.0",
      "_model_name": "LayoutModel",
      "_view_count": null,
      "_view_module": "@jupyter-widgets/base",
      "_view_module_version": "1.2.0",
      "_view_name": "LayoutView",
      "align_content": null,
      "align_items": null,
      "align_self": null,
      "border": null,
      "bottom": null,
      "display": null,
      "flex": null,
      "flex_flow": null,
      "grid_area": null,
      "grid_auto_columns": null,
      "grid_auto_flow": null,
      "grid_auto_rows": null,
      "grid_column": null,
      "grid_gap": null,
      "grid_row": null,
      "grid_template_areas": null,
      "grid_template_columns": null,
      "grid_template_rows": null,
      "height": null,
      "justify_content": null,
      "justify_items": null,
      "left": null,
      "margin": null,
      "max_height": null,
      "max_width": null,
      "min_height": null,
      "min_width": null,
      "object_fit": null,
      "object_position": null,
      "order": null,
      "overflow": null,
      "overflow_x": null,
      "overflow_y": null,
      "padding": null,
      "right": null,
      "top": null,
      "visibility": null,
      "width": null
     }
    },
    "f7d1383a916a4520bc7b26dff61c0e9a": {
     "model_module": "@jupyter-widgets/base",
     "model_module_version": "1.2.0",
     "model_name": "LayoutModel",
     "state": {
      "_model_module": "@jupyter-widgets/base",
      "_model_module_version": "1.2.0",
      "_model_name": "LayoutModel",
      "_view_count": null,
      "_view_module": "@jupyter-widgets/base",
      "_view_module_version": "1.2.0",
      "_view_name": "LayoutView",
      "align_content": null,
      "align_items": null,
      "align_self": null,
      "border": null,
      "bottom": null,
      "display": null,
      "flex": null,
      "flex_flow": null,
      "grid_area": null,
      "grid_auto_columns": null,
      "grid_auto_flow": null,
      "grid_auto_rows": null,
      "grid_column": null,
      "grid_gap": null,
      "grid_row": null,
      "grid_template_areas": null,
      "grid_template_columns": null,
      "grid_template_rows": null,
      "height": null,
      "justify_content": null,
      "justify_items": null,
      "left": null,
      "margin": null,
      "max_height": null,
      "max_width": null,
      "min_height": null,
      "min_width": null,
      "object_fit": null,
      "object_position": null,
      "order": null,
      "overflow": null,
      "overflow_x": null,
      "overflow_y": null,
      "padding": null,
      "right": null,
      "top": null,
      "visibility": null,
      "width": null
     }
    },
    "fa9d284d5626439097a433f3fdceb649": {
     "model_module": "@jupyter-widgets/controls",
     "model_module_version": "1.5.0",
     "model_name": "ProgressStyleModel",
     "state": {
      "_model_module": "@jupyter-widgets/controls",
      "_model_module_version": "1.5.0",
      "_model_name": "ProgressStyleModel",
      "_view_count": null,
      "_view_module": "@jupyter-widgets/base",
      "_view_module_version": "1.2.0",
      "_view_name": "StyleView",
      "bar_color": null,
      "description_width": ""
     }
    },
    "faba96e4026a4e84ad2cb8c30527bad6": {
     "model_module": "@jupyter-widgets/controls",
     "model_module_version": "1.5.0",
     "model_name": "DescriptionStyleModel",
     "state": {
      "_model_module": "@jupyter-widgets/controls",
      "_model_module_version": "1.5.0",
      "_model_name": "DescriptionStyleModel",
      "_view_count": null,
      "_view_module": "@jupyter-widgets/base",
      "_view_module_version": "1.2.0",
      "_view_name": "StyleView",
      "description_width": ""
     }
    },
    "fd5f5ab9289740b6b195ea2ae2882f49": {
     "model_module": "@jupyter-widgets/controls",
     "model_module_version": "1.5.0",
     "model_name": "ProgressStyleModel",
     "state": {
      "_model_module": "@jupyter-widgets/controls",
      "_model_module_version": "1.5.0",
      "_model_name": "ProgressStyleModel",
      "_view_count": null,
      "_view_module": "@jupyter-widgets/base",
      "_view_module_version": "1.2.0",
      "_view_name": "StyleView",
      "bar_color": null,
      "description_width": ""
     }
    },
    "ff1583c20665428da4da2d83edd48ab6": {
     "model_module": "@jupyter-widgets/base",
     "model_module_version": "1.2.0",
     "model_name": "LayoutModel",
     "state": {
      "_model_module": "@jupyter-widgets/base",
      "_model_module_version": "1.2.0",
      "_model_name": "LayoutModel",
      "_view_count": null,
      "_view_module": "@jupyter-widgets/base",
      "_view_module_version": "1.2.0",
      "_view_name": "LayoutView",
      "align_content": null,
      "align_items": null,
      "align_self": null,
      "border": null,
      "bottom": null,
      "display": null,
      "flex": null,
      "flex_flow": null,
      "grid_area": null,
      "grid_auto_columns": null,
      "grid_auto_flow": null,
      "grid_auto_rows": null,
      "grid_column": null,
      "grid_gap": null,
      "grid_row": null,
      "grid_template_areas": null,
      "grid_template_columns": null,
      "grid_template_rows": null,
      "height": null,
      "justify_content": null,
      "justify_items": null,
      "left": null,
      "margin": null,
      "max_height": null,
      "max_width": null,
      "min_height": null,
      "min_width": null,
      "object_fit": null,
      "object_position": null,
      "order": null,
      "overflow": null,
      "overflow_x": null,
      "overflow_y": null,
      "padding": null,
      "right": null,
      "top": null,
      "visibility": null,
      "width": null
     }
    },
    "ff199bfd4d7d44c789192ab6ed13c873": {
     "model_module": "@jupyter-widgets/controls",
     "model_module_version": "1.5.0",
     "model_name": "DescriptionStyleModel",
     "state": {
      "_model_module": "@jupyter-widgets/controls",
      "_model_module_version": "1.5.0",
      "_model_name": "DescriptionStyleModel",
      "_view_count": null,
      "_view_module": "@jupyter-widgets/base",
      "_view_module_version": "1.2.0",
      "_view_name": "StyleView",
      "description_width": ""
     }
    }
   }
  }
 },
 "nbformat": 4,
 "nbformat_minor": 4
}
